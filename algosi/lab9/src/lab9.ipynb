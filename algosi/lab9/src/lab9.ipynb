{
 "cells": [
  {
   "cell_type": "code",
   "id": "initial_id",
   "metadata": {
    "collapsed": true,
    "ExecuteTime": {
     "end_time": "2025-06-06T17:59:11.461556Z",
     "start_time": "2025-06-06T17:59:10.584047Z"
    }
   },
   "source": "!pip install scipy numpy pandas",
   "outputs": [
    {
     "name": "stdout",
     "output_type": "stream",
     "text": [
      "Requirement already satisfied: scipy in d:\\statistics-and-data-analysis\\.venv\\lib\\site-packages (1.15.3)\n",
      "Requirement already satisfied: numpy in d:\\statistics-and-data-analysis\\.venv\\lib\\site-packages (2.2.6)\n",
      "Requirement already satisfied: pandas in d:\\statistics-and-data-analysis\\.venv\\lib\\site-packages (2.2.3)\n",
      "Requirement already satisfied: python-dateutil>=2.8.2 in d:\\statistics-and-data-analysis\\.venv\\lib\\site-packages (from pandas) (2.9.0.post0)\n",
      "Requirement already satisfied: pytz>=2020.1 in d:\\statistics-and-data-analysis\\.venv\\lib\\site-packages (from pandas) (2025.2)\n",
      "Requirement already satisfied: tzdata>=2022.7 in d:\\statistics-and-data-analysis\\.venv\\lib\\site-packages (from pandas) (2025.2)\n",
      "Requirement already satisfied: six>=1.5 in d:\\statistics-and-data-analysis\\.venv\\lib\\site-packages (from python-dateutil>=2.8.2->pandas) (1.17.0)\n"
     ]
    }
   ],
   "execution_count": 1
  },
  {
   "metadata": {},
   "cell_type": "markdown",
   "source": "## Импорт библиотек",
   "id": "55651549aab58c3b"
  },
  {
   "metadata": {
    "ExecuteTime": {
     "end_time": "2025-06-06T17:59:11.797923Z",
     "start_time": "2025-06-06T17:59:11.467152Z"
    }
   },
   "cell_type": "code",
   "source": [
    "import numpy as np\n",
    "import pandas as pd\n",
    "from scipy.optimize import minimize"
   ],
   "id": "62625eaf1817f391",
   "outputs": [],
   "execution_count": 2
  },
  {
   "metadata": {},
   "cell_type": "markdown",
   "source": [
    "##  Исходные данные\n",
    "Я не до конца понял само задание с рисками, надо было выбрать из 4 направлений - лучший или посчитать как распределить свой портфель среди всех."
   ],
   "id": "b3043f930f131979"
  },
  {
   "metadata": {
    "ExecuteTime": {
     "end_time": "2025-06-06T17:59:11.925402Z",
     "start_time": "2025-06-06T17:59:11.923028Z"
    }
   },
   "cell_type": "code",
   "source": [
    "initial_capital = 1000000\n",
    "years = 3\n",
    "risk_free_rate = 0.05\n",
    "\n",
    "asset_details = {\n",
    "    'Акции': {\n",
    "        'return': 0.20,\n",
    "        'risk_coeff': 0.5,\n",
    "        'bounds': (0.10, 0.40)\n",
    "    },\n",
    "    'Облигации': {\n",
    "        'return': 0.11,\n",
    "        'risk_coeff': 0.1,\n",
    "        'bounds': (0.20, 0.80)\n",
    "    },\n",
    "    'ПИФы': {\n",
    "        'return': 0.15,\n",
    "        'risk_coeff': 0.25,\n",
    "        'bounds': (0.10, 0.70)\n",
    "    },\n",
    "    'Стартап друга': {\n",
    "        'return': 1.00,\n",
    "        'risk_coeff': 0.9,\n",
    "        'bounds': (0.00, 0.30)\n",
    "    }\n",
    "}"
   ],
   "id": "57f72eace09aa79a",
   "outputs": [],
   "execution_count": 3
  },
  {
   "metadata": {
    "ExecuteTime": {
     "end_time": "2025-06-06T17:59:11.936428Z",
     "start_time": "2025-06-06T17:59:11.934396Z"
    }
   },
   "cell_type": "code",
   "source": "asset_names = list(asset_details.keys())",
   "id": "40e07a8a5b022d79",
   "outputs": [],
   "execution_count": 4
  },
  {
   "metadata": {
    "ExecuteTime": {
     "end_time": "2025-06-06T17:59:11.946612Z",
     "start_time": "2025-06-06T17:59:11.944338Z"
    }
   },
   "cell_type": "code",
   "source": "# asset_names",
   "id": "90a43e2974091caf",
   "outputs": [],
   "execution_count": 5
  },
  {
   "metadata": {
    "ExecuteTime": {
     "end_time": "2025-06-06T17:59:11.953875Z",
     "start_time": "2025-06-06T17:59:11.951697Z"
    }
   },
   "cell_type": "code",
   "source": [
    "returns = np.array([asset_details[asset]['return'] for asset in asset_names])\n",
    "risk_coeffs = np.array([asset_details[asset]['risk_coeff'] for asset in asset_names])\n",
    "bounds = [asset_details[asset]['bounds'] for asset in asset_names]\n"
   ],
   "id": "53b2022c41ce2586",
   "outputs": [],
   "execution_count": 6
  },
  {
   "metadata": {
    "ExecuteTime": {
     "end_time": "2025-06-06T17:59:11.964502Z",
     "start_time": "2025-06-06T17:59:11.962739Z"
    }
   },
   "cell_type": "code",
   "source": "#returns",
   "id": "551227f55f1c2883",
   "outputs": [],
   "execution_count": 7
  },
  {
   "metadata": {
    "ExecuteTime": {
     "end_time": "2025-06-06T17:59:11.973430Z",
     "start_time": "2025-06-06T17:59:11.971574Z"
    }
   },
   "cell_type": "code",
   "source": "#risk_coeffs",
   "id": "8a072498f85c2359",
   "outputs": [],
   "execution_count": 8
  },
  {
   "metadata": {
    "ExecuteTime": {
     "end_time": "2025-06-06T17:59:11.982015Z",
     "start_time": "2025-06-06T17:59:11.979818Z"
    }
   },
   "cell_type": "code",
   "source": "#bounds",
   "id": "9efa29b704b52681",
   "outputs": [],
   "execution_count": 9
  },
  {
   "metadata": {
    "ExecuteTime": {
     "end_time": "2025-06-06T17:59:11.990802Z",
     "start_time": "2025-06-06T17:59:11.988928Z"
    }
   },
   "cell_type": "code",
   "source": "cov_matrix = np.diag(risk_coeffs ** 2)",
   "id": "e6a93ec6f5c42cb8",
   "outputs": [],
   "execution_count": 10
  },
  {
   "metadata": {
    "ExecuteTime": {
     "end_time": "2025-06-06T17:59:11.999597Z",
     "start_time": "2025-06-06T17:59:11.997779Z"
    }
   },
   "cell_type": "code",
   "source": "#cov_matrix",
   "id": "a85b3dab5e9a695a",
   "outputs": [],
   "execution_count": 11
  },
  {
   "metadata": {},
   "cell_type": "markdown",
   "source": [
    "## Так как я решил использовать Коэффициент Шарпа:\n",
    "Коэффициент Шарпа — показатель эффективности инвестиционного портфеля, который вычисляется как отношение средней премии за риск к среднему отклонению портфеля.\n",
    "# Коэффициент Шарпа (Sharpe Ratio)\n",
    "\n",
    "Формула коэффициента Шарпа:\n",
    "\n",
    "$$\n",
    "S = \\frac{R_p - R_f}{\\sigma_p}\n",
    "$$\n",
    "\n",
    "**где:**\n",
    "- $R_p$ - ожидаемая доходность портфеля\n",
    "- $R_f$ - безрисковая ставка доходности (например, доходность по государственным облигациям)\n",
    "- $\\sigma_p$ - стандартное отклонение доходности портфеля (риск)\n",
    "\n",
    "# Интерпретация коэффициента Шарпа:\n",
    "\n",
    "- 1.0: Отличное соотношение риск/доходность\n",
    "\n",
    "- 0.5-1.0: Хорошее соотношение\n",
    "\n",
    "- <0.5: Неоптимальное соотношение"
   ],
   "id": "bf11a849a9336d5d"
  },
  {
   "metadata": {
    "ExecuteTime": {
     "end_time": "2025-06-06T17:59:12.009268Z",
     "start_time": "2025-06-06T17:59:12.006959Z"
    }
   },
   "cell_type": "code",
   "source": [
    "def portfolio_return(weights):\n",
    "    \"\"\"Ожидаемая доходность портфеля\"\"\"\n",
    "    return np.sum(weights * returns)\n",
    "\n",
    "def portfolio_risk(weights):\n",
    "    \"\"\"Риск портфеля (стандартное отклонение)\"\"\"\n",
    "    return np.sqrt(np.dot(weights.T, np.dot(cov_matrix, weights)))\n",
    "\n",
    "def negative_sharpe_ratio(weights):\n",
    "    \"\"\"Отрицательный коэффициент Шарпа (для минимизации)\"\"\"\n",
    "    ret = portfolio_return(weights)\n",
    "    risk = portfolio_risk(weights)\n",
    "    if risk < 1e-10:\n",
    "        return np.inf\n",
    "    return -ret / risk  # отрицательное значение для минимизации"
   ],
   "id": "7112fa0b162577d",
   "outputs": [],
   "execution_count": 12
  },
  {
   "metadata": {},
   "cell_type": "markdown",
   "source": "Ну и оптимизируем  по минимизации коээфа Шарпа c помощью SLSQP - наименьших квадратов",
   "id": "84de2a673a1822e9"
  },
  {
   "metadata": {
    "ExecuteTime": {
     "end_time": "2025-06-06T17:59:12.023644Z",
     "start_time": "2025-06-06T17:59:12.019171Z"
    }
   },
   "cell_type": "code",
   "source": [
    "constraints = (\n",
    "    {'type': 'eq', 'fun': lambda w: np.sum(w) - 1},\n",
    ")\n",
    "\n",
    "initial_weights = np.ones(len(asset_names)) / len(asset_names)\n",
    "\n",
    "result = minimize(\n",
    "    fun=negative_sharpe_ratio,\n",
    "    x0=initial_weights,\n",
    "    method='SLSQP',\n",
    "    bounds=bounds,\n",
    "    constraints=constraints,\n",
    "\n",
    ")"
   ],
   "id": "91c77d90509b839d",
   "outputs": [],
   "execution_count": 13
  },
  {
   "metadata": {
    "ExecuteTime": {
     "end_time": "2025-06-06T17:59:12.036580Z",
     "start_time": "2025-06-06T17:59:12.034649Z"
    }
   },
   "cell_type": "code",
   "source": [
    "if not result.success:\n",
    "    raise ValueError(f\"Оптимизация не удалась: {result.message}\")"
   ],
   "id": "42504994c892703f",
   "outputs": [],
   "execution_count": 14
  },
  {
   "metadata": {
    "ExecuteTime": {
     "end_time": "2025-06-06T17:59:12.045960Z",
     "start_time": "2025-06-06T17:59:12.043856Z"
    }
   },
   "cell_type": "code",
   "source": [
    "optimal_weights = result.x\n",
    "cleaned_weights = {asset: weight for asset, weight in zip(asset_names, optimal_weights)}"
   ],
   "id": "b77f23c68390bd48",
   "outputs": [],
   "execution_count": 15
  },
  {
   "metadata": {},
   "cell_type": "markdown",
   "source": "## Посчитаем нашу выгоду и риски",
   "id": "116ca4828dc06ed3"
  },
  {
   "metadata": {
    "ExecuteTime": {
     "end_time": "2025-06-06T17:59:12.068474Z",
     "start_time": "2025-06-06T17:59:12.065933Z"
    }
   },
   "cell_type": "code",
   "source": [
    "expected_return = portfolio_return(optimal_weights)\n",
    "portfolio_vol = portfolio_risk(optimal_weights)\n",
    "sharpe_ratio = (expected_return - risk_free_rate ) / portfolio_vol"
   ],
   "id": "675babb89d10b714",
   "outputs": [],
   "execution_count": 16
  },
  {
   "metadata": {
    "ExecuteTime": {
     "end_time": "2025-06-06T17:59:12.079127Z",
     "start_time": "2025-06-06T17:59:12.077167Z"
    }
   },
   "cell_type": "code",
   "source": [
    "final_capital = initial_capital * (1 + expected_return) ** years\n",
    "profit = final_capital - initial_capital"
   ],
   "id": "1cebe196311af3a3",
   "outputs": [],
   "execution_count": 17
  },
  {
   "metadata": {},
   "cell_type": "markdown",
   "source": "## Мне захотелось все это красиво вывести",
   "id": "4b3cb2c4e48d364b"
  },
  {
   "metadata": {
    "ExecuteTime": {
     "end_time": "2025-06-06T17:59:12.284077Z",
     "start_time": "2025-06-06T17:59:12.089447Z"
    }
   },
   "cell_type": "code",
   "source": [
    "import matplotlib.pyplot as plt\n",
    "from IPython.display import display, HTML"
   ],
   "id": "e08063e7af2fd7b4",
   "outputs": [],
   "execution_count": 18
  },
  {
   "metadata": {},
   "cell_type": "markdown",
   "source": "## Табличками",
   "id": "86c20998b071eea3"
  },
  {
   "metadata": {
    "ExecuteTime": {
     "end_time": "2025-06-06T17:59:12.295461Z",
     "start_time": "2025-06-06T17:59:12.292255Z"
    }
   },
   "cell_type": "code",
   "source": [
    "weights_df = pd.DataFrame.from_dict(cleaned_weights, orient='index', columns=['Доля'])\n",
    "weights_df['Процент'] = weights_df['Доля'].apply(lambda x: f\"{x*100:.2f}%\")"
   ],
   "id": "19d5d693aa318c16",
   "outputs": [],
   "execution_count": 19
  },
  {
   "metadata": {
    "ExecuteTime": {
     "end_time": "2025-06-06T17:59:12.307984Z",
     "start_time": "2025-06-06T17:59:12.305820Z"
    }
   },
   "cell_type": "code",
   "source": "plot_df = pd.DataFrame({'Актив': weights_df.index, 'Доля': [x for x in cleaned_weights.values()]})",
   "id": "30a2c8815e690fdf",
   "outputs": [],
   "execution_count": 20
  },
  {
   "metadata": {
    "ExecuteTime": {
     "end_time": "2025-06-06T17:59:12.316030Z",
     "start_time": "2025-06-06T17:59:12.313861Z"
    }
   },
   "cell_type": "code",
   "source": [
    "def format_currency(x):\n",
    "    return f\"{x:,.2f} руб.\".replace(',', ' ')"
   ],
   "id": "ca50350d490b32f6",
   "outputs": [],
   "execution_count": 21
  },
  {
   "metadata": {
    "ExecuteTime": {
     "end_time": "2025-06-06T17:59:12.327081Z",
     "start_time": "2025-06-06T17:59:12.323998Z"
    }
   },
   "cell_type": "code",
   "source": [
    "results = {\n",
    "    \"Начальный капитал\": format_currency(initial_capital),\n",
    "    \"Прогнозируемый капитал через 3 года\": format_currency(final_capital),\n",
    "    \"Прогнозируемая прибыль\": format_currency(profit),\n",
    "    \"Ожидаемая годовая доходность\": f\"{expected_return*100:.2f}%\",\n",
    "    \"Ожидаемая годовая волатильность\": f\"{portfolio_vol*100:.2f}%\",\n",
    "    \"Коэффициент Шарпа\": f\"{sharpe_ratio:.2f}\"\n",
    "}\n",
    "results_df = pd.DataFrame.from_dict(results, orient='index', columns=['Значение'])"
   ],
   "id": "87e064c43c705fb1",
   "outputs": [],
   "execution_count": 22
  },
  {
   "metadata": {
    "ExecuteTime": {
     "end_time": "2025-06-06T17:59:12.350638Z",
     "start_time": "2025-06-06T17:59:12.339393Z"
    }
   },
   "cell_type": "code",
   "source": [
    "display(HTML(\"<h2>Оптимальное распределение средств:</h2>\"))\n",
    "display(weights_df[['Процент']].rename(columns={'Процент': 'Доля'}))\n",
    "\n",
    "display(HTML(\"<h2>Характеристики портфеля:</h2>\"))\n",
    "display(results_df)"
   ],
   "id": "1fe7283561b128ee",
   "outputs": [
    {
     "data": {
      "text/plain": [
       "<IPython.core.display.HTML object>"
      ],
      "text/html": [
       "<h2>Оптимальное распределение средств:</h2>"
      ]
     },
     "metadata": {},
     "output_type": "display_data"
    },
    {
     "data": {
      "text/plain": [
       "                 Доля\n",
       "Акции          10.00%\n",
       "Облигации      66.22%\n",
       "ПИФы           15.14%\n",
       "Стартап друга   8.64%"
      ],
      "text/html": [
       "<div>\n",
       "<style scoped>\n",
       "    .dataframe tbody tr th:only-of-type {\n",
       "        vertical-align: middle;\n",
       "    }\n",
       "\n",
       "    .dataframe tbody tr th {\n",
       "        vertical-align: top;\n",
       "    }\n",
       "\n",
       "    .dataframe thead th {\n",
       "        text-align: right;\n",
       "    }\n",
       "</style>\n",
       "<table border=\"1\" class=\"dataframe\">\n",
       "  <thead>\n",
       "    <tr style=\"text-align: right;\">\n",
       "      <th></th>\n",
       "      <th>Доля</th>\n",
       "    </tr>\n",
       "  </thead>\n",
       "  <tbody>\n",
       "    <tr>\n",
       "      <th>Акции</th>\n",
       "      <td>10.00%</td>\n",
       "    </tr>\n",
       "    <tr>\n",
       "      <th>Облигации</th>\n",
       "      <td>66.22%</td>\n",
       "    </tr>\n",
       "    <tr>\n",
       "      <th>ПИФы</th>\n",
       "      <td>15.14%</td>\n",
       "    </tr>\n",
       "    <tr>\n",
       "      <th>Стартап друга</th>\n",
       "      <td>8.64%</td>\n",
       "    </tr>\n",
       "  </tbody>\n",
       "</table>\n",
       "</div>"
      ]
     },
     "metadata": {},
     "output_type": "display_data"
    },
    {
     "data": {
      "text/plain": [
       "<IPython.core.display.HTML object>"
      ],
      "text/html": [
       "<h2>Характеристики портфеля:</h2>"
      ]
     },
     "metadata": {},
     "output_type": "display_data"
    },
    {
     "data": {
      "text/plain": [
       "                                              Значение\n",
       "Начальный капитал                    1 000 000.00 руб.\n",
       "Прогнозируемый капитал через 3 года  1 736 257.58 руб.\n",
       "Прогнозируемая прибыль                 736 257.58 руб.\n",
       "Ожидаемая годовая доходность                    20.19%\n",
       "Ожидаемая годовая волатильность                 11.98%\n",
       "Коэффициент Шарпа                                 1.27"
      ],
      "text/html": [
       "<div>\n",
       "<style scoped>\n",
       "    .dataframe tbody tr th:only-of-type {\n",
       "        vertical-align: middle;\n",
       "    }\n",
       "\n",
       "    .dataframe tbody tr th {\n",
       "        vertical-align: top;\n",
       "    }\n",
       "\n",
       "    .dataframe thead th {\n",
       "        text-align: right;\n",
       "    }\n",
       "</style>\n",
       "<table border=\"1\" class=\"dataframe\">\n",
       "  <thead>\n",
       "    <tr style=\"text-align: right;\">\n",
       "      <th></th>\n",
       "      <th>Значение</th>\n",
       "    </tr>\n",
       "  </thead>\n",
       "  <tbody>\n",
       "    <tr>\n",
       "      <th>Начальный капитал</th>\n",
       "      <td>1 000 000.00 руб.</td>\n",
       "    </tr>\n",
       "    <tr>\n",
       "      <th>Прогнозируемый капитал через 3 года</th>\n",
       "      <td>1 736 257.58 руб.</td>\n",
       "    </tr>\n",
       "    <tr>\n",
       "      <th>Прогнозируемая прибыль</th>\n",
       "      <td>736 257.58 руб.</td>\n",
       "    </tr>\n",
       "    <tr>\n",
       "      <th>Ожидаемая годовая доходность</th>\n",
       "      <td>20.19%</td>\n",
       "    </tr>\n",
       "    <tr>\n",
       "      <th>Ожидаемая годовая волатильность</th>\n",
       "      <td>11.98%</td>\n",
       "    </tr>\n",
       "    <tr>\n",
       "      <th>Коэффициент Шарпа</th>\n",
       "      <td>1.27</td>\n",
       "    </tr>\n",
       "  </tbody>\n",
       "</table>\n",
       "</div>"
      ]
     },
     "metadata": {},
     "output_type": "display_data"
    }
   ],
   "execution_count": 23
  },
  {
   "metadata": {},
   "cell_type": "markdown",
   "source": "## Графики",
   "id": "6d0e779bb76a7347"
  },
  {
   "metadata": {
    "ExecuteTime": {
     "end_time": "2025-06-06T17:59:12.490535Z",
     "start_time": "2025-06-06T17:59:12.398394Z"
    }
   },
   "cell_type": "code",
   "source": [
    "display(HTML(\"<h3>Графическое представление распределения:</h3>\"))\n",
    "plt.figure(figsize=(8, 8))\n",
    "plt.pie(\n",
    "    plot_df['Доля'],\n",
    "    labels=plot_df['Актив'],\n",
    "    autopct='%1.1f%%',\n",
    "    startangle=90,\n",
    "    colors=['#ff9999','#66b3ff','#99ff99','#ffcc99']\n",
    ")\n",
    "plt.axis('equal')\n",
    "plt.title('Распределение активов в портфеле')\n",
    "plt.show()\n",
    "\n",
    "plt.figure(figsize=(10, 5))\n",
    "plt.bar(plot_df['Актив'], plot_df['Доля']*100, color='skyblue')\n",
    "plt.xlabel('Активы')\n",
    "plt.ylabel('Доля (%)')\n",
    "plt.title('Распределение активов в портфеле')\n",
    "plt.ylim(0, 100)\n",
    "plt.grid(axis='y', linestyle='--', alpha=0.7)\n",
    "plt.show()"
   ],
   "id": "9e26619c76ba0de",
   "outputs": [
    {
     "data": {
      "text/plain": [
       "<IPython.core.display.HTML object>"
      ],
      "text/html": [
       "<h3>Графическое представление распределения:</h3>"
      ]
     },
     "metadata": {},
     "output_type": "display_data"
    },
    {
     "data": {
      "text/plain": [
       "<Figure size 800x800 with 1 Axes>"
      ],
      "image/png": "[encoded data removed]"
     },
     "metadata": {},
     "output_type": "display_data"
    },
    {
     "data": {
      "text/plain": [
       "<Figure size 1000x500 with 1 Axes>"
      ],
      "image/png": "[encoded data removed]"
     },
     "metadata": {},
     "output_type": "display_data"
    }
   ],
   "execution_count": 24
  }
 ],
 "metadata": {
  "kernelspec": {
   "display_name": "Python 3",
   "language": "python",
   "name": "python3"
  },
  "language_info": {
   "codemirror_mode": {
    "name": "ipython",
    "version": 2
   },
   "file_extension": ".py",
   "mimetype": "text/x-python",
   "name": "python",
   "nbconvert_exporter": "python",
   "pygments_lexer": "ipython2",
   "version": "2.7.6"
  }
 },
 "nbformat": 4,
 "nbformat_minor": 5
}
