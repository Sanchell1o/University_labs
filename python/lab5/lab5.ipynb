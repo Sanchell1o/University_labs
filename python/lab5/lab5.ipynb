{
 "cells": [
  {
   "cell_type": "code",
   "id": "initial_id",
   "metadata": {
    "collapsed": true,
    "ExecuteTime": {
     "end_time": "2025-05-22T18:14:16.836520Z",
     "start_time": "2025-05-22T18:14:13.246317Z"
    }
   },
   "source": [
    "from sentence_transformers import SentenceTransformer\n",
    "import polars as pl\n",
    "import chromadb\n",
    "import torch\n",
    "import os\n",
    "from tqdm import tqdm\n"
   ],
   "outputs": [],
   "execution_count": 1
  },
  {
   "metadata": {
    "ExecuteTime": {
     "end_time": "2025-05-22T18:14:16.918561Z",
     "start_time": "2025-05-22T18:14:16.916278Z"
    }
   },
   "cell_type": "code",
   "source": [
    "os.environ[\"DNNL_MAX_CPU_ISA\"] = \"AVX512_CORE_AMX\"\n",
    "os.environ[\"OMP_NUM_THREADS\"] = str(os.cpu_count())"
   ],
   "id": "e3f14dd3e0b16b41",
   "outputs": [],
   "execution_count": 2
  },
  {
   "metadata": {
    "ExecuteTime": {
     "end_time": "2025-05-22T18:14:16.960507Z",
     "start_time": "2025-05-22T18:14:16.957756Z"
    }
   },
   "cell_type": "code",
   "source": "print(torch.__config__.parallel_info())",
   "id": "5ecf3993c89a48e3",
   "outputs": [
    {
     "name": "stdout",
     "output_type": "stream",
     "text": [
      "ATen/Parallel:\n",
      "\tat::get_num_threads() : 6\n",
      "\tat::get_num_interop_threads() : 6\n",
      "OpenMP 2019\n",
      "\tomp_get_max_threads() : 6\n",
      "Intel(R) oneAPI Math Kernel Library Version 2025.1-Product Build 20250306 for Intel(R) 64 architecture applications\n",
      "\tmkl_get_max_threads() : 6\n",
      "Intel(R) MKL-DNN v3.7.1 (Git Hash 8d263e693366ef8db40acc569cc7d8edf644556d)\n",
      "std::thread::hardware_concurrency() : 12\n",
      "Environment variables:\n",
      "\tOMP_NUM_THREADS : 12\n",
      "\tMKL_NUM_THREADS : [not set]\n",
      "ATen parallel backend: OpenMP\n",
      "\n"
     ]
    }
   ],
   "execution_count": 3
  },
  {
   "metadata": {
    "ExecuteTime": {
     "end_time": "2025-05-22T18:14:19.461762Z",
     "start_time": "2025-05-22T18:14:16.973614Z"
    }
   },
   "cell_type": "code",
   "source": "model = SentenceTransformer(\"all-MiniLM-L6-v2\", device=\"cpu\")",
   "id": "1eb49bbfd5a56174",
   "outputs": [],
   "execution_count": 4
  },
  {
   "metadata": {
    "ExecuteTime": {
     "end_time": "2025-05-22T18:14:21.454744Z",
     "start_time": "2025-05-22T18:14:19.472777Z"
    }
   },
   "cell_type": "code",
   "source": [
    "df = pl.read_csv(\n",
    "    \"clear.csv\",\n",
    "    columns=[\"Id_questions\", \"clean_question\", \"clean_answers\", \"Score_answers\"]\n",
    ")"
   ],
   "id": "c05d014934f0bd",
   "outputs": [],
   "execution_count": 5
  },
  {
   "metadata": {
    "ExecuteTime": {
     "end_time": "2025-05-22T18:14:21.466753Z",
     "start_time": "2025-05-22T18:14:21.462913Z"
    }
   },
   "cell_type": "code",
   "source": "df.shape",
   "id": "baadfc50a69019c9",
   "outputs": [
    {
     "data": {
      "text/plain": [
       "(2176164, 4)"
      ]
     },
     "execution_count": 6,
     "metadata": {},
     "output_type": "execute_result"
    }
   ],
   "execution_count": 6
  },
  {
   "metadata": {
    "ExecuteTime": {
     "end_time": "2025-05-22T18:14:21.486757Z",
     "start_time": "2025-05-22T18:14:21.483560Z"
    }
   },
   "cell_type": "code",
   "source": "df.schema",
   "id": "d57afe66251c6928",
   "outputs": [
    {
     "data": {
      "text/plain": [
       "Schema([('Id_questions', Int64),\n",
       "        ('Score_answers', Float64),\n",
       "        ('clean_question', String),\n",
       "        ('clean_answers', String)])"
      ]
     },
     "execution_count": 7,
     "metadata": {},
     "output_type": "execute_result"
    }
   ],
   "execution_count": 7
  },
  {
   "metadata": {
    "ExecuteTime": {
     "end_time": "2025-05-22T18:14:21.720215Z",
     "start_time": "2025-05-22T18:14:21.516963Z"
    }
   },
   "cell_type": "code",
   "source": [
    "df = df.with_columns(\n",
    "    pl.col(\"clean_question\").cast(pl.Utf8).fill_null(\"\"),\n",
    "    pl.col(\"clean_answers\").cast(pl.Utf8).fill_null(\"\")\n",
    ").with_columns(\n",
    "    (pl.col(\"clean_question\") + \" \" + pl.col(\"clean_answers\")).alias(\"text\")\n",
    ")"
   ],
   "id": "a8d6747586dbb2c8",
   "outputs": [],
   "execution_count": 8
  },
  {
   "metadata": {
    "ExecuteTime": {
     "end_time": "2025-05-22T18:14:21.734497Z",
     "start_time": "2025-05-22T18:14:21.731348Z"
    }
   },
   "cell_type": "code",
   "source": "df.head()",
   "id": "7114ebd76614e9a4",
   "outputs": [
    {
     "data": {
      "text/plain": [
       "shape: (5, 5)\n",
       "┌──────────────┬───────────────┬──────────────────┬─────────────────────────────┬──────────────────┐\n",
       "│ Id_questions ┆ Score_answers ┆ clean_question   ┆ clean_answers               ┆ text             │\n",
       "│ ---          ┆ ---           ┆ ---              ┆ ---                         ┆ ---              │\n",
       "│ i64          ┆ f64           ┆ str              ┆ str                         ┆ str              │\n",
       "╞══════════════╪═══════════════╪══════════════════╪═════════════════════════════╪══════════════════╡\n",
       "│ 80           ┆ 12.0          ┆ written database ┆ wound kind hack actually    ┆ written database │\n",
       "│              ┆               ┆ generation sc…   ┆ works…                      ┆ generation sc…   │\n",
       "│ 80           ┆ 6.0           ┆ written database ┆ sqlite api function called  ┆ written database │\n",
       "│              ┆               ┆ generation sc…   ┆ lik…                        ┆ generation sc…   │\n",
       "│ 80           ┆ 1.0           ┆ written database ┆ making delimiter little     ┆ written database │\n",
       "│              ┆               ┆ generation sc…   ┆ comple…                     ┆ generation sc…   │\n",
       "│ 90           ┆ 13.0          ┆ good tutorials   ┆ version control subversion  ┆ good tutorials   │\n",
       "│              ┆               ┆ explaining bran… ┆ goo…                        ┆ explaining bran… │\n",
       "│ 90           ┆ 2.0           ┆ good tutorials   ┆ try version control         ┆ good tutorials   │\n",
       "│              ┆               ┆ explaining bran… ┆ standalone…                 ┆ explaining bran… │\n",
       "└──────────────┴───────────────┴──────────────────┴─────────────────────────────┴──────────────────┘"
      ],
      "text/html": [
       "<div><style>\n",
       ".dataframe > thead > tr,\n",
       ".dataframe > tbody > tr {\n",
       "  text-align: right;\n",
       "  white-space: pre-wrap;\n",
       "}\n",
       "</style>\n",
       "<small>shape: (5, 5)</small><table border=\"1\" class=\"dataframe\"><thead><tr><th>Id_questions</th><th>Score_answers</th><th>clean_question</th><th>clean_answers</th><th>text</th></tr><tr><td>i64</td><td>f64</td><td>str</td><td>str</td><td>str</td></tr></thead><tbody><tr><td>80</td><td>12.0</td><td>&quot;written database generation sc…</td><td>&quot;wound kind hack actually works…</td><td>&quot;written database generation sc…</td></tr><tr><td>80</td><td>6.0</td><td>&quot;written database generation sc…</td><td>&quot;sqlite api function called lik…</td><td>&quot;written database generation sc…</td></tr><tr><td>80</td><td>1.0</td><td>&quot;written database generation sc…</td><td>&quot;making delimiter little comple…</td><td>&quot;written database generation sc…</td></tr><tr><td>90</td><td>13.0</td><td>&quot;good tutorials explaining bran…</td><td>&quot;version control subversion goo…</td><td>&quot;good tutorials explaining bran…</td></tr><tr><td>90</td><td>2.0</td><td>&quot;good tutorials explaining bran…</td><td>&quot;try version control standalone…</td><td>&quot;good tutorials explaining bran…</td></tr></tbody></table></div>"
      ]
     },
     "execution_count": 9,
     "metadata": {},
     "output_type": "execute_result"
    }
   ],
   "execution_count": 9
  },
  {
   "metadata": {
    "ExecuteTime": {
     "end_time": "2025-05-22T18:14:21.784512Z",
     "start_time": "2025-05-22T18:14:21.776238Z"
    }
   },
   "cell_type": "code",
   "source": "df['Id_questions'].n_unique()",
   "id": "96ff56947467b8ab",
   "outputs": [
    {
     "data": {
      "text/plain": [
       "1264216"
      ]
     },
     "execution_count": 10,
     "metadata": {},
     "output_type": "execute_result"
    }
   ],
   "execution_count": 10
  },
  {
   "metadata": {
    "ExecuteTime": {
     "end_time": "2025-05-22T18:14:21.917693Z",
     "start_time": "2025-05-22T18:14:21.912868Z"
    }
   },
   "cell_type": "code",
   "source": "df.filter(pl.col(\"text\").is_null()).height",
   "id": "686ea64125fa80fe",
   "outputs": [
    {
     "data": {
      "text/plain": [
       "0"
      ]
     },
     "execution_count": 11,
     "metadata": {},
     "output_type": "execute_result"
    }
   ],
   "execution_count": 11
  },
  {
   "metadata": {
    "ExecuteTime": {
     "end_time": "2025-05-22T18:14:21.990699Z",
     "start_time": "2025-05-22T18:14:21.987563Z"
    }
   },
   "cell_type": "code",
   "source": "df.null_count()",
   "id": "160a96c32d064481",
   "outputs": [
    {
     "data": {
      "text/plain": [
       "shape: (1, 5)\n",
       "┌──────────────┬───────────────┬────────────────┬───────────────┬──────┐\n",
       "│ Id_questions ┆ Score_answers ┆ clean_question ┆ clean_answers ┆ text │\n",
       "│ ---          ┆ ---           ┆ ---            ┆ ---           ┆ ---  │\n",
       "│ u32          ┆ u32           ┆ u32            ┆ u32           ┆ u32  │\n",
       "╞══════════════╪═══════════════╪════════════════╪═══════════════╪══════╡\n",
       "│ 0            ┆ 161648        ┆ 0              ┆ 0             ┆ 0    │\n",
       "└──────────────┴───────────────┴────────────────┴───────────────┴──────┘"
      ],
      "text/html": [
       "<div><style>\n",
       ".dataframe > thead > tr,\n",
       ".dataframe > tbody > tr {\n",
       "  text-align: right;\n",
       "  white-space: pre-wrap;\n",
       "}\n",
       "</style>\n",
       "<small>shape: (1, 5)</small><table border=\"1\" class=\"dataframe\"><thead><tr><th>Id_questions</th><th>Score_answers</th><th>clean_question</th><th>clean_answers</th><th>text</th></tr><tr><td>u32</td><td>u32</td><td>u32</td><td>u32</td><td>u32</td></tr></thead><tbody><tr><td>0</td><td>161648</td><td>0</td><td>0</td><td>0</td></tr></tbody></table></div>"
      ]
     },
     "execution_count": 12,
     "metadata": {},
     "output_type": "execute_result"
    }
   ],
   "execution_count": 12
  },
  {
   "metadata": {
    "ExecuteTime": {
     "end_time": "2025-05-22T18:14:22.840952Z",
     "start_time": "2025-05-22T18:14:22.032351Z"
    }
   },
   "cell_type": "code",
   "source": "texts = df[\"text\"].to_numpy()",
   "id": "1b11431210bf5fed",
   "outputs": [],
   "execution_count": 13
  },
  {
   "metadata": {
    "ExecuteTime": {
     "end_time": "2025-05-23T01:30:47.135841Z",
     "start_time": "2025-05-22T18:14:22.853794Z"
    }
   },
   "cell_type": "code",
   "source": [
    "embeddings = model.encode(\n",
    "    texts,\n",
    "    convert_to_numpy=True,\n",
    "    convert_to_tensor=False,\n",
    "    show_progress_bar=True\n",
    ")"
   ],
   "id": "2ea3609192d78e2d",
   "outputs": [
    {
     "data": {
      "text/plain": [
       "Batches:   0%|          | 0/68006 [00:00<?, ?it/s]"
      ],
      "application/vnd.jupyter.widget-view+json": {
       "version_major": 2,
       "version_minor": 0,
       "model_id": "f7ba20a92f4247359e354f415cc46d2d"
      }
     },
     "metadata": {},
     "output_type": "display_data"
    }
   ],
   "execution_count": 14
  },
  {
   "metadata": {
    "ExecuteTime": {
     "end_time": "2025-05-23T01:30:47.281726Z",
     "start_time": "2025-05-23T01:30:47.172141Z"
    }
   },
   "cell_type": "code",
   "source": "client = chromadb.Client()",
   "id": "3ebc2c42aab1ccc0",
   "outputs": [],
   "execution_count": 15
  },
  {
   "metadata": {
    "ExecuteTime": {
     "end_time": "2025-05-23T01:30:47.324935Z",
     "start_time": "2025-05-23T01:30:47.294971Z"
    }
   },
   "cell_type": "code",
   "source": [
    "collection = client.create_collection(\n",
    "    name=\"StackOverflowQnA\",\n",
    "    metadata={\"hnsw:space\": \"cosine\"}\n",
    ")"
   ],
   "id": "d3fac55942a32495",
   "outputs": [],
   "execution_count": 16
  },
  {
   "metadata": {
    "ExecuteTime": {
     "end_time": "2025-05-23T04:36:19.909669Z",
     "start_time": "2025-05-23T04:36:17.239861Z"
    }
   },
   "cell_type": "code",
   "source": [
    "ids = pl.int_range(0, df.height, eager=True).cast(pl.Utf8).to_list()\n",
    "metadatas = df.select([\"clean_question\", \"clean_answers\"]).rows(named=True)"
   ],
   "id": "af50540feb9381c1",
   "outputs": [],
   "execution_count": 33
  },
  {
   "metadata": {
    "ExecuteTime": {
     "end_time": "2025-05-23T04:40:36.550023Z",
     "start_time": "2025-05-23T04:36:20.873370Z"
    }
   },
   "cell_type": "code",
   "source": [
    "batch_size = 4096\n",
    "with tqdm(total=len(ids), desc=\"Загрузка в Chroma\") as pbar:\n",
    "    for i in range(0, len(ids), batch_size):\n",
    "        batch = {\n",
    "            \"ids\": ids[i:i + batch_size],\n",
    "            \"embeddings\": embeddings[i:i + batch_size].tolist(),\n",
    "            \"metadatas\": metadatas[i:i + batch_size]\n",
    "        }\n",
    "        try:\n",
    "            collection.add(**batch)\n",
    "        except Exception as e:\n",
    "            print(f\"Ошибка в батче {i}-{i + batch_size}: {str(e)}\")\n",
    "        pbar.update(len(batch[\"ids\"]))\n"
   ],
   "id": "e48848d6724465a0",
   "outputs": [
    {
     "name": "stderr",
     "output_type": "stream",
     "text": [
      "Загрузка в Chroma: 100%|██████████| 2176164/2176164 [04:15<00:00, 8511.53it/s]\n"
     ]
    }
   ],
   "execution_count": 34
  },
  {
   "metadata": {
    "ExecuteTime": {
     "end_time": "2025-05-23T04:40:42.463340Z",
     "start_time": "2025-05-23T04:40:42.460529Z"
    }
   },
   "cell_type": "code",
   "source": [
    "def semantic_search(query: str, top_n: int = 5):\n",
    "    query_embedding = model.encode(\n",
    "        [query],\n",
    "        batch_size=256,\n",
    "        convert_to_numpy=True\n",
    "    )[0].tolist()\n",
    "\n",
    "    return collection.query(\n",
    "        query_embeddings=[query_embedding],\n",
    "        n_results=top_n,\n",
    "        include=[\"metadatas\", \"distances\"]\n",
    "    )"
   ],
   "id": "ebbbb8522e9815c1",
   "outputs": [],
   "execution_count": 36
  },
  {
   "metadata": {
    "ExecuteTime": {
     "end_time": "2025-05-23T04:40:44.679352Z",
     "start_time": "2025-05-23T04:40:44.499031Z"
    }
   },
   "cell_type": "code",
   "source": [
    "results = semantic_search(\"Deploying SQL Server\")\n",
    "for meta, dist in zip(results[\"metadatas\"][0], results[\"distances\"][0]):\n",
    "    print(f\"Вопрос: {meta['clean_question']}\")\n",
    "    print(f\"Ответ: {meta['clean_answers'][:150]}...\\n\")"
   ],
   "id": "4cb58968ada7f091",
   "outputs": [
    {
     "name": "stdout",
     "output_type": "stream",
     "text": [
      "Вопрос: created windows application end visual studio end microsoft sql server net framework deployment installing application clients machine necessary install net framework visualstudio sql server installing application module building set file filesystem editor registry editor etc attach database application deployment help tips tracks deployment thanks advance\n",
      "Ответ: depends want client sqlserver installed locally usually enterprise scenario server box sql server running need deploy database having sql server runni...\n",
      "\n",
      "Вопрос: package developed ssis visual studio possible deploy attach package sql server possible licence sql server matter\n",
      "Ответ: run version dtexec certainly deploy catalog install minimum need run ssis server execute package filesystem version dtexec http msdn microsoft com lib...\n",
      "\n",
      "Вопрос: created windows application end visual studio end microsoft sql server net framework deployment installing application clients machine necessary install net framework visualstudio sql server installing application module building set file filesystem editor registry editor etc attach database application deployment help tips tracks deployment thanks advance\n",
      "Ответ: don install visual studio running net applications require net framework sql net required database run sql script need restore database running sql sc...\n",
      "\n",
      "Вопрос: created windows application end visual studio end microsoft sql server net framework deployment installing application clients machine necessary install net framework visualstudio sql server installing application module building set file filesystem editor registry editor etc attach database application deployment help tips tracks deployment thanks advance\n",
      "Ответ: customer use visual studio don need install need install sql server manually setup project install automatically install sql server higher believe ins...\n",
      "\n",
      "Вопрос: created windows application end visual studio end microsoft sql server net framework deployment installing application clients machine necessary install net framework visualstudio sql server installing application module building set file filesystem editor registry editor etc attach database application deployment help tips tracks deployment thanks advance\n",
      "Ответ: install sql server manually installing application need install application need visual studio use setup project detect requires net framework user op...\n",
      "\n"
     ]
    }
   ],
   "execution_count": 37
  },
  {
   "metadata": {
    "ExecuteTime": {
     "end_time": "2025-05-23T04:40:57.583387Z",
     "start_time": "2025-05-23T04:40:57.554928Z"
    }
   },
   "cell_type": "code",
   "source": [
    "results = semantic_search(\"How do you open a file in C++?\")\n",
    "for meta, dist in zip(results[\"metadatas\"][0], results[\"distances\"][0]):\n",
    "\n",
    "    print(f\"Вопрос: {meta['clean_question']}\")\n",
    "    print(f\"Ответ: {meta['clean_answers'][:150]}...\\n\")"
   ],
   "id": "31040884e1d4ef36",
   "outputs": [
    {
     "name": "stdout",
     "output_type": "stream",
     "text": [
      "Вопрос: standard cross platform analogue file int open const char pathname int flags mode mode\n",
      "Ответ: int open const char pathname int flags mode mode pure use std fstream http www cplusplus com reference fstream fstream include int main std fstream op...\n",
      "\n",
      "Вопрос: happened run code example reading text file follows int char filename text txt ifstream fin filename fin code actually opens reads space delimited text don understand works file opened open read command way rewind beginning file trying create dynamically allocated array don know counted file number scores\n",
      "Ответ: file opened open read command ifstream constructor open file way rewind beginning file use seekg eof reached need clear calling seekg trying create dy...\n",
      "\n",
      "Вопрос: want open file reading way need able text files involve sort read line function binary files provide way read raw data char buffer\n",
      "Ответ: include include namespace std void main ifstream stream fstream command initiate stream command char filename variable filename cout enter file open a...\n",
      "\n",
      "Вопрос: trying open file fopen don going wrong file directory main file tried directory results thanks help int main const char file int numwords scanf file printf good printf file file fopen file null printf open printf file exit\n",
      "Ответ: suggest looking example scanf page http www tutorialspoint com standard library function scanf htm fundamentally bit confused pointer belong operator ...\n",
      "\n",
      "Вопрос: title says trying read file vectors file look like hello right doesn work int number string word std vector std vector second ifstream infile file infile open infile number word push number second push word\n",
      "Ответ: change type number int open superfluous statement handles case file opened loop fail file opened...\n",
      "\n"
     ]
    }
   ],
   "execution_count": 38
  },
  {
   "metadata": {
    "ExecuteTime": {
     "end_time": "2025-05-23T04:41:14.409423Z",
     "start_time": "2025-05-23T04:41:14.358830Z"
    }
   },
   "cell_type": "code",
   "source": [
    "results = semantic_search(\"install pandas\")\n",
    "for meta, dist in zip(results[\"metadatas\"][0], results[\"distances\"][0]):\n",
    "\n",
    "    print(f\"Вопрос: {meta['clean_question']}\")\n",
    "    print(f\"Ответ: {meta['clean_answers'][:150]}...\\n\")"
   ],
   "id": "e18923e2946c1422",
   "outputs": [
    {
     "name": "stdout",
     "output_type": "stream",
     "text": [
      "Вопрос: having great difficulty installing pandas python python oct msc bit amd win windows computer help appreciated tried different solutions avail details needed inform\n",
      "Ответ: tags guess windows people use anaconda comes packages including pandas line easy install use ide...\n",
      "\n",
      "Вопрос: tried installing pandas pip install pandas python scripts pip install pandas gave following error system find path specified know downloaded installed python\n",
      "Ответ: ...\n",
      "\n",
      "Вопрос: trying install pandas pip install pandas error command python setup egg info failed error code users username appdata local temp pip build username pandas followed answer given installed setup incident error pip install pandas thanks help provide information let know\n",
      "Ответ: easiest way install pandas dependencies windows download relevant packages christoph gohlke python extension packages windows repository find files pa...\n",
      "\n",
      "Вопрос: tried installing pandas easy install claimed successfully installed pandas package python directory switch idle try import pandas throws following error traceback recent file line import pandas file python lib site packages pandas win egg pandas init line import hashtable tslib lib file numpy pxd line init pandas hashtable pandas hashtable valueerror numpy dtype wrong size try recompiling help diagnose error fyi installed numpy package\n",
      "Ответ: maybe interrupted pandas install retry pip install pip haven easy install pip reinstall pandas pip install pandas upgrade hope helps...\n",
      "\n",
      "Вопрос: tried installing pandas easy install claimed successfully installed pandas package python directory switch idle try import pandas throws following error traceback recent file line import pandas file python lib site packages pandas win egg pandas init line import hashtable tslib lib file numpy pxd line init pandas hashtable pandas hashtable valueerror numpy dtype wrong size try recompiling help diagnose error fyi installed numpy package\n",
      "Ответ: know output error got tried running nipun batra script got import platform run platform platform know minutes ago got error trying run script differen...\n",
      "\n"
     ]
    }
   ],
   "execution_count": 39
  }
 ],
 "metadata": {
  "kernelspec": {
   "display_name": "Python 3",
   "language": "python",
   "name": "python3"
  },
  "language_info": {
   "codemirror_mode": {
    "name": "ipython",
    "version": 2
   },
   "file_extension": ".py",
   "mimetype": "text/x-python",
   "name": "python",
   "nbconvert_exporter": "python",
   "pygments_lexer": "ipython2",
   "version": "2.7.6"
  }
 },
 "nbformat": 4,
 "nbformat_minor": 5
}
