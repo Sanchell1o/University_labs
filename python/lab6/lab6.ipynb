{
 "cells": [
  {
   "cell_type": "code",
   "id": "initial_id",
   "metadata": {
    "collapsed": true,
    "ExecuteTime": {
     "end_time": "2025-05-28T23:48:59.787581Z",
     "start_time": "2025-05-28T23:48:59.785128Z"
    }
   },
   "source": [
    "import chromadb, google.generativeai as genai\n",
    "from sentence_transformers import SentenceTransformer\n",
    "from chromadb.config import Settings"
   ],
   "outputs": [],
   "execution_count": 31
  },
  {
   "metadata": {
    "ExecuteTime": {
     "end_time": "2025-05-28T23:48:59.803429Z",
     "start_time": "2025-05-28T23:48:59.800987Z"
    }
   },
   "cell_type": "code",
   "source": [
    "COLL_NAME = 'StackOverflowQnA'\n",
    "CHROMA_PATH = '../lab5/chroma_db'\n",
    "MODEL_NAME = 'all-MiniLM-L6-v2'\n",
    "LLM_NAME = 'gemini-2.0-flash'\n",
    "SYSTEM_MSG = \"Ты - эксперт по программированию и ИТ. Отвечай точно, используя только предоставленный контекст.\"\n",
    "with open('api.txt.', 'r') as f:\n",
    "    GOOGLE_API_KEY = f.read().strip()"
   ],
   "id": "fbb40097e8d01ffb",
   "outputs": [],
   "execution_count": 32
  },
  {
   "metadata": {
    "ExecuteTime": {
     "end_time": "2025-05-28T23:49:02.072821Z",
     "start_time": "2025-05-28T23:48:59.814942Z"
    }
   },
   "cell_type": "code",
   "source": [
    "model = SentenceTransformer(MODEL_NAME)\n",
    "\n",
    "client = chromadb.PersistentClient(path=CHROMA_PATH, settings=Settings(anonymized_telemetry=False))\n",
    "collection = client.get_collection(COLL_NAME)\n",
    "\n",
    "genai.configure(api_key=GOOGLE_API_KEY)\n",
    "gemini = genai.GenerativeModel(LLM_NAME)"
   ],
   "id": "cbfd39d53d57d8c2",
   "outputs": [],
   "execution_count": 33
  },
  {
   "metadata": {
    "ExecuteTime": {
     "end_time": "2025-05-28T23:49:02.084204Z",
     "start_time": "2025-05-28T23:49:02.081083Z"
    }
   },
   "cell_type": "code",
   "source": "collection",
   "id": "80fcdb6279639dfc",
   "outputs": [
    {
     "data": {
      "text/plain": [
       "Collection(name=StackOverflowQnA)"
      ]
     },
     "execution_count": 34,
     "metadata": {},
     "output_type": "execute_result"
    }
   ],
   "execution_count": 34
  },
  {
   "metadata": {
    "ExecuteTime": {
     "end_time": "2025-05-28T23:49:02.110055Z",
     "start_time": "2025-05-28T23:49:02.100410Z"
    }
   },
   "cell_type": "code",
   "source": "collection.count()",
   "id": "365f3ccdb9a378db",
   "outputs": [
    {
     "data": {
      "text/plain": [
       "28672"
      ]
     },
     "execution_count": 35,
     "metadata": {},
     "output_type": "execute_result"
    }
   ],
   "execution_count": 35
  },
  {
   "metadata": {
    "ExecuteTime": {
     "end_time": "2025-05-28T23:49:02.127569Z",
     "start_time": "2025-05-28T23:49:02.124145Z"
    }
   },
   "cell_type": "code",
   "source": [
    "def semantic_search(query: str, top_n: int = 5):\n",
    "    query_embedding = model.encode(\n",
    "        [query],\n",
    "        batch_size=256,\n",
    "        convert_to_numpy=True\n",
    "    )[0].tolist()\n",
    "\n",
    "    results = collection.query(\n",
    "        query_embeddings=[query_embedding],\n",
    "        n_results=top_n,\n",
    "        include=[\"metadatas\", \"distances\"]\n",
    "    )\n",
    "\n",
    "    hits = []\n",
    "    for metadata, distance in zip(results[\"metadatas\"][0], results[\"distances\"][0]):\n",
    "        hits.append({\n",
    "            \"question\": metadata[\"clean_question\"],\n",
    "            \"answer\": metadata[\"clean_answers\"],\n",
    "            \"score\": 1 - distance,\n",
    "            \"answer_score\": metadata[\"Score_answers\"]\n",
    "        })\n",
    "\n",
    "    return hits"
   ],
   "id": "9fbf0aa201450ce1",
   "outputs": [],
   "execution_count": 36
  },
  {
   "metadata": {
    "ExecuteTime": {
     "end_time": "2025-05-28T23:49:02.158417Z",
     "start_time": "2025-05-28T23:49:02.141184Z"
    }
   },
   "cell_type": "code",
   "source": [
    "search_query = \"Deploying SQL Server\"\n",
    "results = semantic_search(search_query, top_n=5)\n",
    "\n",
    "for i, hit in enumerate(results, 1):\n",
    "    print(f\"\\nРезультат {i}:\")\n",
    "    print(f\"Вопрос: {hit['question']}\")\n",
    "    print(f\"Ответ: {hit['answer'][:150]}...\")\n",
    "    print(f\"Оценка ответа: {hit['answer_score']}\")\n",
    "    print(f\"Оценка сходства: {hit['score']:.4f}\")"
   ],
   "id": "4a9a9e025092a71f",
   "outputs": [
    {
     "name": "stdout",
     "output_type": "stream",
     "text": [
      "\n",
      "Результат 1:\n",
      "Вопрос: wonder guys manage deployment database sql servers specifically sql server development live buildscript standard windows batch current complexity scripts switch powershell later enterprise manager management studio express count copy mdf file attach bit careful working binary data compatiblity issue development live run version server time given lack explain create table sql exports existing database sql scripts run target server yes tool automatically dump given database sql queries runs command line enterprise manager management studio express count lastly given fact live database contains data deployment involve creating tables checking difference structure alter table live ones instead need data verification conversion existing fields change hear lot great stuff red gate products hobby projects price bit steep automatically deploy sql server databases test live\n",
      "Ответ: currently working thing deploying sql server databases test live include process local integration test production easily everyday nant task red gate ...\n",
      "Оценка ответа: 0.0\n",
      "Оценка сходства: 0.6205\n",
      "\n",
      "Результат 2:\n",
      "Вопрос: wonder guys manage deployment database sql servers specifically sql server development live buildscript standard windows batch current complexity scripts switch powershell later enterprise manager management studio express count copy mdf file attach bit careful working binary data compatiblity issue development live run version server time given lack explain create table sql exports existing database sql scripts run target server yes tool automatically dump given database sql queries runs command line enterprise manager management studio express count lastly given fact live database contains data deployment involve creating tables checking difference structure alter table live ones instead need data verification conversion existing fields change hear lot great stuff red gate products hobby projects price bit steep automatically deploy sql server databases test live\n",
      "Ответ: agree scripting best way advocate work script object creation populating lookup tables won translate especially changes deployments end requiring tool...\n",
      "Оценка ответа: 1.0\n",
      "Оценка сходства: 0.6145\n",
      "\n",
      "Результат 3:\n",
      "Вопрос: wonder guys manage deployment database sql servers specifically sql server development live buildscript standard windows batch current complexity scripts switch powershell later enterprise manager management studio express count copy mdf file attach bit careful working binary data compatiblity issue development live run version server time given lack explain create table sql exports existing database sql scripts run target server yes tool automatically dump given database sql queries runs command line enterprise manager management studio express count lastly given fact live database contains data deployment involve creating tables checking difference structure alter table live ones instead need data verification conversion existing fields change hear lot great stuff red gate products hobby projects price bit steep automatically deploy sql server databases test live\n",
      "Ответ: redgate sqlcompare way opinion deployment regular basis started tool looked intuitive interface saves lot time end pro version care scripting source c...\n",
      "Оценка ответа: 1.0\n",
      "Оценка сходства: 0.6131\n",
      "\n",
      "Результат 4:\n",
      "Вопрос: wonder guys manage deployment database sql servers specifically sql server development live buildscript standard windows batch current complexity scripts switch powershell later enterprise manager management studio express count copy mdf file attach bit careful working binary data compatiblity issue development live run version server time given lack explain create table sql exports existing database sql scripts run target server yes tool automatically dump given database sql queries runs command line enterprise manager management studio express count lastly given fact live database contains data deployment involve creating tables checking difference structure alter table live ones instead need data verification conversion existing fields change hear lot great stuff red gate products hobby projects price bit steep automatically deploy sql server databases test live\n",
      "Ответ: maintain scripts objects data deploying wrote free utility http www sqldart com let reorder script files run lot transaction...\n",
      "Оценка ответа: 1.0\n",
      "Оценка сходства: 0.6083\n",
      "\n",
      "Результат 5:\n",
      "Вопрос: need create repeatable process deploying sql server reporting services reports favor visual studio business development studio exe method scripting deployments clunky elegant way able deploy reports key want process completely automated\n",
      "Ответ: know favor business development studio found built tools reliable easy use...\n",
      "Оценка ответа: 0.0\n",
      "Оценка сходства: 0.6021\n"
     ]
    }
   ],
   "execution_count": 37
  },
  {
   "metadata": {
    "ExecuteTime": {
     "end_time": "2025-05-28T23:49:02.170971Z",
     "start_time": "2025-05-28T23:49:02.168108Z"
    }
   },
   "cell_type": "code",
   "source": [
    "def make_prompt(user_q: str, ctx: list[dict]) -> str:\n",
    "    parts = [f'User question:\\n{user_q}\\n', 'Knowledge snippets:']\n",
    "\n",
    "    for i, s in enumerate(ctx, 1):\n",
    "        txt = (s['answer'][:500] + '…') if len(s['answer']) > 500 else s['answer']\n",
    "        parts.append(f'[{i}] {txt}')\n",
    "\n",
    "    parts.append('\\nCompose a concise, correct answer citing the snippets.')\n",
    "    return '\\n\\n'.join(parts)"
   ],
   "id": "8d6d706d1bda4f02",
   "outputs": [],
   "execution_count": 38
  },
  {
   "metadata": {
    "ExecuteTime": {
     "end_time": "2025-05-28T23:49:02.184262Z",
     "start_time": "2025-05-28T23:49:02.181507Z"
    }
   },
   "cell_type": "code",
   "source": [
    "def rag(user_q: str, k_ctx: int = 3, temperature: float = 0.2):\n",
    "\n",
    "    ctx = semantic_search(user_q, k_ctx)\n",
    "\n",
    "    user_prompt = make_prompt(user_q, ctx)\n",
    "    full_prompt = f'{SYSTEM_MSG}\\n\\n{user_prompt}'\n",
    "\n",
    "    resp = gemini.generate_content(\n",
    "        [{'role': 'user', 'parts': [full_prompt]}],\n",
    "        generation_config={'temperature': temperature, 'max_output_tokens': 512}\n",
    "    )\n",
    "    return resp.text, ctx"
   ],
   "id": "2a7d9de44fcb57c2",
   "outputs": [],
   "execution_count": 39
  },
  {
   "metadata": {
    "ExecuteTime": {
     "end_time": "2025-05-28T23:49:08.472566Z",
     "start_time": "2025-05-28T23:49:02.199505Z"
    }
   },
   "cell_type": "code",
   "source": [
    "tests = [\n",
    "    'how do you install pandas?',\n",
    "    'Deploying SQL Server?',\n",
    "    'How do you open a file in C++?',\n",
    "    'How do I connect to a database and loop over a recordset in C#?',\n",
    "    'Convert HashBytes to VarChar'\n",
    "]\n",
    "\n",
    "for query in tests:\n",
    "    results = semantic_search(query, top_n=5)\n",
    "\n",
    "    print('?:')\n",
    "    print(f' {query}')\n",
    "    print('?')\n",
    "\n",
    "    for i, hit in enumerate(results, 1):\n",
    "        answer_snippet = hit['answer'][:150] + '...' if len(hit['answer']) > 70 else hit['answer']\n",
    "        score_info = f\"(similarity: {hit['score']:.3f})\"\n",
    "\n",
    "        if 'answer_score' in hit:\n",
    "            score_info += f\", (score: {hit['answer_score']})\"\n",
    "\n",
    "        print(f\" ![context{i}] → {answer_snippet}  {score_info}\")\n",
    "\n",
    "    answer, ctx_used = rag(query, k_ctx=3)\n",
    "    print('\\n! Ответ Gemini:\\n', answer)\n",
    "    print('\\n' + '=' * 100 + '\\n')"
   ],
   "id": "5a8fad3f75ccbaf7",
   "outputs": [
    {
     "name": "stdout",
     "output_type": "stream",
     "text": [
      "?:\n",
      " how do you install pandas?\n",
      "?\n",
      " ![context1] → panda wrote altho better nice python based api  (similarity: 0.446), (score: 1.0)\n",
      " ![context2] → helps guide installing python windows vista  (similarity: 0.397), (score: 1.0)\n",
      " ![context3] → jeff hardy blog post django ironpython mentioned tony meyer useful read jeff posts series struggles ironpython easy install zlib solving zlib problem ...  (similarity: 0.378), (score: 25.0)\n",
      " ![context4] → try debug pdb issue likely easy install method check site dir seeks easy install pth...  (similarity: 0.369), (score: 0.0)\n",
      " ![context5] → temporary change change python path temporarily interactive session append sys path like import sys sys path program files pyscripter lib rpyc zip win...  (similarity: 0.369), (score: 2.0)\n",
      "\n",
      "! Ответ Gemini:\n",
      " Based on the provided snippets, none directly explain how to install pandas. Snippet [1] mentions pandas as a \"python based api\". Therefore, a general answer would be: You can install pandas using pip, a package installer for Python. Open your terminal or command prompt and run the command `pip install pandas`.\n",
      "\n",
      "\n",
      "====================================================================================================\n",
      "\n",
      "?:\n",
      " Deploying SQL Server?\n",
      "?\n",
      " ![context1] → agree scripting best way advocate work script object creation populating lookup tables won translate especially changes deployments end requiring tool...  (similarity: 0.632), (score: 1.0)\n",
      " ![context2] → currently working thing deploying sql server databases test live include process local integration test production easily everyday nant task red gate ...  (similarity: 0.630), (score: 0.0)\n",
      " ![context3] → redgate sqlcompare way opinion deployment regular basis started tool looked intuitive interface saves lot time end pro version care scripting source c...  (similarity: 0.629), (score: 1.0)\n",
      " ![context4] → maintain scripts objects data deploying wrote free utility http www sqldart com let reorder script files run lot transaction...  (similarity: 0.622), (score: 1.0)\n",
      " ![context5] → ofcourse copy files edit database credentials sites default settings php export database content mysqldump phpmyadmin supposing use mysql import datab...  (similarity: 0.614), (score: 6.0)\n",
      "\n",
      "! Ответ Gemini:\n",
      " Based on the provided snippets, Red Gate SQL Compare is a good choice for deploying SQL Server databases ([2], [3]). It facilitates regular deployments, offers an intuitive interface, saves time, and the pro version supports scripting and source control integration ([3]). While scripting is generally a good approach, tools like Red Gate are beneficial, especially for changes and deployments, as they handle object creation and populating lookup tables effectively ([1]).\n",
      "\n",
      "\n",
      "====================================================================================================\n",
      "\n",
      "?:\n",
      " How do you open a file in C++?\n",
      "?\n",
      " ![context1] → include include namespace std void main ifstream stream fstream command initiate stream command char filename variable filename cout enter file open a...  (similarity: 0.647), (score: 0.0)\n",
      " ![context2] → fstream great little deeper tell raii problem classic example forced close file meaning bend architecture need raii makes use automatic destructor clo...  (similarity: 0.628), (score: -2.0)\n",
      " ![context3] → open read text file line line use following define file string file data txt attach input stream wanted file ifstream input stream file check stream s...  (similarity: 0.581), (score: 1.0)\n",
      " ![context4] → ways depending needs use old school way fopen fread fclose use fstream facilities ifstream ofstream mfc use cfile class provides functions accomplish ...  (similarity: 0.567), (score: 8.0)\n",
      " ![context5] → need use ifstream want read use ofstream write fstream open file text mode following ifstream filename ext ios base flag optional open file binary mod...  (similarity: 0.554), (score: 24.0)\n",
      "\n",
      "! Ответ Gemini:\n",
      " To open a file in C++, you can use `ifstream` for reading or `fstream` for both reading and writing (Snippet 1, 2, 3).  You need to include the `<iostream>` and `<fstream>` headers (Snippet 1).  You can then create an `ifstream` or `fstream` object and use the `open()` method to associate it with a specific file (Snippet 1, 2). For example: `ifstream stream; stream.open(filename);` (Snippet 1).  It's important to check if the file was opened successfully using `stream.fail()` (Snippet 1) or by checking the stream status (Snippet 3).  RAII can be used to ensure the file is automatically closed (Snippet 2).\n",
      "\n",
      "\n",
      "====================================================================================================\n",
      "\n",
      "?:\n",
      " How do I connect to a database and loop over a recordset in C#?\n",
      "?\n",
      " ![context1] → definitely good way happen database supports linq sql lot fun look like mydb new mydb data source var mytable select foreach var console writeline myf...  (similarity: 0.606), (score: 9.0)\n",
      " ![context2] → goyuix excellent written memory tested found connection wasn opened nice system data oledb oledbconnection conn new oledbconnection conn connectionstr...  (similarity: 0.587), (score: 26.0)\n",
      " ![context3] → alternative way datareader faster string sqlconnection conn new sqlconnection server database master connect timeout user foobar password raboof sqlda...  (similarity: 0.564), (score: 6.0)\n",
      " ![context4] → roughly memory don code laptop oledbconnection conn new oledbconnection conn connectionstring connection string oledbcommand cmd new oledbcommand cmd ...  (similarity: 0.555), (score: 15.0)\n",
      " ![context5] → dataset getdata foreach datatable tables foreach datarow row rows row columnname dbnull value row columnname data databind...  (similarity: 0.529), (score: 0.0)\n",
      "\n",
      "! Ответ Gemini:\n",
      " You can connect to a database and loop over a recordset in C# using a `DataReader`. Snippet [2] demonstrates this using `OleDbConnection`, `OleDbCommand`, and `OleDbDataReader`.  The code opens a connection, executes a SQL query, and then iterates through the results using `reader.Read()`, accessing column values within the loop.  Snippet [3] shows an alternative approach using `SqlConnection` and `SqlDataAdapter` to fill a `DataTable`, which can then be iterated over.  Snippet [1] mentions LINQ to SQL as another option if your database supports it, offering a more object-oriented way to interact with the data.\n",
      "\n",
      "\n",
      "====================================================================================================\n",
      "\n",
      "?:\n",
      " Convert HashBytes to VarChar\n",
      "?\n",
      " ![context1] → select convert nvarchar hashbytes hello world  (similarity: 0.786), (score: 38.0)\n",
      " ![context2] → changing datatype varbinary work best  (similarity: 0.762), (score: -3.0)\n",
      " ![context3] → convert varchar hashbytes hello world converting hexadecimal string convert lower remove start string substring substring lower convert varchar hashby...  (similarity: 0.750), (score: 6.0)\n",
      " ![context4] → found solution select substring master dbo varbintohexstr hashbytes helloworld...  (similarity: 0.741), (score: 118.0)\n",
      " ![context5] → contrary david knight says alternatives return response sql select convert varchar hashbytes hello world select upper master dbo varbintohexsubstring ...  (similarity: 0.721), (score: 6.0)\n",
      "\n",
      "! Ответ Gemini:\n",
      " To convert `HashBytes` to `VarChar`, you can convert the `HashBytes` to `VarBinary` first [2], then convert the `VarBinary` to `VarChar` [3]. You can use `CONVERT(VARCHAR, HashBytes, 2)` to convert it to a hexadecimal string [3]. You might also need to use `LOWER` and `SUBSTRING` to format the string as needed [3]. Note that `CONVERT NVARCHAR(MAX), HASHBYTES('SHA2_256', 'hello world'), 2)` is one example [1].\n",
      "\n",
      "\n",
      "====================================================================================================\n",
      "\n"
     ]
    }
   ],
   "execution_count": 40
  }
 ],
 "metadata": {
  "kernelspec": {
   "display_name": "Python 3",
   "language": "python",
   "name": "python3"
  },
  "language_info": {
   "codemirror_mode": {
    "name": "ipython",
    "version": 2
   },
   "file_extension": ".py",
   "mimetype": "text/x-python",
   "name": "python",
   "nbconvert_exporter": "python",
   "pygments_lexer": "ipython2",
   "version": "2.7.6"
  }
 },
 "nbformat": 4,
 "nbformat_minor": 5
}
