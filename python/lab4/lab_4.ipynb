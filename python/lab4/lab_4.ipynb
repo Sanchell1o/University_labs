{
 "metadata": {
  "kernelspec": {
   "language": "python",
   "display_name": "Python 3",
   "name": "python3"
  },
  "language_info": {
   "name": "python",
   "version": "3.11.11",
   "mimetype": "text/x-python",
   "codemirror_mode": {
    "name": "ipython",
    "version": 3
   },
   "pygments_lexer": "ipython3",
   "nbconvert_exporter": "python",
   "file_extension": ".py"
  },
  "kaggle": {
   "accelerator": "none",
   "dataSources": [
    {
     "sourceId": 11774404,
     "sourceType": "datasetVersion",
     "datasetId": 7392329
    }
   ],
   "dockerImageVersionId": 31012,
   "isInternetEnabled": true,
   "language": "python",
   "sourceType": "notebook",
   "isGpuEnabled": false
  },
  "colab": {
   "name": "PythonLab4",
   "provenance": []
  }
 },
 "nbformat_minor": 0,
 "nbformat": 4,
 "cells": [
  {
   "metadata": {
    "_uuid": "8f2839f25d086af736a60e9eeb907d3b93b6e0e5",
    "_cell_guid": "b1076dfc-b9ad-4769-8c92-a6c4dae69d19",
    "trusted": true,
    "execution": {
     "iopub.status.busy": "2025-05-13T01:05:29.538709Z",
     "iopub.execute_input": "2025-05-13T01:05:29.539101Z",
     "iopub.status.idle": "2025-05-13T01:05:39.74599Z",
     "shell.execute_reply.started": "2025-05-13T01:05:29.539077Z",
     "shell.execute_reply": "2025-05-13T01:05:39.745131Z"
    },
    "id": "5OIacpDR3Lhi",
    "ExecuteTime": {
     "end_time": "2025-05-18T18:45:15.391334Z",
     "start_time": "2025-05-18T18:45:15.289029Z"
    }
   },
   "cell_type": "code",
   "source": [
    "from collections import defaultdict\n",
    "\n",
    "import polars as pl\n",
    "import math"
   ],
   "outputs": [],
   "execution_count": 1
  },
  {
   "cell_type": "code",
   "source": "df = pl.read_csv(\"clear.csv\", columns=[\"Id_questions\", \"clean_question\", \"clean_answers\", \"Score_answers\"])",
   "metadata": {
    "trusted": true,
    "execution": {
     "iopub.status.busy": "2025-05-13T01:05:39.851508Z",
     "iopub.execute_input": "2025-05-13T01:05:39.851863Z",
     "iopub.status.idle": "2025-05-13T01:07:21.154807Z",
     "shell.execute_reply.started": "2025-05-13T01:05:39.85184Z",
     "shell.execute_reply": "2025-05-13T01:07:21.153384Z"
    },
    "id": "do-MWqdI3Lhj",
    "ExecuteTime": {
     "end_time": "2025-05-18T18:45:19.249672Z",
     "start_time": "2025-05-18T18:45:15.404658Z"
    }
   },
   "outputs": [],
   "execution_count": 2
  },
  {
   "cell_type": "code",
   "source": "df.head()",
   "metadata": {
    "trusted": true,
    "execution": {
     "iopub.status.busy": "2025-05-13T01:07:21.155654Z",
     "iopub.execute_input": "2025-05-13T01:07:21.155901Z",
     "iopub.status.idle": "2025-05-13T01:07:21.188757Z",
     "shell.execute_reply.started": "2025-05-13T01:07:21.15588Z",
     "shell.execute_reply": "2025-05-13T01:07:21.187978Z"
    },
    "id": "gNPRnnqz3Lhj",
    "ExecuteTime": {
     "end_time": "2025-05-18T18:45:19.376526Z",
     "start_time": "2025-05-18T18:45:19.370724Z"
    }
   },
   "outputs": [
    {
     "data": {
      "text/plain": [
       "shape: (5, 4)\n",
       "┌──────────────┬───────────────┬─────────────────────────────────┬─────────────────────────────────┐\n",
       "│ Id_questions ┆ Score_answers ┆ clean_question                  ┆ clean_answers                   │\n",
       "│ ---          ┆ ---           ┆ ---                             ┆ ---                             │\n",
       "│ i64          ┆ f64           ┆ str                             ┆ str                             │\n",
       "╞══════════════╪═══════════════╪═════════════════════════════════╪═════════════════════════════════╡\n",
       "│ 80           ┆ 12.0          ┆ written database generation sc… ┆ wound kind hack actually works… │\n",
       "│ 80           ┆ 6.0           ┆ written database generation sc… ┆ sqlite api function called lik… │\n",
       "│ 80           ┆ 1.0           ┆ written database generation sc… ┆ making delimiter little comple… │\n",
       "│ 90           ┆ 13.0          ┆ good tutorials explaining bran… ┆ version control subversion goo… │\n",
       "│ 90           ┆ 2.0           ┆ good tutorials explaining bran… ┆ try version control standalone… │\n",
       "└──────────────┴───────────────┴─────────────────────────────────┴─────────────────────────────────┘"
      ],
      "text/html": [
       "<div><style>\n",
       ".dataframe > thead > tr,\n",
       ".dataframe > tbody > tr {\n",
       "  text-align: right;\n",
       "  white-space: pre-wrap;\n",
       "}\n",
       "</style>\n",
       "<small>shape: (5, 4)</small><table border=\"1\" class=\"dataframe\"><thead><tr><th>Id_questions</th><th>Score_answers</th><th>clean_question</th><th>clean_answers</th></tr><tr><td>i64</td><td>f64</td><td>str</td><td>str</td></tr></thead><tbody><tr><td>80</td><td>12.0</td><td>&quot;written database generation sc…</td><td>&quot;wound kind hack actually works…</td></tr><tr><td>80</td><td>6.0</td><td>&quot;written database generation sc…</td><td>&quot;sqlite api function called lik…</td></tr><tr><td>80</td><td>1.0</td><td>&quot;written database generation sc…</td><td>&quot;making delimiter little comple…</td></tr><tr><td>90</td><td>13.0</td><td>&quot;good tutorials explaining bran…</td><td>&quot;version control subversion goo…</td></tr><tr><td>90</td><td>2.0</td><td>&quot;good tutorials explaining bran…</td><td>&quot;try version control standalone…</td></tr></tbody></table></div>"
      ]
     },
     "execution_count": 3,
     "metadata": {},
     "output_type": "execute_result"
    }
   ],
   "execution_count": 3
  },
  {
   "cell_type": "code",
   "source": "df_token = df.with_columns(pl.col(\"clean_question\").str.split(\" \").alias(\"tokens\"))",
   "metadata": {
    "trusted": true,
    "execution": {
     "iopub.status.busy": "2025-05-13T01:07:21.189516Z",
     "iopub.execute_input": "2025-05-13T01:07:21.189757Z",
     "iopub.status.idle": "2025-05-13T01:07:31.673304Z",
     "shell.execute_reply.started": "2025-05-13T01:07:21.189738Z",
     "shell.execute_reply": "2025-05-13T01:07:31.672592Z"
    },
    "id": "tT6Crjuy3Lhj",
    "ExecuteTime": {
     "end_time": "2025-05-18T18:45:20.071775Z",
     "start_time": "2025-05-18T18:45:19.488882Z"
    }
   },
   "outputs": [],
   "execution_count": 4
  },
  {
   "cell_type": "code",
   "source": "df_token.head()",
   "metadata": {
    "trusted": true,
    "execution": {
     "iopub.status.busy": "2025-05-13T01:07:31.674177Z",
     "iopub.execute_input": "2025-05-13T01:07:31.674506Z",
     "iopub.status.idle": "2025-05-13T01:07:31.682853Z",
     "shell.execute_reply.started": "2025-05-13T01:07:31.674478Z",
     "shell.execute_reply": "2025-05-13T01:07:31.682116Z"
    },
    "id": "MXVYQ3i23Lhj",
    "ExecuteTime": {
     "end_time": "2025-05-18T18:45:20.273587Z",
     "start_time": "2025-05-18T18:45:20.270250Z"
    }
   },
   "outputs": [
    {
     "data": {
      "text/plain": [
       "shape: (5, 5)\n",
       "┌──────────────┬───────────────┬──────────────────┬────────────────────────┬───────────────────────┐\n",
       "│ Id_questions ┆ Score_answers ┆ clean_question   ┆ clean_answers          ┆ tokens                │\n",
       "│ ---          ┆ ---           ┆ ---              ┆ ---                    ┆ ---                   │\n",
       "│ i64          ┆ f64           ┆ str              ┆ str                    ┆ list[str]             │\n",
       "╞══════════════╪═══════════════╪══════════════════╪════════════════════════╪═══════════════════════╡\n",
       "│ 80           ┆ 12.0          ┆ written database ┆ wound kind hack        ┆ [\"written\",           │\n",
       "│              ┆               ┆ generation sc…   ┆ actually works…        ┆ \"database\", … \"sta…   │\n",
       "│ 80           ┆ 6.0           ┆ written database ┆ sqlite api function    ┆ [\"written\",           │\n",
       "│              ┆               ┆ generation sc…   ┆ called lik…            ┆ \"database\", … \"sta…   │\n",
       "│ 80           ┆ 1.0           ┆ written database ┆ making delimiter       ┆ [\"written\",           │\n",
       "│              ┆               ┆ generation sc…   ┆ little comple…         ┆ \"database\", … \"sta…   │\n",
       "│ 90           ┆ 13.0          ┆ good tutorials   ┆ version control        ┆ [\"good\", \"tutorials\", │\n",
       "│              ┆               ┆ explaining bran… ┆ subversion goo…        ┆ … \"clien…             │\n",
       "│ 90           ┆ 2.0           ┆ good tutorials   ┆ try version control    ┆ [\"good\", \"tutorials\", │\n",
       "│              ┆               ┆ explaining bran… ┆ standalone…            ┆ … \"clien…             │\n",
       "└──────────────┴───────────────┴──────────────────┴────────────────────────┴───────────────────────┘"
      ],
      "text/html": [
       "<div><style>\n",
       ".dataframe > thead > tr,\n",
       ".dataframe > tbody > tr {\n",
       "  text-align: right;\n",
       "  white-space: pre-wrap;\n",
       "}\n",
       "</style>\n",
       "<small>shape: (5, 5)</small><table border=\"1\" class=\"dataframe\"><thead><tr><th>Id_questions</th><th>Score_answers</th><th>clean_question</th><th>clean_answers</th><th>tokens</th></tr><tr><td>i64</td><td>f64</td><td>str</td><td>str</td><td>list[str]</td></tr></thead><tbody><tr><td>80</td><td>12.0</td><td>&quot;written database generation sc…</td><td>&quot;wound kind hack actually works…</td><td>[&quot;written&quot;, &quot;database&quot;, … &quot;statement&quot;]</td></tr><tr><td>80</td><td>6.0</td><td>&quot;written database generation sc…</td><td>&quot;sqlite api function called lik…</td><td>[&quot;written&quot;, &quot;database&quot;, … &quot;statement&quot;]</td></tr><tr><td>80</td><td>1.0</td><td>&quot;written database generation sc…</td><td>&quot;making delimiter little comple…</td><td>[&quot;written&quot;, &quot;database&quot;, … &quot;statement&quot;]</td></tr><tr><td>90</td><td>13.0</td><td>&quot;good tutorials explaining bran…</td><td>&quot;version control subversion goo…</td><td>[&quot;good&quot;, &quot;tutorials&quot;, … &quot;client&quot;]</td></tr><tr><td>90</td><td>2.0</td><td>&quot;good tutorials explaining bran…</td><td>&quot;try version control standalone…</td><td>[&quot;good&quot;, &quot;tutorials&quot;, … &quot;client&quot;]</td></tr></tbody></table></div>"
      ]
     },
     "execution_count": 5,
     "metadata": {},
     "output_type": "execute_result"
    }
   ],
   "execution_count": 5
  },
  {
   "cell_type": "code",
   "source": [
    "df_token_NO_NAN = df_token.filter(\n",
    "    ~pl.all_horizontal(pl.col('clean_question').is_null())\n",
    ")"
   ],
   "metadata": {
    "trusted": true,
    "execution": {
     "iopub.status.busy": "2025-05-13T01:07:31.708427Z",
     "iopub.execute_input": "2025-05-13T01:07:31.70879Z",
     "iopub.status.idle": "2025-05-13T01:07:34.304105Z",
     "shell.execute_reply.started": "2025-05-13T01:07:31.708768Z",
     "shell.execute_reply": "2025-05-13T01:07:34.303293Z"
    },
    "id": "4DQkuu0e3Lhj",
    "ExecuteTime": {
     "end_time": "2025-05-18T18:45:20.398254Z",
     "start_time": "2025-05-18T18:45:20.359485Z"
    }
   },
   "outputs": [],
   "execution_count": 6
  },
  {
   "metadata": {
    "ExecuteTime": {
     "end_time": "2025-05-18T18:45:20.970632Z",
     "start_time": "2025-05-18T18:45:20.575220Z"
    }
   },
   "cell_type": "code",
   "source": [
    "df_token_NO_NAN = df_token_NO_NAN.filter(\n",
    "    ~pl.all_horizontal(pl.col('clean_answers').is_null())\n",
    ")"
   ],
   "outputs": [],
   "execution_count": 7
  },
  {
   "cell_type": "code",
   "source": "df_token_NO_NAN.head()",
   "metadata": {
    "trusted": true,
    "execution": {
     "iopub.status.busy": "2025-05-13T01:07:34.314184Z",
     "iopub.execute_input": "2025-05-13T01:07:34.314529Z",
     "iopub.status.idle": "2025-05-13T01:07:34.331362Z",
     "shell.execute_reply.started": "2025-05-13T01:07:34.314503Z",
     "shell.execute_reply": "2025-05-13T01:07:34.330607Z"
    },
    "id": "OiLW0HKb3Lhj",
    "ExecuteTime": {
     "end_time": "2025-05-18T18:45:21.060147Z",
     "start_time": "2025-05-18T18:45:21.055985Z"
    }
   },
   "outputs": [
    {
     "data": {
      "text/plain": [
       "shape: (5, 5)\n",
       "┌──────────────┬───────────────┬──────────────────┬────────────────────────┬───────────────────────┐\n",
       "│ Id_questions ┆ Score_answers ┆ clean_question   ┆ clean_answers          ┆ tokens                │\n",
       "│ ---          ┆ ---           ┆ ---              ┆ ---                    ┆ ---                   │\n",
       "│ i64          ┆ f64           ┆ str              ┆ str                    ┆ list[str]             │\n",
       "╞══════════════╪═══════════════╪══════════════════╪════════════════════════╪═══════════════════════╡\n",
       "│ 80           ┆ 12.0          ┆ written database ┆ wound kind hack        ┆ [\"written\",           │\n",
       "│              ┆               ┆ generation sc…   ┆ actually works…        ┆ \"database\", … \"sta…   │\n",
       "│ 80           ┆ 6.0           ┆ written database ┆ sqlite api function    ┆ [\"written\",           │\n",
       "│              ┆               ┆ generation sc…   ┆ called lik…            ┆ \"database\", … \"sta…   │\n",
       "│ 80           ┆ 1.0           ┆ written database ┆ making delimiter       ┆ [\"written\",           │\n",
       "│              ┆               ┆ generation sc…   ┆ little comple…         ┆ \"database\", … \"sta…   │\n",
       "│ 90           ┆ 13.0          ┆ good tutorials   ┆ version control        ┆ [\"good\", \"tutorials\", │\n",
       "│              ┆               ┆ explaining bran… ┆ subversion goo…        ┆ … \"clien…             │\n",
       "│ 90           ┆ 2.0           ┆ good tutorials   ┆ try version control    ┆ [\"good\", \"tutorials\", │\n",
       "│              ┆               ┆ explaining bran… ┆ standalone…            ┆ … \"clien…             │\n",
       "└──────────────┴───────────────┴──────────────────┴────────────────────────┴───────────────────────┘"
      ],
      "text/html": [
       "<div><style>\n",
       ".dataframe > thead > tr,\n",
       ".dataframe > tbody > tr {\n",
       "  text-align: right;\n",
       "  white-space: pre-wrap;\n",
       "}\n",
       "</style>\n",
       "<small>shape: (5, 5)</small><table border=\"1\" class=\"dataframe\"><thead><tr><th>Id_questions</th><th>Score_answers</th><th>clean_question</th><th>clean_answers</th><th>tokens</th></tr><tr><td>i64</td><td>f64</td><td>str</td><td>str</td><td>list[str]</td></tr></thead><tbody><tr><td>80</td><td>12.0</td><td>&quot;written database generation sc…</td><td>&quot;wound kind hack actually works…</td><td>[&quot;written&quot;, &quot;database&quot;, … &quot;statement&quot;]</td></tr><tr><td>80</td><td>6.0</td><td>&quot;written database generation sc…</td><td>&quot;sqlite api function called lik…</td><td>[&quot;written&quot;, &quot;database&quot;, … &quot;statement&quot;]</td></tr><tr><td>80</td><td>1.0</td><td>&quot;written database generation sc…</td><td>&quot;making delimiter little comple…</td><td>[&quot;written&quot;, &quot;database&quot;, … &quot;statement&quot;]</td></tr><tr><td>90</td><td>13.0</td><td>&quot;good tutorials explaining bran…</td><td>&quot;version control subversion goo…</td><td>[&quot;good&quot;, &quot;tutorials&quot;, … &quot;client&quot;]</td></tr><tr><td>90</td><td>2.0</td><td>&quot;good tutorials explaining bran…</td><td>&quot;try version control standalone…</td><td>[&quot;good&quot;, &quot;tutorials&quot;, … &quot;client&quot;]</td></tr></tbody></table></div>"
      ]
     },
     "execution_count": 8,
     "metadata": {},
     "output_type": "execute_result"
    }
   ],
   "execution_count": 8
  },
  {
   "cell_type": "code",
   "source": "df_token_NO_NAN.null_count()",
   "metadata": {
    "trusted": true,
    "execution": {
     "iopub.status.busy": "2025-05-13T01:07:37.791265Z",
     "iopub.execute_input": "2025-05-13T01:07:37.791532Z",
     "iopub.status.idle": "2025-05-13T01:07:37.797714Z",
     "shell.execute_reply.started": "2025-05-13T01:07:37.791512Z",
     "shell.execute_reply": "2025-05-13T01:07:37.796895Z"
    },
    "id": "akLd2wbr3Lhk",
    "ExecuteTime": {
     "end_time": "2025-05-18T18:45:21.134831Z",
     "start_time": "2025-05-18T18:45:21.130593Z"
    }
   },
   "outputs": [
    {
     "data": {
      "text/plain": [
       "shape: (1, 5)\n",
       "┌──────────────┬───────────────┬────────────────┬───────────────┬────────┐\n",
       "│ Id_questions ┆ Score_answers ┆ clean_question ┆ clean_answers ┆ tokens │\n",
       "│ ---          ┆ ---           ┆ ---            ┆ ---           ┆ ---    │\n",
       "│ u32          ┆ u32           ┆ u32            ┆ u32           ┆ u32    │\n",
       "╞══════════════╪═══════════════╪════════════════╪═══════════════╪════════╡\n",
       "│ 0            ┆ 0             ┆ 0              ┆ 0             ┆ 0      │\n",
       "└──────────────┴───────────────┴────────────────┴───────────────┴────────┘"
      ],
      "text/html": [
       "<div><style>\n",
       ".dataframe > thead > tr,\n",
       ".dataframe > tbody > tr {\n",
       "  text-align: right;\n",
       "  white-space: pre-wrap;\n",
       "}\n",
       "</style>\n",
       "<small>shape: (1, 5)</small><table border=\"1\" class=\"dataframe\"><thead><tr><th>Id_questions</th><th>Score_answers</th><th>clean_question</th><th>clean_answers</th><th>tokens</th></tr><tr><td>u32</td><td>u32</td><td>u32</td><td>u32</td><td>u32</td></tr></thead><tbody><tr><td>0</td><td>0</td><td>0</td><td>0</td><td>0</td></tr></tbody></table></div>"
      ]
     },
     "execution_count": 9,
     "metadata": {},
     "output_type": "execute_result"
    }
   ],
   "execution_count": 9
  },
  {
   "metadata": {
    "ExecuteTime": {
     "end_time": "2025-05-18T18:45:21.401251Z",
     "start_time": "2025-05-18T18:45:21.397344Z"
    }
   },
   "cell_type": "code",
   "source": "df_token_NO_NAN.head()",
   "outputs": [
    {
     "data": {
      "text/plain": [
       "shape: (5, 5)\n",
       "┌──────────────┬───────────────┬──────────────────┬────────────────────────┬───────────────────────┐\n",
       "│ Id_questions ┆ Score_answers ┆ clean_question   ┆ clean_answers          ┆ tokens                │\n",
       "│ ---          ┆ ---           ┆ ---              ┆ ---                    ┆ ---                   │\n",
       "│ i64          ┆ f64           ┆ str              ┆ str                    ┆ list[str]             │\n",
       "╞══════════════╪═══════════════╪══════════════════╪════════════════════════╪═══════════════════════╡\n",
       "│ 80           ┆ 12.0          ┆ written database ┆ wound kind hack        ┆ [\"written\",           │\n",
       "│              ┆               ┆ generation sc…   ┆ actually works…        ┆ \"database\", … \"sta…   │\n",
       "│ 80           ┆ 6.0           ┆ written database ┆ sqlite api function    ┆ [\"written\",           │\n",
       "│              ┆               ┆ generation sc…   ┆ called lik…            ┆ \"database\", … \"sta…   │\n",
       "│ 80           ┆ 1.0           ┆ written database ┆ making delimiter       ┆ [\"written\",           │\n",
       "│              ┆               ┆ generation sc…   ┆ little comple…         ┆ \"database\", … \"sta…   │\n",
       "│ 90           ┆ 13.0          ┆ good tutorials   ┆ version control        ┆ [\"good\", \"tutorials\", │\n",
       "│              ┆               ┆ explaining bran… ┆ subversion goo…        ┆ … \"clien…             │\n",
       "│ 90           ┆ 2.0           ┆ good tutorials   ┆ try version control    ┆ [\"good\", \"tutorials\", │\n",
       "│              ┆               ┆ explaining bran… ┆ standalone…            ┆ … \"clien…             │\n",
       "└──────────────┴───────────────┴──────────────────┴────────────────────────┴───────────────────────┘"
      ],
      "text/html": [
       "<div><style>\n",
       ".dataframe > thead > tr,\n",
       ".dataframe > tbody > tr {\n",
       "  text-align: right;\n",
       "  white-space: pre-wrap;\n",
       "}\n",
       "</style>\n",
       "<small>shape: (5, 5)</small><table border=\"1\" class=\"dataframe\"><thead><tr><th>Id_questions</th><th>Score_answers</th><th>clean_question</th><th>clean_answers</th><th>tokens</th></tr><tr><td>i64</td><td>f64</td><td>str</td><td>str</td><td>list[str]</td></tr></thead><tbody><tr><td>80</td><td>12.0</td><td>&quot;written database generation sc…</td><td>&quot;wound kind hack actually works…</td><td>[&quot;written&quot;, &quot;database&quot;, … &quot;statement&quot;]</td></tr><tr><td>80</td><td>6.0</td><td>&quot;written database generation sc…</td><td>&quot;sqlite api function called lik…</td><td>[&quot;written&quot;, &quot;database&quot;, … &quot;statement&quot;]</td></tr><tr><td>80</td><td>1.0</td><td>&quot;written database generation sc…</td><td>&quot;making delimiter little comple…</td><td>[&quot;written&quot;, &quot;database&quot;, … &quot;statement&quot;]</td></tr><tr><td>90</td><td>13.0</td><td>&quot;good tutorials explaining bran…</td><td>&quot;version control subversion goo…</td><td>[&quot;good&quot;, &quot;tutorials&quot;, … &quot;client&quot;]</td></tr><tr><td>90</td><td>2.0</td><td>&quot;good tutorials explaining bran…</td><td>&quot;try version control standalone…</td><td>[&quot;good&quot;, &quot;tutorials&quot;, … &quot;client&quot;]</td></tr></tbody></table></div>"
      ]
     },
     "execution_count": 10,
     "metadata": {},
     "output_type": "execute_result"
    }
   ],
   "execution_count": 10
  },
  {
   "cell_type": "code",
   "source": "count = df_token_NO_NAN.height",
   "metadata": {
    "trusted": true,
    "execution": {
     "iopub.status.busy": "2025-05-13T01:07:37.798439Z",
     "iopub.execute_input": "2025-05-13T01:07:37.798653Z",
     "iopub.status.idle": "2025-05-13T01:07:37.813622Z",
     "shell.execute_reply.started": "2025-05-13T01:07:37.798636Z",
     "shell.execute_reply": "2025-05-13T01:07:37.812879Z"
    },
    "id": "HF4-q-Gx3Lhk",
    "ExecuteTime": {
     "end_time": "2025-05-18T18:45:21.552985Z",
     "start_time": "2025-05-18T18:45:21.550396Z"
    }
   },
   "outputs": [],
   "execution_count": 11
  },
  {
   "metadata": {
    "ExecuteTime": {
     "end_time": "2025-05-18T18:45:21.772819Z",
     "start_time": "2025-05-18T18:45:21.769198Z"
    }
   },
   "cell_type": "code",
   "source": "count",
   "outputs": [
    {
     "data": {
      "text/plain": [
       "2013249"
      ]
     },
     "execution_count": 12,
     "metadata": {},
     "output_type": "execute_result"
    }
   ],
   "execution_count": 12
  },
  {
   "cell_type": "code",
   "source": [
    "corpus = df_token_NO_NAN['clean_question'].to_list()\n",
    "tokens = df_token_NO_NAN[\"tokens\"].to_list()"
   ],
   "metadata": {
    "trusted": true,
    "execution": {
     "iopub.status.busy": "2025-05-13T01:07:37.814364Z",
     "iopub.execute_input": "2025-05-13T01:07:37.814607Z",
     "iopub.status.idle": "2025-05-13T01:08:13.105478Z",
     "shell.execute_reply.started": "2025-05-13T01:07:37.814589Z",
     "shell.execute_reply": "2025-05-13T01:08:13.104562Z"
    },
    "id": "lyBJvNIr3Lhk",
    "ExecuteTime": {
     "end_time": "2025-05-18T18:45:31.944281Z",
     "start_time": "2025-05-18T18:45:21.864871Z"
    }
   },
   "outputs": [],
   "execution_count": 13
  },
  {
   "cell_type": "code",
   "source": [
    "invers_index = defaultdict(list)\n",
    "df_counts = defaultdict(int)\n",
    "\n",
    "for document_index, tokens_in_doc in enumerate(tokens):\n",
    "    tf = defaultdict(int)\n",
    "    for t in tokens_in_doc:\n",
    "        tf[t] += 1\n",
    "    for term, freq in tf.items():\n",
    "        invers_index[term].append((document_index, freq))\n",
    "        df_counts[term] += 1"
   ],
   "metadata": {
    "trusted": true,
    "execution": {
     "iopub.status.busy": "2025-05-13T01:08:13.107843Z",
     "iopub.execute_input": "2025-05-13T01:08:13.108182Z",
     "iopub.status.idle": "2025-05-13T01:10:32.796596Z",
     "shell.execute_reply.started": "2025-05-13T01:08:13.108154Z",
     "shell.execute_reply": "2025-05-13T01:10:32.795611Z"
    },
    "id": "jvZBBo5B3Lhk",
    "ExecuteTime": {
     "end_time": "2025-05-18T18:46:33.367811Z",
     "start_time": "2025-05-18T18:45:31.953836Z"
    }
   },
   "outputs": [],
   "execution_count": 14
  },
  {
   "cell_type": "code",
   "source": "idf = {t: math.log((count - df_counts[t] + 0.5) / (df_counts[t] + 0.5) + 1) for t in df_counts}",
   "metadata": {
    "trusted": true,
    "execution": {
     "iopub.status.busy": "2025-05-13T01:10:32.797559Z",
     "iopub.execute_input": "2025-05-13T01:10:32.797833Z",
     "iopub.status.idle": "2025-05-13T01:10:34.767024Z",
     "shell.execute_reply.started": "2025-05-13T01:10:32.797813Z",
     "shell.execute_reply": "2025-05-13T01:10:34.766317Z"
    },
    "id": "9-7KJ-Fu3Lhk",
    "ExecuteTime": {
     "end_time": "2025-05-18T18:47:09.515496Z",
     "start_time": "2025-05-18T18:47:08.544748Z"
    }
   },
   "outputs": [],
   "execution_count": 15
  },
  {
   "cell_type": "code",
   "source": [
    "# Длина документов для BM25\n",
    "doc_lens = [len(doc) for doc in tokens]\n",
    "average_len = sum(doc_lens) / len(doc_lens)"
   ],
   "metadata": {
    "trusted": true,
    "execution": {
     "iopub.status.busy": "2025-05-13T01:10:34.767904Z",
     "iopub.execute_input": "2025-05-13T01:10:34.768244Z",
     "iopub.status.idle": "2025-05-13T01:10:35.065873Z",
     "shell.execute_reply.started": "2025-05-13T01:10:34.768217Z",
     "shell.execute_reply": "2025-05-13T01:10:35.065127Z"
    },
    "id": "T8R5EKMh3Lhk",
    "ExecuteTime": {
     "end_time": "2025-05-18T18:47:44.510177Z",
     "start_time": "2025-05-18T18:47:44.215748Z"
    }
   },
   "outputs": [],
   "execution_count": 16
  },
  {
   "metadata": {
    "trusted": true,
    "execution": {
     "iopub.status.busy": "2025-05-13T01:10:35.066733Z",
     "iopub.execute_input": "2025-05-13T01:10:35.067082Z",
     "iopub.status.idle": "2025-05-13T01:10:35.082759Z",
     "shell.execute_reply.started": "2025-05-13T01:10:35.067053Z",
     "shell.execute_reply": "2025-05-13T01:10:35.081874Z"
    },
    "id": "MNo4tP-m3Lhk",
    "ExecuteTime": {
     "end_time": "2025-05-18T18:48:20.019196Z",
     "start_time": "2025-05-18T18:48:20.013821Z"
    }
   },
   "cell_type": "code",
   "source": [
    "def bm25_score(query, top_k=5, k1=1.5, b=0.75):\n",
    "\n",
    "    if isinstance(query, str):\n",
    "        query_tokens = query.split()\n",
    "    else:\n",
    "        query_tokens = query\n",
    "\n",
    "    querry_tf = defaultdict(int)\n",
    "    for t in query_tokens:\n",
    "        querry_tf[t] += 1\n",
    "\n",
    "    # Считаем BM25 для каждого документа\n",
    "    scores = [0.0] * count\n",
    "\n",
    "    for term, qf in querry_tf.items():\n",
    "        if term not in invers_index:\n",
    "            continue  # Если термина нет в инвертированном индексе, пропускаем\n",
    "\n",
    "        # Получаем IDF для термина\n",
    "        idf_term = idf.get(term, 0.0)\n",
    "\n",
    "        # Для каждого документа, в котором встречается термин:\n",
    "        for doc_idx, freq in invers_index[term]:\n",
    "            doc_len = doc_lens[doc_idx]\n",
    "            denom = freq + k1 * (1 - b + b * doc_len / average_len)\n",
    "            numer = freq * (k1 + 1)\n",
    "            score = idf_term * numer / denom\n",
    "            scores[doc_idx] += score\n",
    "\n",
    "    # Сортируем по убыванию и возвращаем top_k результатов\n",
    "    ranked = sorted(enumerate(scores), key=lambda x: x[1], reverse=True)\n",
    "    return ranked[:top_k]"
   ],
   "outputs": [],
   "execution_count": 17
  },
  {
   "cell_type": "code",
   "source": [
    "# Функция для извлечения ответов на основе BM25\n",
    "def retrieve_qa(query, top_k=5):\n",
    "    results = bm25_score(query, top_k=top_k)\n",
    "    qa = []\n",
    "    for idx, _ in results:\n",
    "        # Извлекаем question и соответствующий Id_questions\n",
    "        question = df_token_NO_NAN[idx, \"clean_question\"]\n",
    "        id_question = df_token_NO_NAN[idx, \"Id_questions\"]\n",
    "        # Теперь находим все ответы, соответствующие этому вопросу\n",
    "        answers = df_token_NO_NAN.filter(pl.col(\"Id_questions\") == id_question)\n",
    "        # Сортируем по рейтингу Score_a и выбираем лучший\n",
    "        best_answer = answers.sort(\"Score_answers\", descending=True).select(\"clean_answers\").to_pandas().iloc[0][\n",
    "            \"clean_answers\"]\n",
    "        # Добавляем результат question, answer и Id_questions\n",
    "        qa.append((id_question, question, best_answer))\n",
    "\n",
    "    return qa"
   ],
   "metadata": {
    "trusted": true,
    "execution": {
     "iopub.status.busy": "2025-05-13T01:12:57.047689Z",
     "iopub.execute_input": "2025-05-13T01:12:57.048111Z",
     "iopub.status.idle": "2025-05-13T01:12:57.744211Z",
     "shell.execute_reply.started": "2025-05-13T01:12:57.048078Z",
     "shell.execute_reply": "2025-05-13T01:12:57.743365Z"
    },
    "id": "ZTREHhok3Lhk",
    "ExecuteTime": {
     "end_time": "2025-05-18T18:48:54.531457Z",
     "start_time": "2025-05-18T18:48:54.528418Z"
    }
   },
   "outputs": [],
   "execution_count": 18
  },
  {
   "metadata": {
    "ExecuteTime": {
     "end_time": "2025-05-18T18:49:29.765041Z",
     "start_time": "2025-05-18T18:49:28.852096Z"
    }
   },
   "cell_type": "code",
   "source": [
    "querry = \"install sql\"\n",
    "querry_ans_res = retrieve_qa(querry, top_k=5)\n",
    "for id_question, question, answer in querry_ans_res:\n",
    "    print(f\"Id_questions: {id_question}\\nQ: {question}\\nA: {answer}\\n\\n\")"
   ],
   "outputs": [
    {
     "name": "stdout",
     "output_type": "stream",
     "text": [
      "Id_questions: 5843820\n",
      "Q: application language net database want create setup file dotnet framework wanna create setup like setup wizard running install frame work application pls tell sql database management install sql sever pcs option install sql server like net framework mean need install net language run application install framework like install run sql server thanks\n",
      "A: thing application pre compiled net framework interpretes need run application decide want remain locally application needs centralized install application machines install instance data specific instance need package local application option centralized host application connects installation connect data needs\n",
      "\n",
      "\n",
      "Id_questions: 2639310\n",
      "Q: machine sql installed need install instance sql reasons main reason reporting services report servers sql create ssrs compatible need install sql server work need install second reason site team consulting want project upgraded rebuilding box safe way install box contains question sql server thanks\n",
      "A: sql sql installed works fine confusing exactly version sql good tip let know didn particular issues installed box worked having said virtual route aaronls recommends worth considering\n",
      "\n",
      "\n",
      "Id_questions: 2639310\n",
      "Q: machine sql installed need install instance sql reasons main reason reporting services report servers sql create ssrs compatible need install sql server work need install second reason site team consulting want project upgraded rebuilding box safe way install box contains question sql server thanks\n",
      "A: sql sql installed works fine confusing exactly version sql good tip let know didn particular issues installed box worked having said virtual route aaronls recommends worth considering\n",
      "\n",
      "\n",
      "Id_questions: 2639310\n",
      "Q: machine sql installed need install instance sql reasons main reason reporting services report servers sql create ssrs compatible need install sql server work need install second reason site team consulting want project upgraded rebuilding box safe way install box contains question sql server thanks\n",
      "A: sql sql installed works fine confusing exactly version sql good tip let know didn particular issues installed box worked having said virtual route aaronls recommends worth considering\n",
      "\n",
      "\n",
      "Id_questions: 2639310\n",
      "Q: machine sql installed need install instance sql reasons main reason reporting services report servers sql create ssrs compatible need install sql server work need install second reason site team consulting want project upgraded rebuilding box safe way install box contains question sql server thanks\n",
      "A: sql sql installed works fine confusing exactly version sql good tip let know didn particular issues installed box worked having said virtual route aaronls recommends worth considering\n",
      "\n",
      "\n"
     ]
    }
   ],
   "execution_count": 19
  },
  {
   "metadata": {
    "ExecuteTime": {
     "end_time": "2025-05-18T18:50:05.902627Z",
     "start_time": "2025-05-18T18:50:05.319122Z"
    }
   },
   "cell_type": "code",
   "source": [
    "querry = \"How do you open a file in C++?\"\n",
    "querry_ans_res = retrieve_qa(querry, top_k=5)\n",
    "for id_question, question, answer in querry_ans_res:\n",
    "    print(f\"Id_questions: {id_question}\\nQ: {question}\\nA: {answer}\\n\\n\")"
   ],
   "outputs": [
    {
     "name": "stdout",
     "output_type": "stream",
     "text": [
      "Id_questions: 4933710\n",
      "Q: trying open file received argument store argument global variable open works successfully use open fails open file reason use strict use warnings file argv open fails open file file file argv works fine global file open file die open file specified error\n",
      "A: unary open works package global variables documented manpage better way open file reading filename argv store argument variable open print file contents use strict warnings debugging perl scripts\n",
      "\n",
      "\n",
      "Id_questions: 4933710\n",
      "Q: trying open file received argument store argument global variable open works successfully use open fails open file reason use strict use warnings file argv open fails open file file file argv works fine global file open file die open file specified error\n",
      "A: unary open works package global variables documented manpage better way open file reading filename argv store argument variable open print file contents use strict warnings debugging perl scripts\n",
      "\n",
      "\n",
      "Id_questions: 4933710\n",
      "Q: trying open file received argument store argument global variable open works successfully use open fails open file reason use strict use warnings file argv open fails open file file file argv works fine global file open file die open file specified error\n",
      "A: unary open works package global variables documented manpage better way open file reading filename argv store argument variable open print file contents use strict warnings debugging perl scripts\n",
      "\n",
      "\n",
      "Id_questions: 4933710\n",
      "Q: trying open file received argument store argument global variable open works successfully use open fails open file reason use strict use warnings file argv open fails open file file file argv works fine global file open file die open file specified error\n",
      "A: unary open works package global variables documented manpage better way open file reading filename argv store argument variable open print file contents use strict warnings debugging perl scripts\n",
      "\n",
      "\n",
      "Id_questions: 33856020\n",
      "Q: writing function opens file open mode depends user choice given function void open file char string open cout file open file open ios app ios file cout file found try goto open file seekg file found program goes open unappreciated goto statement note open starts declaration want know goto open memory efficient slower open file open file declare time called note reason people goto statements program complex\n",
      "A: easier read block instead goto need recursion void open file char string bool retry retry false cout file open file open ios app ios file cout file found try retry true file seekg retry\n",
      "\n",
      "\n"
     ]
    }
   ],
   "execution_count": 20
  },
  {
   "metadata": {
    "ExecuteTime": {
     "end_time": "2025-05-18T18:50:40.449387Z",
     "start_time": "2025-05-18T18:50:40.191399Z"
    }
   },
   "cell_type": "code",
   "source": [
    "querry = \"Deploying SQL Server\"\n",
    "querry_ans_res = retrieve_qa(querry, top_k=5)\n",
    "for id_question, question, answer in querry_ans_res:\n",
    "    print(f\"Id_questions: {id_question}\\nQ: {question}\\nA: {answer}\\n\\n\")"
   ],
   "outputs": [
    {
     "name": "stdout",
     "output_type": "stream",
     "text": [
      "Id_questions: 80\n",
      "Q: written database generation script sql want execute adobe air application create table trole roleid integer primary key rolename varchar create table tfile fileid integer primary key filename varchar filedescription varchar thumbnailid integer fileformatid integer categoryid integer isfavorite boolean dateadded date globalaccesscount integer lastaccesstime date downloadcomplete boolean isnew boolean isspotlight boolean duration varchar create table tcategory categoryid integer primary key categoryname varchar parent categoryid integer execute adobe air following methods public static function runsqlfromfile filename string void var file file file applicationdirectory resolvepath filename var stream filestream new filestream stream open file filemode read var strsql string stream readutfbytes stream bytesavailable nonquery strsql public static function nonquery strsql string void var sqlconnection sqlconnection new sqlconnection sqlconnection open file applicationstoragedirectory resolvepath dbpath var sqlstatement sqlstatement new sqlstatement sqlstatement text strsql sqlstatement sqlconnection sqlconnection try sqlstatement execute catch error sqlerror alert error tostring errors generated trole exists looks query semicolon remove query fails way multiple queries statement\n",
      "A: wound kind hack actually works pretty thing careful semicolons var strsql string stream readutfbytes stream bytesavailable var number var strsqlsplit array strsql split strsqlsplit length nonquery strsqlsplit tostring\n",
      "\n",
      "\n",
      "Id_questions: 80\n",
      "Q: written database generation script sql want execute adobe air application create table trole roleid integer primary key rolename varchar create table tfile fileid integer primary key filename varchar filedescription varchar thumbnailid integer fileformatid integer categoryid integer isfavorite boolean dateadded date globalaccesscount integer lastaccesstime date downloadcomplete boolean isnew boolean isspotlight boolean duration varchar create table tcategory categoryid integer primary key categoryname varchar parent categoryid integer execute adobe air following methods public static function runsqlfromfile filename string void var file file file applicationdirectory resolvepath filename var stream filestream new filestream stream open file filemode read var strsql string stream readutfbytes stream bytesavailable nonquery strsql public static function nonquery strsql string void var sqlconnection sqlconnection new sqlconnection sqlconnection open file applicationstoragedirectory resolvepath dbpath var sqlstatement sqlstatement new sqlstatement sqlstatement text strsql sqlstatement sqlconnection sqlconnection try sqlstatement execute catch error sqlerror alert error tostring errors generated trole exists looks query semicolon remove query fails way multiple queries statement\n",
      "A: wound kind hack actually works pretty thing careful semicolons var strsql string stream readutfbytes stream bytesavailable var number var strsqlsplit array strsql split strsqlsplit length nonquery strsqlsplit tostring\n",
      "\n",
      "\n",
      "Id_questions: 80\n",
      "Q: written database generation script sql want execute adobe air application create table trole roleid integer primary key rolename varchar create table tfile fileid integer primary key filename varchar filedescription varchar thumbnailid integer fileformatid integer categoryid integer isfavorite boolean dateadded date globalaccesscount integer lastaccesstime date downloadcomplete boolean isnew boolean isspotlight boolean duration varchar create table tcategory categoryid integer primary key categoryname varchar parent categoryid integer execute adobe air following methods public static function runsqlfromfile filename string void var file file file applicationdirectory resolvepath filename var stream filestream new filestream stream open file filemode read var strsql string stream readutfbytes stream bytesavailable nonquery strsql public static function nonquery strsql string void var sqlconnection sqlconnection new sqlconnection sqlconnection open file applicationstoragedirectory resolvepath dbpath var sqlstatement sqlstatement new sqlstatement sqlstatement text strsql sqlstatement sqlconnection sqlconnection try sqlstatement execute catch error sqlerror alert error tostring errors generated trole exists looks query semicolon remove query fails way multiple queries statement\n",
      "A: wound kind hack actually works pretty thing careful semicolons var strsql string stream readutfbytes stream bytesavailable var number var strsqlsplit array strsql split strsqlsplit length nonquery strsqlsplit tostring\n",
      "\n",
      "\n",
      "Id_questions: 90\n",
      "Q: good tutorials explaining branching merging apache subversion better specific tortoisesvn client\n",
      "A: easy click click instructions specific tortoisesvn stack overflow question simplest way branching merging tortoisesvn\n",
      "\n",
      "\n",
      "Id_questions: 90\n",
      "Q: good tutorials explaining branching merging apache subversion better specific tortoisesvn client\n",
      "A: easy click click instructions specific tortoisesvn stack overflow question simplest way branching merging tortoisesvn\n",
      "\n",
      "\n"
     ]
    }
   ],
   "execution_count": 21
  },
  {
   "cell_type": "code",
   "source": [
    "def precision_at_k(search_fn, queries, ground_truth, k=5):\n",
    "    precisions = []\n",
    "    for q, true_id in zip(queries, ground_truth):\n",
    "        # Получаем топ k документов для запроса\n",
    "        results = search_fn(q, top_k=k)\n",
    "        ids = [df_token_NO_NAN[idx, \"Id_questions\"] for idx, _ in results]\n",
    "        # Проверяем, попал ли true_id в топ k\n",
    "        precisions.append(int(true_id in ids) / k)\n",
    "    return sum(precisions) / len(precisions)"
   ],
   "metadata": {
    "trusted": true,
    "execution": {
     "iopub.status.busy": "2025-05-13T01:13:10.415172Z",
     "iopub.execute_input": "2025-05-13T01:13:10.415856Z",
     "iopub.status.idle": "2025-05-13T01:13:10.421415Z",
     "shell.execute_reply.started": "2025-05-13T01:13:10.415828Z",
     "shell.execute_reply": "2025-05-13T01:13:10.420616Z"
    },
    "id": "fZNTrcp33Lhl",
    "ExecuteTime": {
     "end_time": "2025-05-18T18:51:15.004078Z",
     "start_time": "2025-05-18T18:51:15.001052Z"
    }
   },
   "outputs": [],
   "execution_count": 22
  },
  {
   "cell_type": "code",
   "source": [
    "test_qs = [\"install sql\", \"Deploying SQL Server\", \"How do you open a file in C++?\"]\n",
    "test_gt = [2639310, 90, 4933710]"
   ],
   "metadata": {
    "trusted": true,
    "execution": {
     "iopub.status.busy": "2025-05-13T01:13:11.334077Z",
     "iopub.execute_input": "2025-05-13T01:13:11.334774Z",
     "iopub.status.idle": "2025-05-13T01:13:11.338659Z",
     "shell.execute_reply.started": "2025-05-13T01:13:11.334746Z",
     "shell.execute_reply": "2025-05-13T01:13:11.337894Z"
    },
    "id": "zaeFs0Zw3Lhl",
    "ExecuteTime": {
     "end_time": "2025-05-18T18:51:49.203932Z",
     "start_time": "2025-05-18T18:51:49.201653Z"
    }
   },
   "outputs": [],
   "execution_count": 23
  },
  {
   "cell_type": "markdown",
   "source": "Оценка Precision@5 показала, что поиск не нашёл правильный айдишники ответов =(",
   "metadata": {
    "id": "hCIEKTjK3Lhl"
   }
  },
  {
   "metadata": {
    "ExecuteTime": {
     "end_time": "2025-05-18T18:52:25.689222Z",
     "start_time": "2025-05-18T18:52:24.576817Z"
    }
   },
   "cell_type": "code",
   "source": "print(\"Precision@5:\", precision_at_k(bm25_score, test_qs, test_gt, k=5))",
   "outputs": [
    {
     "name": "stdout",
     "output_type": "stream",
     "text": [
      "Precision@5: 0.20000000000000004\n"
     ]
    }
   ],
   "execution_count": 24
  },
  {
   "cell_type": "code",
   "source": [
    "def mrr(search_fn, queries, ground_truth):\n",
    "    rr = []\n",
    "    for q, true_id in zip(queries, ground_truth):\n",
    "        results = search_fn(q, top_k=len(df_token_NO_NAN))\n",
    "        ids = [df_token_NO_NAN[idx, \"Id_questions\"] for idx, _ in results]\n",
    "\n",
    "        if true_id in ids:\n",
    "            rank = ids.index(true_id) + 1\n",
    "            rr.append(1.0 / rank)\n",
    "        else:\n",
    "            rr.append(0.0)\n",
    "\n",
    "    return sum(rr) / len(rr)"
   ],
   "metadata": {
    "trusted": true,
    "execution": {
     "iopub.status.busy": "2025-05-13T01:13:15.96631Z",
     "iopub.execute_input": "2025-05-13T01:13:15.967189Z",
     "iopub.status.idle": "2025-05-13T01:13:15.972346Z",
     "shell.execute_reply.started": "2025-05-13T01:13:15.967155Z",
     "shell.execute_reply": "2025-05-13T01:13:15.971546Z"
    },
    "id": "uVkZXuhM3Lhl",
    "ExecuteTime": {
     "end_time": "2025-05-18T18:53:00.423724Z",
     "start_time": "2025-05-18T18:53:00.419624Z"
    }
   },
   "outputs": [],
   "execution_count": 25
  },
  {
   "cell_type": "markdown",
   "source": "Функция рассчитывает Mean Reciprocal Rank (MRR), где search_fn - функция поиска, queries - список запросов, ground_truth - список правильных ID вопросов.",
   "metadata": {
    "id": "n7nDjnq63Lhl"
   }
  },
  {
   "cell_type": "code",
   "source": [
    "print(\"MRR:\", mrr(bm25_score, test_qs, test_gt))"
   ],
   "metadata": {
    "trusted": true,
    "execution": {
     "iopub.status.busy": "2025-05-13T01:13:17.54197Z",
     "iopub.execute_input": "2025-05-13T01:13:17.542274Z",
     "iopub.status.idle": "2025-05-13T01:13:26.091761Z",
     "shell.execute_reply.started": "2025-05-13T01:13:17.542254Z",
     "shell.execute_reply": "2025-05-13T01:13:26.090973Z"
    },
    "id": "6gVOjYjp3Lhl",
    "ExecuteTime": {
     "end_time": "2025-05-18T18:53:42.590254Z",
     "start_time": "2025-05-18T18:53:35.278008Z"
    }
   },
   "outputs": [
    {
     "name": "stdout",
     "output_type": "stream",
     "text": [
      "MRR: 0.5833333333333334\n"
     ]
    }
   ],
   "execution_count": 26
  },
  {
   "cell_type": "markdown",
   "source": "MMR показало, что поиск работает плохо\n",
   "metadata": {
    "id": "qZ4ZvX_b3Lhm"
   }
  },
  {
   "cell_type": "markdown",
   "source": [
    "# Результаты\n",
    "\n",
    "* Система анализирует запрос, токенизирует его, затем вычисляет BM25-оценки для каждого вопроса. Результаты сортируются по убыванию и возвращаются пользователю.\n",
    "\n",
    "    * Используя формулу BM25, для каждого запроса вычисляем его сходство с каждым документом.\n",
    "\n",
    "    $$ BM25(t, d) = IDF(t) \\cdot \\frac{TF(t, d) \\cdot (k_1 + 1)}{TF(t, d) + k_1 \\cdot (1 - b + b \\cdot \\frac{|d|}{avgdl})}$$\n",
    "\n",
    "    * После нахождения наиболее релевантных вопросов, извлечены лучшие ответы с использованием рейтинга со стековерфлоу для каждого вопроса.\n",
    "\n",
    "* Создал инвертированный индекс, где каждому термину сопоставляется список документов, содержащих этот термин, с его частотой в каждом документе.\n",
    "\n",
    "* Для каждого запроса вычисляем частоты: TF (Term Frequency) для термина в документе и IDF (Inverse Document Frequency), что позволяет взвесить частоту термина в документе с учётом его распространённости во всем документе.\n",
    "\n",
    "* Precision@5: Это метрика, измеряющая точность среди топ-5 результатов. В нашем случае система не получила правильного ответа, значение - мало.\n",
    "\n",
    "* MRR (Mean Reciprocal Rank): Это средний показатель обратного ранга правильного ответа среди всех запросов.\n",
    "\n",
    "\n",
    "### Плюсы:\n",
    "\n",
    "* Быстрая обработка запросов: использование инвертированного индекса для поиска термина в документах значительно ускоряет выполнение.\n",
    "\n",
    "* Простота: BM25 является относительно простым и эффективным методом для оценки релевантности документов.\n",
    "\n",
    "### Минусы:\n",
    "\n",
    "* Отсутствие учёта контекста и синонимов: BM25 основывается только на частотах терминов в документах, и не учитывает, например, смысловых связей между словами или синонимами.\n"
   ],
   "metadata": {
    "id": "cjxNfisT3Lhm"
   }
  }
 ]
}
