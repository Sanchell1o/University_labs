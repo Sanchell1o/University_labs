{
  "cells": [
    {
      "cell_type": "markdown",
      "id": "0c1772d9",
      "metadata": {
        "id": "0c1772d9"
      },
      "source": [
        "\n",
        "# Лабораторная работа №3\n",
        "\n",
        "**Цель:** реализовать и сравнить три метода оптимизации для минимизации функции Розенброка:\n",
        "- Метод тяжёлого шарика\n",
        "- Ускоренный градиент Нестерова\n",
        "- Метод SR1\n",
        "\n",
        "**Функция Розенброка:**\n",
        "\n",
        "$$\n",
        "f(x, y) = 100(y - x^2)^2 + (1 - x)^2\n",
        "$$\n",
        "\n",
        "**Критерий останова:**\n",
        "\n",
        "$$\n",
        "|f(x_{k+1}) - f(x_k)| \\leq 10^{-3}\n",
        "$$\n",
        "\n",
        "**Начальное приближение:**  \n",
        "Случайная точка $ x_0 \\in [-5, 5]^2 $ генерируется при помощи `random_state = 42`.\n"
      ]
    },
    {
      "cell_type": "markdown",
      "id": "cf158f16fb1a9dd7",
      "metadata": {
        "id": "cf158f16fb1a9dd7"
      },
      "source": [
        "Было выбрано 3 метода минимизации:\n",
        "- Метод Нестерова\n",
        "- Метод тяжёлого шарика\n",
        "- Метод SR1"
      ]
    },
    {
      "metadata": {
        "id": "fbeb4de02c6de715"
      },
      "cell_type": "markdown",
      "source": [
        "## Импортируем Библиотечки"
      ],
      "id": "fbeb4de02c6de715"
    },
    {
      "metadata": {
        "ExecuteTime": {
          "end_time": "2025-05-30T22:52:04.842303Z",
          "start_time": "2025-05-30T22:52:04.418714Z"
        },
        "id": "c83966a0a8cb2df0"
      },
      "cell_type": "code",
      "source": [
        "import numpy as np\n",
        "import pandas as pd\n",
        "import matplotlib.pyplot as plt"
      ],
      "id": "c83966a0a8cb2df0",
      "outputs": [],
      "execution_count": 16
    },
    {
      "cell_type": "code",
      "source": [
        "plt.rcParams.update({\n",
        "    'font.size': 12,\n",
        "    'axes.titlesize': 16,\n",
        "    'axes.titleweight': 'bold',\n",
        "    'axes.labelweight': 'bold',\n",
        "    'axes.grid': True,\n",
        "    'grid.linestyle': '--',\n",
        "    'grid.alpha': 0.3,\n",
        "    'axes.facecolor': '#f5f5f5',\n",
        "    'axes.edgecolor': '0.4'\n",
        "})"
      ],
      "metadata": {
        "id": "A9ZbreKauA50"
      },
      "id": "A9ZbreKauA50",
      "execution_count": 17,
      "outputs": []
    },
    {
      "cell_type": "code",
      "source": [
        "alpha_hb = 1e-4\n",
        "beta_hb = 0.7\n",
        "\n",
        "alpha_nest = 1e-4\n",
        "beta_nest = 0.7"
      ],
      "metadata": {
        "id": "9kepSJPWjmz1"
      },
      "id": "9kepSJPWjmz1",
      "execution_count": 18,
      "outputs": []
    },
    {
      "metadata": {
        "id": "c8da682f7c08ce90"
      },
      "cell_type": "markdown",
      "source": [
        "##  Функция Розенброка"
      ],
      "id": "c8da682f7c08ce90"
    },
    {
      "metadata": {
        "ExecuteTime": {
          "end_time": "2025-05-30T22:52:04.946636Z",
          "start_time": "2025-05-30T22:52:04.943802Z"
        },
        "id": "c4c24852c2214f88"
      },
      "cell_type": "code",
      "source": [
        "def rosenbrock(x):\n",
        "    return 100 * (x[1] - x[0]**2)**2 + (1 - x[0])**2"
      ],
      "id": "c4c24852c2214f88",
      "outputs": [],
      "execution_count": 19
    },
    {
      "metadata": {
        "id": "76f1820084ce2108"
      },
      "cell_type": "markdown",
      "source": [
        "## 🧮 Градиент функции\n",
        "\n",
        "**Градиент** — это вектор, содержащий частные производные функции по каждой из её переменных. Он указывает направление наискорейшего возрастания функции.\n",
        "\n",
        "Для функции $f(x, y)$ градиент обозначается как:\n",
        "\n",
        "$$\n",
        "\\nabla f(x, y) = \\left[ \\frac{\\partial f}{\\partial x}, \\frac{\\partial f}{\\partial y} \\right]\n",
        "$$\n",
        "\n",
        "---\n",
        "\n",
        "### 🔍 Градиент функции Розенброка\n",
        "\n",
        "Рассматриваем функцию:\n",
        "\n",
        "$$\n",
        "f(x, y) = 100(y - x^2)^2 + (1 - x)^2\n",
        "$$\n",
        "\n",
        "Частные производные:\n",
        "\n",
        "- По переменной $ x $:\n",
        "$$\n",
        "\\frac{\\partial f}{\\partial x} = -2(1 - x) - 400x(y - x^2)\n",
        "$$\n",
        "\n",
        "- По переменной $ y $:\n",
        "$$\n",
        "\\frac{\\partial f}{\\partial y} = 200(y - x^2)\n",
        "$$\n",
        "\n",
        "---\n",
        "\n",
        "Таким образом, градиент функции Розенброка:\n",
        "\n",
        "$$\n",
        "\\nabla f(x, y) =\n",
        "\\begin{bmatrix}\n",
        "-2(1 - x) - 400x(y - x^2) \\\\\n",
        "200(y - x^2)\n",
        "\\end{bmatrix}\n",
        "$$\n",
        "\n",
        "Этот вектор вычисляется на каждом шаге оптимизации и используется для корректировки направления поиска минимума.\n"
      ],
      "id": "76f1820084ce2108"
    },
    {
      "metadata": {
        "id": "25253fbd2b1b704f"
      },
      "cell_type": "markdown",
      "source": [
        "Вычисляем градиент функции Розенброка"
      ],
      "id": "25253fbd2b1b704f"
    },
    {
      "metadata": {
        "ExecuteTime": {
          "end_time": "2025-05-30T22:52:04.956040Z",
          "start_time": "2025-05-30T22:52:04.953441Z"
        },
        "id": "cfc715812ab08b4c"
      },
      "cell_type": "code",
      "source": [
        "def grad_rosenbrock(x):\n",
        "    dx = -400 * x[0] * (x[1] - x[0]**2) - 2 * (1 - x[0])\n",
        "    dy = 200 * (x[1] - x[0]**2)\n",
        "    return np.array([dx, dy])"
      ],
      "id": "cfc715812ab08b4c",
      "outputs": [],
      "execution_count": 20
    },
    {
      "metadata": {
        "id": "a9918bfa2d831b96"
      },
      "cell_type": "markdown",
      "source": [
        "# Генерация начальной точки"
      ],
      "id": "a9918bfa2d831b96"
    },
    {
      "metadata": {
        "ExecuteTime": {
          "end_time": "2025-05-30T22:52:04.962269Z",
          "start_time": "2025-05-30T22:52:04.959953Z"
        },
        "id": "94b5b21c7b198b62"
      },
      "cell_type": "code",
      "source": [
        "np.random.seed(42)\n",
        "x0 = np.random.uniform(-5, 5, size=2)"
      ],
      "id": "94b5b21c7b198b62",
      "outputs": [],
      "execution_count": 21
    },
    {
      "metadata": {
        "id": "c0e0e109824b527f"
      },
      "cell_type": "markdown",
      "source": [
        "# Параметры остановки и максимум итераций"
      ],
      "id": "c0e0e109824b527f"
    },
    {
      "metadata": {
        "ExecuteTime": {
          "end_time": "2025-05-30T22:52:04.976260Z",
          "start_time": "2025-05-30T22:52:04.973770Z"
        },
        "id": "6d69121fcba8ec71"
      },
      "cell_type": "code",
      "source": [
        "tol = 1e-3\n",
        "max_iter = 10000"
      ],
      "id": "6d69121fcba8ec71",
      "outputs": [],
      "execution_count": 22
    },
    {
      "metadata": {
        "id": "4c155844052f93ad"
      },
      "cell_type": "markdown",
      "source": [
        "## ⚙️ Метод тяжёлого шарика (Heavy Ball Method)\n",
        "\n",
        "**Метод тяжёлого шарика** — это градиентный метод оптимизации, модифицированный добавлением \"инерционного\" члена.\n",
        "Он имитирует движение материальной точки (шарика), катящейся по поверхности графика функции, с учетом инерции.\n",
        "\n",
        "---\n",
        "\n",
        "### 📌 Идея метода\n",
        "\n",
        "В отличие от обычного градиентного спуска:\n",
        "\n",
        "$$\n",
        "x_{k+1} = x_k - \\alpha \\nabla f(x_k)\n",
        "$$\n",
        "\n",
        "в методе тяжёлого шарика используется **две предыдущие точки** и добавляется \"ускорение\" (память о движении):\n",
        "\n",
        "$$\n",
        "x_{k+1} = x_k - \\alpha \\nabla f(x_k) + \\beta (x_k - x_{k-1})\n",
        "$$\n",
        "\n",
        "где:\n",
        "\n",
        "$ \\alpha > 0 $ — шаг градиентного спуска, $ \\beta \\in [0, 1) $ — коэффициент инерции\n",
        "\n",
        "---\n",
        "\n",
        "### 💡 Физическая интерпретация\n",
        "\n",
        "Метод моделирует движение точки с массой по графику функции:\n",
        "$ \\nabla f(x_k) $ — сила, действующая на шарик (градиент функции)\n",
        "$ \\beta (x_k - x_{k-1}) $ — инерция, сохраняющая направление движения\n",
        "\n",
        "Такой подход помогает преодолевать \"плоские участки\" или узкие долины, ускоряя схождение.\n",
        "\n",
        "---\n",
        "\n",
        "### 📈 Применение к функции Розенброка\n",
        "\n",
        "- Градиент $ \\nabla f(x_k) $ используется как сила, тянущая вниз по направлению уменьшения функции.\n",
        "- Инерция сглаживает движение и позволяет избежать \"залипания\" в негладких долинах.\n",
        "- Однако метод может демонстрировать **осцилляции**, особенно при слишком большом значении $ \\beta $\n",
        "\n",
        "---\n",
        "\n",
        "Метод тяжёлого шарика — это компромисс между:\n",
        "- стабильностью градиентного спуска\n",
        "- и ускорением за счёт накопления импульса.\n"
      ],
      "id": "4c155844052f93ad"
    },
    {
      "metadata": {
        "ExecuteTime": {
          "end_time": "2025-05-30T22:52:05.020357Z",
          "start_time": "2025-05-30T22:52:04.984581Z"
        },
        "id": "9774a781b462aa2c"
      },
      "cell_type": "code",
      "source": [
        "def heavy_ball_method(x0, alpha=alpha_hb, beta=beta_hb):\n",
        "    x_prev = x0.copy()\n",
        "    x_curr = x0.copy()\n",
        "    values = [rosenbrock(x_curr)]\n",
        "    grad_evals = 0\n",
        "    for i in range(max_iter):\n",
        "        grad = grad_rosenbrock(x_curr)\n",
        "        grad_evals += 1\n",
        "        if i == 0:\n",
        "            x_new = x_curr - alpha * grad\n",
        "        else:\n",
        "            x_new = x_curr - alpha * grad + beta * (x_curr - x_prev)\n",
        "        values.append(rosenbrock(x_new))\n",
        "        if abs(values[-1] - values[-2]) <= tol:\n",
        "            break\n",
        "        x_prev, x_curr = x_curr, x_new\n",
        "    return x_curr, values, i+1, grad_evals"
      ],
      "id": "9774a781b462aa2c",
      "outputs": [],
      "execution_count": 23
    },
    {
      "metadata": {
        "id": "425b2645ac97f9fe"
      },
      "cell_type": "markdown",
      "source": [
        "# 2. Ускоренный градиент Нестерова"
      ],
      "id": "425b2645ac97f9fe"
    },
    {
      "metadata": {
        "id": "3a7aa36323039a2b"
      },
      "cell_type": "markdown",
      "source": [
        "## 🚀 Ускоренный градиентный метод Нестерова\n",
        "\n",
        "**Метод Нестерова** (Nesterov Accelerated Gradient, NAG) — это модифицированный градиентный метод, в котором направление спуска рассчитывается не в текущей точке, а в \"предсказанной\" точке, куда алгоритм \"движется\".\n",
        "\n",
        "Он обладает более высокой скоростью сходимости по сравнению с классическим градиентным спуском и широко используется в задачах машинного обучения и оптимизации негладких функций.\n",
        "\n",
        "---\n",
        "\n",
        "### 📌 Идея метода\n",
        "\n",
        "Обычный градиентный спуск:\n",
        "\n",
        "$$\n",
        "x_{k+1} = x_k - \\alpha \\nabla f(x_k)\n",
        "$$\n",
        "\n",
        "Метод Нестерова вводит \"опережающее\" значение:\n",
        "\n",
        "$$\n",
        "y_k = x_k + \\beta (x_k - x_{k-1})\n",
        "$$\n",
        "\n",
        "а затем использует градиент в точке $ y_k $:\n",
        "\n",
        "$$\n",
        "x_{k+1} = y_k - \\alpha \\nabla f(y_k)\n",
        "$$\n",
        "\n",
        "где:\n",
        "- $ \\alpha > 0 $ — шаг обучения (learning rate)\n",
        "- $ \\beta \\in [0,1) $ — коэффициент инерции\n",
        "\n",
        "---\n",
        "\n",
        "### 💡 В чём отличие от метода тяжёлого шарика?\n",
        "\n",
        "- Метод тяжёлого шарика использует градиент в текущей точке $ x_k $, а затем добавляет инерцию.\n",
        "- Метод Нестерова сначала \"смотрит вперёд\" (в точку $ y_k $), а затем **корректирует движение** на основе градиента в этой точке.\n",
        "\n",
        "Это позволяет **предугадывать будущее направление** функции и избегать лишнего \"перелёта\" через минимум.\n",
        "\n",
        "---\n",
        "\n",
        "### 📈 Применение к функции Розенброка\n",
        "\n",
        "Для функции:\n",
        "\n",
        "$$\n",
        "f(x, y) = 100(y - x^2)^2 + (1 - x)^2\n",
        "$$\n",
        "\n",
        "на каждом шаге:\n",
        "1. Строим точку $ y_k $\n",
        "2. Вычисляем $ \\nabla f(y_k) $\n",
        "3. Двигаемся по этому направлению с шагом $ \\alpha $\n",
        "\n",
        "---\n",
        "\n",
        "### ⚖️ Плюсы метода Нестерова\n",
        "\n",
        "- Более **плавная** и **устойчивая** сходимость\n",
        "- Меньше осцилляций, чем у метода тяжёлого шарика\n",
        "- Эффективен для **узких долин**, таких как у функции Розенброка\n",
        "\n",
        "---\n",
        "\n",
        "Метод Нестерова — один из лучших ускоренных методов первого порядка, сочетающий **инерцию** и **предсказание направления**.\n"
      ],
      "id": "3a7aa36323039a2b"
    },
    {
      "metadata": {
        "ExecuteTime": {
          "end_time": "2025-05-30T22:52:05.068466Z",
          "start_time": "2025-05-30T22:52:05.028624Z"
        },
        "id": "279253c125bd6de0"
      },
      "cell_type": "code",
      "source": [
        "def nesterov_method(x0, alpha=alpha_nest, beta=beta_nest):\n",
        "    x_prev = x0.copy()\n",
        "    y = x0.copy()\n",
        "    values = [rosenbrock(x0)]\n",
        "    grad_evals = 0\n",
        "    for i in range(max_iter):\n",
        "        grad = grad_rosenbrock(y)\n",
        "        grad_evals += 1\n",
        "        x_new = y - alpha * grad\n",
        "        values.append(rosenbrock(x_new))\n",
        "        if abs(values[-1] - values[-2]) <= tol:\n",
        "            break\n",
        "        y = x_new + beta * (x_new - x_prev)\n",
        "        x_prev = x_new\n",
        "    return x_new, values, i+1, grad_evals"
      ],
      "id": "279253c125bd6de0",
      "outputs": [],
      "execution_count": 24
    },
    {
      "metadata": {
        "id": "fb61410264e637bb"
      },
      "cell_type": "markdown",
      "source": [
        "# 3. Метод SR1\n"
      ],
      "id": "fb61410264e637bb"
    },
    {
      "metadata": {
        "id": "89f1a1890516f3e9"
      },
      "cell_type": "markdown",
      "source": [
        "## 🧮 Метод SR1\n",
        "\n",
        "**Метод SR1** — это квазиньютоновский численный метод оптимизации, который использует градиенты функции и приближённую матрицу обратного гессиана, обновляемую на каждой итерации с помощью формулы SR1.\n",
        "\n",
        "Он обладает хорошей сходимостью и не требует вычисления или обращения матрицы гессиана на каждом шаге, что снижает вычислительные затраты по сравнению с классическим методом Ньютона.\n",
        "\n",
        "---\n",
        "\n",
        "### 📌 Идея метода\n",
        "\n",
        "На каждом шаге оптимизации выполняется обновление точки по правилу:\n",
        "\n",
        "$$\n",
        "x_{k+1} = x_k - B_k \\nabla f(x_k)\n",
        "$$\n",
        "\n",
        "где:\n",
        "- $ \\nabla f(x_k) $ — градиент функции в точке $ x_k $\n",
        "- $ B(x_k) $ — приближение обратного гессиана функции в точке $ x_k $, которое обновляется по формуле SR1.\n",
        "\n",
        "---\n",
        "\n",
        "### ⚙️ Обновление матрицы обратного гессиана $ B_k $\n",
        "\n",
        "\n",
        "Чтобы приближать обратный гессиан без его прямого вычисления, используется формула обновления SR1:\n",
        "\n",
        "$$\n",
        "B_{k+1} = B_k + \\frac{(s_k - B_ky_k)(s_k - B_ky_k)^T}{(s_k - B_ky_k)^T y_k}\n",
        "$$\n",
        "\n",
        "где:\n",
        "\n",
        "$$ s_k = x_{k+1} - x_k,\\;\\;\\; y_k = \\nabla f(x_{k+1}) - \\nabla f(x_k) $$\n",
        "\n",
        "Обновление выполняется при условии, что знаменатель $ (s_k - B_kt_k)^T y_k $ не близок к нулю, чтобы избежать численных проблем.\n",
        "\n",
        "---\n",
        "\n",
        "### 📈Гессиан функции Розенброка\n",
        "\n",
        "Для функции:\n",
        "\n",
        "$$ f(x, y) = 100(y - x^2)^2 + (1 - x)^2 $$\n",
        "\n",
        "градиент и гессиан известны и могут быть вычислены явно, однако в методе SR1 используется только градиент и обновляемое приближение обратного гессиана, что снижает вычислительные затраты.\n",
        "\n",
        "\\\\\n",
        "\n",
        "Таким образом, метод SR1 сочетает в себе:\n",
        "* Использование градиентов для направления спуска\n",
        "* Итеративное построение приближения обратного гессиана\n",
        "* Эффективность и ускорение сходимости по сравнению с классическим градиентным методом\n",
        "* Уменьшение затрат на вычисление и обращение матрицы гессиана."
      ],
      "id": "89f1a1890516f3e9"
    },
    {
      "metadata": {
        "id": "e99cca2b8c910185"
      },
      "cell_type": "markdown",
      "source": [
        "### Реализуем метод SR1\n"
      ],
      "id": "e99cca2b8c910185"
    },
    {
      "metadata": {
        "ExecuteTime": {
          "end_time": "2025-05-30T22:52:05.078423Z",
          "start_time": "2025-05-30T22:52:05.076191Z"
        },
        "id": "79a193ec0837125e"
      },
      "cell_type": "code",
      "source": [
        "def golden_section_search(f, x, p, a=0, b=1, tol_gs=1e-4, max_iter_gs=30):\n",
        "        phi = (1 + 5 ** 0.5) / 2\n",
        "        c = b - (b - a) / phi\n",
        "        d = a + (b - a) / phi\n",
        "        for _ in range(max_iter_gs):\n",
        "            if f(x + c * p) < f(x + d * p):\n",
        "                b = d\n",
        "            else:\n",
        "                a = c\n",
        "            c = b - (b - a) / phi\n",
        "            d = a + (b - a) / phi\n",
        "            if abs(b - a) < tol_gs:\n",
        "                break\n",
        "        return (b + a) / 2"
      ],
      "id": "79a193ec0837125e",
      "outputs": [],
      "execution_count": 25
    },
    {
      "cell_type": "code",
      "source": [
        "def sr1_method(x0, tol=1e-3, max_iter=10000, reg=1e-4, max_line_search_iter=30):\n",
        "    n = len(x0)\n",
        "    x_curr = x0.copy()\n",
        "    B_inv = np.eye(n)\n",
        "    values = [rosenbrock(x_curr)]\n",
        "    grad_curr = grad_rosenbrock(x_curr)\n",
        "    grad_evals = 1\n",
        "\n",
        "    for i in range(max_iter):\n",
        "        p = - B_inv @ grad_curr\n",
        "\n",
        "        func_lambda = lambda l: rosenbrock(x_curr + l * p)\n",
        "        lambda_opt = golden_section_search(func_lambda, x_curr, p, a=0, b=1)\n",
        "\n",
        "        x_new = x_curr + lambda_opt * p\n",
        "        grad_new = grad_rosenbrock(x_new)\n",
        "        grad_evals += 1\n",
        "\n",
        "        s = x_new - x_curr\n",
        "        y = grad_new - grad_curr\n",
        "        Bs = B_inv @ y\n",
        "        diff = s - Bs\n",
        "\n",
        "        denom = diff @ y\n",
        "        if abs(denom) > 1e-8:\n",
        "            B_inv += np.outer(diff, diff) / denom\n",
        "\n",
        "        values.append(rosenbrock(x_new))\n",
        "\n",
        "        if abs(values[-1] - values[-2]) <= tol:\n",
        "            break\n",
        "\n",
        "        x_curr = x_new\n",
        "        grad_curr = grad_new\n",
        "\n",
        "    return x_curr, values, i+1, grad_evals"
      ],
      "metadata": {
        "id": "bPaN2jC8evI3"
      },
      "id": "bPaN2jC8evI3",
      "execution_count": 26,
      "outputs": []
    },
    {
      "metadata": {
        "id": "dd57537b717fed18"
      },
      "cell_type": "markdown",
      "source": [
        "# Графики"
      ],
      "id": "dd57537b717fed18"
    },
    {
      "cell_type": "code",
      "source": [
        "hb_x, hb_vals, hb_iters, hb_grads = heavy_ball_method(x0)\n",
        "nesterov_x, nesterov_vals, nesterov_iters, nesterov_grads = nesterov_method(x0)\n",
        "sr1_x, sr1_vals, sr1_iters, sr1_grads = sr1_method(x0)"
      ],
      "metadata": {
        "id": "S9TIj1msh54S"
      },
      "id": "S9TIj1msh54S",
      "execution_count": 27,
      "outputs": []
    },
    {
      "cell_type": "code",
      "source": [
        "print(\"Метод тяжёлого шарика:\")\n",
        "print(f\"  Итераций: {hb_iters}, Значение функции: {hb_vals[-1]:.5f}\")\n",
        "print(\"Ускоренный градиент Нестерова:\")\n",
        "print(f\"  Итераций: {nesterov_iters}, Значение функции: {nesterov_vals[-1]:.5f}\")\n",
        "print(\"Метод SR1:\")\n",
        "print(f\"  SR1: итераций {sr1_iters}, Значение функции = {sr1_vals[-1]:.5f}\")"
      ],
      "metadata": {
        "colab": {
          "base_uri": "https://localhost:8080/"
        },
        "id": "-Aa_P-zKh8B2",
        "outputId": "9f34afc2-bb85-4615-e1c4-2046e36d8f58"
      },
      "id": "-Aa_P-zKh8B2",
      "execution_count": 28,
      "outputs": [
        {
          "output_type": "stream",
          "name": "stdout",
          "text": [
            "Метод тяжёлого шарика:\n",
            "  Итераций: 34, Значение функции: 9.18277\n",
            "Ускоренный градиент Нестерова:\n",
            "  Итераций: 16, Значение функции: 9.26813\n",
            "Метод SR1:\n",
            "  SR1: итераций 7, Значение функции = 8.65066\n"
          ]
        }
      ]
    },
    {
      "metadata": {
        "ExecuteTime": {
          "end_time": "2025-05-30T22:52:05.645025Z",
          "start_time": "2025-05-30T22:52:05.129345Z"
        },
        "colab": {
          "base_uri": "https://localhost:8080/",
          "height": 1000
        },
        "id": "dbdedaead86d4380",
        "outputId": "bc09de09-f086-4838-c0b5-dcfe3b9a89dc"
      },
      "cell_type": "code",
      "source": [
        "def plot_values(values, method_name):\n",
        "    plt.figure(figsize=(8,5))\n",
        "    plt.plot(values)\n",
        "    plt.yscale('log')\n",
        "    plt.xlabel(\"Итерация\")\n",
        "    plt.ylabel(\"Значение функции Розенброка \")\n",
        "    plt.title(f\"Сходимость метода: {method_name}\")\n",
        "    plt.grid(True)\n",
        "    plt.show()\n",
        "\n",
        "plot_values(hb_vals, \"Тяжёлый шарик\")\n",
        "plot_values(nesterov_vals, \"Ускоренный Нестеров\")\n",
        "plot_values(sr1_vals, \"SR1\")"
      ],
      "id": "dbdedaead86d4380",
      "outputs": [
        {
          "output_type": "display_data",
          "data": {
            "text/plain": [
              "<Figure size 800x500 with 1 Axes>"
            ],
            "image/png": "[encoded data removed]"
          },
          "metadata": {}
        },
        {
          "output_type": "display_data",
          "data": {
            "text/plain": [
              "<Figure size 800x500 with 1 Axes>"
            ],
            "image/png": "[encoded data removed]"
          },
          "metadata": {}
        },
        {
          "output_type": "display_data",
          "data": {
            "text/plain": [
              "<Figure size 800x500 with 1 Axes>"
            ],
            "image/png": "[encoded data removed]"
          },
          "metadata": {}
        }
      ],
      "execution_count": 29
    },
    {
      "cell_type": "markdown",
      "id": "82cc8457",
      "metadata": {
        "id": "82cc8457"
      },
      "source": [
        "\n",
        "# 📊 Сравнительная таблица результатов\n",
        "\n"
      ]
    },
    {
      "metadata": {
        "ExecuteTime": {
          "end_time": "2025-05-30T22:52:05.660914Z",
          "start_time": "2025-05-30T22:52:05.657190Z"
        },
        "id": "772cef1500cc6a31"
      },
      "cell_type": "code",
      "source": [
        "data = {\n",
        "    'Метод': ['Тяжёлый шарик', 'Ускоренный Нестеров', 'SR1'],\n",
        "    'Число итераций': [hb_iters, nesterov_iters, sr1_iters],\n",
        "    'Число вычислений градиента': [hb_grads, nesterov_grads, sr1_grads],\n",
        "    'Число вычислений гессиана': [0, 0, 1],\n",
        "    'Значение функции': [hb_vals[-1], nesterov_vals[-1], sr1_vals[-1]]\n",
        "}\n",
        "df = pd.DataFrame(data)"
      ],
      "id": "772cef1500cc6a31",
      "outputs": [],
      "execution_count": 30
    },
    {
      "cell_type": "code",
      "source": [
        "df"
      ],
      "metadata": {
        "colab": {
          "base_uri": "https://localhost:8080/",
          "height": 143
        },
        "id": "z4BTr-TKiP8n",
        "outputId": "97db62ed-49c3-41f4-f83f-a1362eaed670"
      },
      "id": "z4BTr-TKiP8n",
      "execution_count": 31,
      "outputs": [
        {
          "output_type": "execute_result",
          "data": {
            "text/plain": [
              "                 Метод  Число итераций  Число вычислений градиента  \\\n",
              "0        Тяжёлый шарик              34                          34   \n",
              "1  Ускоренный Нестеров              16                          16   \n",
              "2                  SR1               7                           8   \n",
              "\n",
              "   Число вычислений гессиана  Значение функции  \n",
              "0                          0          9.182773  \n",
              "1                          0          9.268131  \n",
              "2                          1          8.650664  "
            ],
            "text/html": [
              "\n",
              "  <div id=\"df-fe94a704-9fb4-4e05-ba92-9de44465dc87\" class=\"colab-df-container\">\n",
              "    <div>\n",
              "<style scoped>\n",
              "    .dataframe tbody tr th:only-of-type {\n",
              "        vertical-align: middle;\n",
              "    }\n",
              "\n",
              "    .dataframe tbody tr th {\n",
              "        vertical-align: top;\n",
              "    }\n",
              "\n",
              "    .dataframe thead th {\n",
              "        text-align: right;\n",
              "    }\n",
              "</style>\n",
              "<table border=\"1\" class=\"dataframe\">\n",
              "  <thead>\n",
              "    <tr style=\"text-align: right;\">\n",
              "      <th></th>\n",
              "      <th>Метод</th>\n",
              "      <th>Число итераций</th>\n",
              "      <th>Число вычислений градиента</th>\n",
              "      <th>Число вычислений гессиана</th>\n",
              "      <th>Значение функции</th>\n",
              "    </tr>\n",
              "  </thead>\n",
              "  <tbody>\n",
              "    <tr>\n",
              "      <th>0</th>\n",
              "      <td>Тяжёлый шарик</td>\n",
              "      <td>34</td>\n",
              "      <td>34</td>\n",
              "      <td>0</td>\n",
              "      <td>9.182773</td>\n",
              "    </tr>\n",
              "    <tr>\n",
              "      <th>1</th>\n",
              "      <td>Ускоренный Нестеров</td>\n",
              "      <td>16</td>\n",
              "      <td>16</td>\n",
              "      <td>0</td>\n",
              "      <td>9.268131</td>\n",
              "    </tr>\n",
              "    <tr>\n",
              "      <th>2</th>\n",
              "      <td>SR1</td>\n",
              "      <td>7</td>\n",
              "      <td>8</td>\n",
              "      <td>1</td>\n",
              "      <td>8.650664</td>\n",
              "    </tr>\n",
              "  </tbody>\n",
              "</table>\n",
              "</div>\n",
              "    <div class=\"colab-df-buttons\">\n",
              "\n",
              "  <div class=\"colab-df-container\">\n",
              "    <button class=\"colab-df-convert\" onclick=\"convertToInteractive('df-fe94a704-9fb4-4e05-ba92-9de44465dc87')\"\n",
              "            title=\"Convert this dataframe to an interactive table.\"\n",
              "            style=\"display:none;\">\n",
              "\n",
              "  <svg xmlns=\"http://www.w3.org/2000/svg\" height=\"24px\" viewBox=\"0 -960 960 960\">\n",
              "    <path d=\"M120-120v-720h720v720H120Zm60-500h600v-160H180v160Zm220 220h160v-160H400v160Zm0 220h160v-160H400v160ZM180-400h160v-160H180v160Zm440 0h160v-160H620v160ZM180-180h160v-160H180v160Zm440 0h160v-160H620v160Z\"/>\n",
              "  </svg>\n",
              "    </button>\n",
              "\n",
              "  <style>\n",
              "    .colab-df-container {\n",
              "      display:flex;\n",
              "      gap: 12px;\n",
              "    }\n",
              "\n",
              "    .colab-df-convert {\n",
              "      background-color: #E8F0FE;\n",
              "      border: none;\n",
              "      border-radius: 50%;\n",
              "      cursor: pointer;\n",
              "      display: none;\n",
              "      fill: #1967D2;\n",
              "      height: 32px;\n",
              "      padding: 0 0 0 0;\n",
              "      width: 32px;\n",
              "    }\n",
              "\n",
              "    .colab-df-convert:hover {\n",
              "      background-color: #E2EBFA;\n",
              "      box-shadow: 0px 1px 2px rgba(60, 64, 67, 0.3), 0px 1px 3px 1px rgba(60, 64, 67, 0.15);\n",
              "      fill: #174EA6;\n",
              "    }\n",
              "\n",
              "    .colab-df-buttons div {\n",
              "      margin-bottom: 4px;\n",
              "    }\n",
              "\n",
              "    [theme=dark] .colab-df-convert {\n",
              "      background-color: #3B4455;\n",
              "      fill: #D2E3FC;\n",
              "    }\n",
              "\n",
              "    [theme=dark] .colab-df-convert:hover {\n",
              "      background-color: #434B5C;\n",
              "      box-shadow: 0px 1px 3px 1px rgba(0, 0, 0, 0.15);\n",
              "      filter: drop-shadow(0px 1px 2px rgba(0, 0, 0, 0.3));\n",
              "      fill: #FFFFFF;\n",
              "    }\n",
              "  </style>\n",
              "\n",
              "    <script>\n",
              "      const buttonEl =\n",
              "        document.querySelector('#df-fe94a704-9fb4-4e05-ba92-9de44465dc87 button.colab-df-convert');\n",
              "      buttonEl.style.display =\n",
              "        google.colab.kernel.accessAllowed ? 'block' : 'none';\n",
              "\n",
              "      async function convertToInteractive(key) {\n",
              "        const element = document.querySelector('#df-fe94a704-9fb4-4e05-ba92-9de44465dc87');\n",
              "        const dataTable =\n",
              "          await google.colab.kernel.invokeFunction('convertToInteractive',\n",
              "                                                    [key], {});\n",
              "        if (!dataTable) return;\n",
              "\n",
              "        const docLinkHtml = 'Like what you see? Visit the ' +\n",
              "          '<a target=\"_blank\" href=https://colab.research.google.com/notebooks/data_table.ipynb>data table notebook</a>'\n",
              "          + ' to learn more about interactive tables.';\n",
              "        element.innerHTML = '';\n",
              "        dataTable['output_type'] = 'display_data';\n",
              "        await google.colab.output.renderOutput(dataTable, element);\n",
              "        const docLink = document.createElement('div');\n",
              "        docLink.innerHTML = docLinkHtml;\n",
              "        element.appendChild(docLink);\n",
              "      }\n",
              "    </script>\n",
              "  </div>\n",
              "\n",
              "\n",
              "    <div id=\"df-1fe158eb-f017-4167-8b54-98fbd1cfa1ee\">\n",
              "      <button class=\"colab-df-quickchart\" onclick=\"quickchart('df-1fe158eb-f017-4167-8b54-98fbd1cfa1ee')\"\n",
              "                title=\"Suggest charts\"\n",
              "                style=\"display:none;\">\n",
              "\n",
              "<svg xmlns=\"http://www.w3.org/2000/svg\" height=\"24px\"viewBox=\"0 0 24 24\"\n",
              "     width=\"24px\">\n",
              "    <g>\n",
              "        <path d=\"M19 3H5c-1.1 0-2 .9-2 2v14c0 1.1.9 2 2 2h14c1.1 0 2-.9 2-2V5c0-1.1-.9-2-2-2zM9 17H7v-7h2v7zm4 0h-2V7h2v10zm4 0h-2v-4h2v4z\"/>\n",
              "    </g>\n",
              "</svg>\n",
              "      </button>\n",
              "\n",
              "<style>\n",
              "  .colab-df-quickchart {\n",
              "      --bg-color: #E8F0FE;\n",
              "      --fill-color: #1967D2;\n",
              "      --hover-bg-color: #E2EBFA;\n",
              "      --hover-fill-color: #174EA6;\n",
              "      --disabled-fill-color: #AAA;\n",
              "      --disabled-bg-color: #DDD;\n",
              "  }\n",
              "\n",
              "  [theme=dark] .colab-df-quickchart {\n",
              "      --bg-color: #3B4455;\n",
              "      --fill-color: #D2E3FC;\n",
              "      --hover-bg-color: #434B5C;\n",
              "      --hover-fill-color: #FFFFFF;\n",
              "      --disabled-bg-color: #3B4455;\n",
              "      --disabled-fill-color: #666;\n",
              "  }\n",
              "\n",
              "  .colab-df-quickchart {\n",
              "    background-color: var(--bg-color);\n",
              "    border: none;\n",
              "    border-radius: 50%;\n",
              "    cursor: pointer;\n",
              "    display: none;\n",
              "    fill: var(--fill-color);\n",
              "    height: 32px;\n",
              "    padding: 0;\n",
              "    width: 32px;\n",
              "  }\n",
              "\n",
              "  .colab-df-quickchart:hover {\n",
              "    background-color: var(--hover-bg-color);\n",
              "    box-shadow: 0 1px 2px rgba(60, 64, 67, 0.3), 0 1px 3px 1px rgba(60, 64, 67, 0.15);\n",
              "    fill: var(--button-hover-fill-color);\n",
              "  }\n",
              "\n",
              "  .colab-df-quickchart-complete:disabled,\n",
              "  .colab-df-quickchart-complete:disabled:hover {\n",
              "    background-color: var(--disabled-bg-color);\n",
              "    fill: var(--disabled-fill-color);\n",
              "    box-shadow: none;\n",
              "  }\n",
              "\n",
              "  .colab-df-spinner {\n",
              "    border: 2px solid var(--fill-color);\n",
              "    border-color: transparent;\n",
              "    border-bottom-color: var(--fill-color);\n",
              "    animation:\n",
              "      spin 1s steps(1) infinite;\n",
              "  }\n",
              "\n",
              "  @keyframes spin {\n",
              "    0% {\n",
              "      border-color: transparent;\n",
              "      border-bottom-color: var(--fill-color);\n",
              "      border-left-color: var(--fill-color);\n",
              "    }\n",
              "    20% {\n",
              "      border-color: transparent;\n",
              "      border-left-color: var(--fill-color);\n",
              "      border-top-color: var(--fill-color);\n",
              "    }\n",
              "    30% {\n",
              "      border-color: transparent;\n",
              "      border-left-color: var(--fill-color);\n",
              "      border-top-color: var(--fill-color);\n",
              "      border-right-color: var(--fill-color);\n",
              "    }\n",
              "    40% {\n",
              "      border-color: transparent;\n",
              "      border-right-color: var(--fill-color);\n",
              "      border-top-color: var(--fill-color);\n",
              "    }\n",
              "    60% {\n",
              "      border-color: transparent;\n",
              "      border-right-color: var(--fill-color);\n",
              "    }\n",
              "    80% {\n",
              "      border-color: transparent;\n",
              "      border-right-color: var(--fill-color);\n",
              "      border-bottom-color: var(--fill-color);\n",
              "    }\n",
              "    90% {\n",
              "      border-color: transparent;\n",
              "      border-bottom-color: var(--fill-color);\n",
              "    }\n",
              "  }\n",
              "</style>\n",
              "\n",
              "      <script>\n",
              "        async function quickchart(key) {\n",
              "          const quickchartButtonEl =\n",
              "            document.querySelector('#' + key + ' button');\n",
              "          quickchartButtonEl.disabled = true;  // To prevent multiple clicks.\n",
              "          quickchartButtonEl.classList.add('colab-df-spinner');\n",
              "          try {\n",
              "            const charts = await google.colab.kernel.invokeFunction(\n",
              "                'suggestCharts', [key], {});\n",
              "          } catch (error) {\n",
              "            console.error('Error during call to suggestCharts:', error);\n",
              "          }\n",
              "          quickchartButtonEl.classList.remove('colab-df-spinner');\n",
              "          quickchartButtonEl.classList.add('colab-df-quickchart-complete');\n",
              "        }\n",
              "        (() => {\n",
              "          let quickchartButtonEl =\n",
              "            document.querySelector('#df-1fe158eb-f017-4167-8b54-98fbd1cfa1ee button');\n",
              "          quickchartButtonEl.style.display =\n",
              "            google.colab.kernel.accessAllowed ? 'block' : 'none';\n",
              "        })();\n",
              "      </script>\n",
              "    </div>\n",
              "    </div>\n",
              "  </div>\n"
            ],
            "application/vnd.google.colaboratory.intrinsic+json": {
              "type": "dataframe",
              "variable_name": "df",
              "summary": "{\n  \"name\": \"df\",\n  \"rows\": 3,\n  \"fields\": [\n    {\n      \"column\": \"\\u041c\\u0435\\u0442\\u043e\\u0434\",\n      \"properties\": {\n        \"dtype\": \"string\",\n        \"num_unique_values\": 3,\n        \"samples\": [\n          \"\\u0422\\u044f\\u0436\\u0451\\u043b\\u044b\\u0439 \\u0448\\u0430\\u0440\\u0438\\u043a\",\n          \"\\u0423\\u0441\\u043a\\u043e\\u0440\\u0435\\u043d\\u043d\\u044b\\u0439 \\u041d\\u0435\\u0441\\u0442\\u0435\\u0440\\u043e\\u0432\",\n          \"SR1\"\n        ],\n        \"semantic_type\": \"\",\n        \"description\": \"\"\n      }\n    },\n    {\n      \"column\": \"\\u0427\\u0438\\u0441\\u043b\\u043e \\u0438\\u0442\\u0435\\u0440\\u0430\\u0446\\u0438\\u0439\",\n      \"properties\": {\n        \"dtype\": \"number\",\n        \"std\": 13,\n        \"min\": 7,\n        \"max\": 34,\n        \"num_unique_values\": 3,\n        \"samples\": [\n          34,\n          16,\n          7\n        ],\n        \"semantic_type\": \"\",\n        \"description\": \"\"\n      }\n    },\n    {\n      \"column\": \"\\u0427\\u0438\\u0441\\u043b\\u043e \\u0432\\u044b\\u0447\\u0438\\u0441\\u043b\\u0435\\u043d\\u0438\\u0439 \\u0433\\u0440\\u0430\\u0434\\u0438\\u0435\\u043d\\u0442\\u0430\",\n      \"properties\": {\n        \"dtype\": \"number\",\n        \"std\": 13,\n        \"min\": 8,\n        \"max\": 34,\n        \"num_unique_values\": 3,\n        \"samples\": [\n          34,\n          16,\n          8\n        ],\n        \"semantic_type\": \"\",\n        \"description\": \"\"\n      }\n    },\n    {\n      \"column\": \"\\u0427\\u0438\\u0441\\u043b\\u043e \\u0432\\u044b\\u0447\\u0438\\u0441\\u043b\\u0435\\u043d\\u0438\\u0439 \\u0433\\u0435\\u0441\\u0441\\u0438\\u0430\\u043d\\u0430\",\n      \"properties\": {\n        \"dtype\": \"number\",\n        \"std\": 0,\n        \"min\": 0,\n        \"max\": 1,\n        \"num_unique_values\": 2,\n        \"samples\": [\n          1,\n          0\n        ],\n        \"semantic_type\": \"\",\n        \"description\": \"\"\n      }\n    },\n    {\n      \"column\": \"\\u0417\\u043d\\u0430\\u0447\\u0435\\u043d\\u0438\\u0435 \\u0444\\u0443\\u043d\\u043a\\u0446\\u0438\\u0438\",\n      \"properties\": {\n        \"dtype\": \"number\",\n        \"std\": 0.3345871253126439,\n        \"min\": 8.650664038146124,\n        \"max\": 9.268130940079184,\n        \"num_unique_values\": 3,\n        \"samples\": [\n          9.182772962336166,\n          9.268130940079184\n        ],\n        \"semantic_type\": \"\",\n        \"description\": \"\"\n      }\n    }\n  ]\n}"
            }
          },
          "metadata": {},
          "execution_count": 31
        }
      ]
    },
    {
      "cell_type": "markdown",
      "id": "c88d92f8",
      "metadata": {
        "id": "c88d92f8"
      },
      "source": [
        "\n",
        "## 💬 Выводы\n",
        "\n",
        "- **Метод SR1** показывает хороший компромисс между скоростью сходимости и стабильностью, эффективно приближая гессиан и улучшая качество поиска минимума.\n",
        "- **Метод тяжёлого шарика** демонстрирует осцилляции в начале, затем плавное, но медленное схождение.\n",
        "- **Метод Нестерова** сочетает устойчивость и скорость, демонстрируя наилучшее поведение среди трёх методов.\n"
      ]
    }
  ],
  "metadata": {
    "kernelspec": {
      "display_name": "Python 3",
      "language": "python",
      "name": "python3"
    },
    "language_info": {
      "codemirror_mode": {
        "name": "ipython",
        "version": 2
      },
      "file_extension": ".py",
      "mimetype": "text/x-python",
      "name": "python",
      "nbconvert_exporter": "python",
      "pygments_lexer": "ipython2",
      "version": "2.7.6"
    },
    "colab": {
      "provenance": []
    }
  },
  "nbformat": 4,
  "nbformat_minor": 5
}