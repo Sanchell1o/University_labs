{
 "cells": [
  {
   "metadata": {},
   "cell_type": "markdown",
   "source": "# 1. Теоретическая часть",
   "id": "89b862de79d980ad"
  },
  {
   "metadata": {},
   "cell_type": "markdown",
   "source": "## 1.2 Доказать, что оптимальные направления PCA совпадают с собственными векторами матрицы ковариаций",
   "id": "2efc9ba7a6f36288"
  },
  {
   "metadata": {},
   "cell_type": "markdown",
   "source": [
    "## Постановка задачи\n",
    "Пусть дан **центрированный** набор данных \\( X \\in \\mathbb{R}^{n \\times m} \\), где:\n",
    "- \\\\( n \\\\) — количество объектов,\n",
    "- \\\\( m \\\\) — количество признаков.\n",
    "\n",
    "**Матрица ковариаций** определяется как:\n",
    "\\\\[\n",
    "\\Sigma = \\frac{1}{n-1} X^T X.\n",
    "\\\\]\n",
    "\n",
    "---\n",
    "\n",
    "## Цель PCA\n",
    "Найти **направление** (единичный вектор \\\\( w \\in \\mathbb{R}^m \\\\)), при проекции данных на которое достигается **максимальная дисперсия**. Математически задача формулируется как:\n",
    "\\\\[\n",
    "\\max_w \\, \\text{Var}(Xw) = \\frac{1}{n-1} \\|Xw\\|^2 = w^T \\Sigma w,\n",
    "\\\\]\n",
    "при условии \\\\( \\|w\\| = 1 \\\\).\n",
    "\n",
    "---\n",
    "\n",
    "## Решение задачи оптимизации\n",
    "\n",
    "### Метод множителей Лагранжа\n",
    "Для максимизации \\\\( w^T \\Sigma w \\\\) с ограничением \\\\( \\|w\\| = 1 \\\\) вводим **лагранжиан**:\n",
    "\\\\([\n",
    "\\mathcal{L}(w, \\lambda) = w^T \\Sigma w - \\lambda (w^T w - 1).\n",
    "\\\\)]\n",
    "Приравнивая производную к нулю:\n",
    "\\\\[\n",
    "\\frac{\\partial \\mathcal{L}}{\\partial w} = 2\\Sigma w - 2\\lambda w = 0 \\implies \\Sigma w = \\lambda w.\n",
    "\\\\]\n",
    "Это уравнение показывает, что:\n",
    "- \\\\( w \\\\) — **собственный вектор** матрицы \\\\( \\Sigma \\\\),\n",
    "- \\\\( \\lambda \\\\) — соответствующее **собственное значение**.\n",
    "\n",
    "### Спектральное разложение\n",
    "Матрица ковариаций \\\\( \\Sigma \\\\) симметрична и положительно полуопределена, поэтому допускает **спектральное разложение**:\n",
    "\\\\[\n",
    "\\Sigma = \\sum_{i=1}^m \\lambda_i v_i v_i^T,\n",
    "\\\\]\n",
    "где:\n",
    "- \\\\( \\lambda_1 \\geq \\lambda_2 \\geq \\dots \\geq \\lambda_m \\geq 0 \\\\) — собственные значения,\n",
    "- \\\\( \\{v_i\\} \\\\) — ортонормированные собственные векторы.\n",
    "\n",
    "###  Максимизация дисперсии\n",
    "Любой единичный вектор \\\\( w \\\\) можно представить в виде:\n",
    "\\\\[\n",
    "w = \\sum_{i=1}^m a_i v_i, \\quad \\text{где } \\sum_{i=1}^m a_i^2 = 1.\n",
    "\\\\]\n",
    "Подставляя это в выражение для дисперсии:\n",
    "\\\\[\n",
    "w^T \\Sigma w = \\sum_{i=1}^m \\lambda_i a_i^2.\n",
    "\\\\]\n",
    "Максимум достигается, когда \\\\( a_1 = 1 \\\\) (для \\\\( \\lambda_{\\text{max}} \\\\)), а остальные \\\\( a_j = 0 \\\\). Таким образом, оптимальное направление:\n",
    "\\\\[\n",
    "w = v_1,\n",
    "\\\\]\n",
    "где \\\\( v_1 \\\\) — собственный вектор, соответствующий наибольшему собственному значению \\\\( \\lambda_1 \\\\).\n",
    "\n",
    "---\n",
    "\n",
    "## Последующие главные компоненты\n",
    "Для нахождения следующих компонент добавляется условие **ортогональности** предыдущим направлениям:\n",
    "1. **Вторая компонента** соответствует \\\\( v_2 \\\\) (собственный вектор для \\\\( \\lambda_2 \\\\)).\n",
    "2. Аналогично, \\\\( k \\\\)-я компонента — \\\\( v_k \\\\) с \\\\( \\lambda_k \\\\).\n",
    "\n",
    "---\n",
    "\n",
    "## Вывод\n",
    "**Главные компоненты** в PCA совпадают с **собственными векторами** матрицы ковариаций \\\\( \\Sigma \\\\), упорядоченными по убыванию собственных значений:\n",
    "- Первая компонента (\\\\( v_1 \\\\)) максимизирует дисперсию,\n",
    "- Последующие компоненты (\\\\( v_2, v_3, \\dots \\\\)) обеспечивают максимальную остаточную дисперсию при ортогональности предыдущим направлениям.\n",
    "\n",
    "Этот результат следует из свойств спектрального разложения и задачи условной оптимизации."
   ],
   "id": "564a2aa936dac6a1"
  },
  {
   "metadata": {},
   "cell_type": "markdown",
   "source": "# 2. Практическая часть",
   "id": "8e649b9c9df9d80a"
  },
  {
   "metadata": {
    "ExecuteTime": {
     "end_time": "2025-04-21T22:59:05.715103Z",
     "start_time": "2025-04-21T22:59:05.712174Z"
    }
   },
   "cell_type": "code",
   "source": [
    "from typing import List, Tuple\n",
    "import math\n",
    "import random"
   ],
   "id": "fe74b898fb51bd6d",
   "outputs": [],
   "execution_count": 1
  },
  {
   "metadata": {
    "ExecuteTime": {
     "end_time": "2025-04-21T22:59:05.965561Z",
     "start_time": "2025-04-21T22:59:05.719279Z"
    }
   },
   "cell_type": "code",
   "source": [
    "import matplotlib.pyplot as plt\n",
    "from matplotlib.figure import Figure\n",
    "import csv"
   ],
   "id": "a2dc4ca656610fb4",
   "outputs": [],
   "execution_count": 2
  },
  {
   "metadata": {},
   "cell_type": "markdown",
   "source": "## 2.1 Напишем отдельный класс матрицы с основными операциями",
   "id": "b8015c0422bd1448"
  },
  {
   "metadata": {
    "ExecuteTime": {
     "end_time": "2025-04-21T22:59:06.046532Z",
     "start_time": "2025-04-21T22:59:06.038098Z"
    }
   },
   "cell_type": "code",
   "source": [
    "class Matrix:\n",
    "\n",
    "    def __init__(self, data):\n",
    "        \"\"\"\n",
    "        Инициализация матрицы.\n",
    "        \"\"\"\n",
    "        if not all(len(row) == len(data[0]) for row in data):\n",
    "            raise ValueError(\"Все строки матрицы должны иметь одинаковую длину\")\n",
    "        self.data = data\n",
    "        self.rows = len(data)\n",
    "        self.cols = len(data[0]) if self.rows > 0 else 0\n",
    "\n",
    "    def __add__(self, other):\n",
    "        \"\"\"Сложение матриц.\"\"\"\n",
    "        if self.rows != other.rows or self.cols != other.cols:\n",
    "            raise ValueError(\"Матрицы ни одного размера\")\n",
    "        result = [\n",
    "            [self.data[i][j] + other.data[i][j] for j in range(self.cols)]\n",
    "            for i in range(self.rows)\n",
    "        ]\n",
    "        return Matrix(result)\n",
    "\n",
    "    def __sub__(self, other):\n",
    "        \"\"\"Вычитание матриц..\"\"\"\n",
    "        if self.rows != other.rows or self.cols != other.cols:\n",
    "            raise ValueError(\"Матрицы ни одного размера\")\n",
    "        result = [\n",
    "            [self.data[i][j] - other.data[i][j] for j in range(self.cols)]\n",
    "            for i in range(self.rows)\n",
    "        ]\n",
    "        return Matrix(result)\n",
    "\n",
    "    def __mul__(self, scalar):\n",
    "        \"\"\"Умножение матрицы на скаляр.\"\"\"\n",
    "        if not isinstance(scalar, (int, float)):\n",
    "            raise TypeError(\"Можно умножать только на скаляр\")\n",
    "        return Matrix([\n",
    "            [elem * scalar for elem in row]\n",
    "            for row in self.data\n",
    "        ])\n",
    "\n",
    "    def __matmul__(self, other):\n",
    "        \"\"\"Умножение матриц (ака оператор @ из нампая).\"\"\"\n",
    "        if self.cols != other.rows:\n",
    "            raise ValueError(\n",
    "                \"Число столбцов первой матрицы должно совпадать с числом строк второй\"\n",
    "            )\n",
    "        result = [\n",
    "            [\n",
    "                sum(a * b for a, b in zip(self.row(i), other.col(j)))\n",
    "                for j in range(other.cols)\n",
    "            ]\n",
    "            for i in range(self.rows)\n",
    "        ]\n",
    "        return Matrix(result)\n",
    "\n",
    "    def transpose(self):\n",
    "        \"\"\"Возвращает транспонированную матрицу.\"\"\"\n",
    "        return Matrix([list(col) for col in zip(*self.data)])\n",
    "\n",
    "    def minor(self, row, col):\n",
    "        \"\"\"\n",
    "        Возвращает минор матрицы через разложение.\n",
    "        \"\"\"\n",
    "        if self.rows != self.cols:\n",
    "            raise ValueError(\"Матрица не квадратная\")\n",
    "        new_data = [\n",
    "            r[:col] + r[col + 1:]\n",
    "            for i, r in enumerate(self.data)\n",
    "            if i != row\n",
    "        ]\n",
    "        return Matrix(new_data)\n",
    "\n",
    "    def determinant(self):\n",
    "        \"\"\"Вычисляет определитель матрицы методом Гаусса.\"\"\"\n",
    "        if self.rows != self.cols:\n",
    "            raise ValueError(\"Матрица не квадратная\")\n",
    "\n",
    "        mat = [row.copy() for row in self.data]\n",
    "        n = self.rows\n",
    "        det = 1.0\n",
    "\n",
    "        for i in range(n):\n",
    "\n",
    "            pivot = max(range(i, n), key=lambda x: abs(mat[x][i]))\n",
    "            if abs(mat[pivot][i]) < 1e-10:\n",
    "                return 0.0\n",
    "\n",
    "            if pivot != i:\n",
    "                mat[i], mat[pivot] = mat[pivot], mat[i]\n",
    "                det *= -1\n",
    "\n",
    "            det *= mat[i][i]\n",
    "            for j in range(i + 1, n):\n",
    "                factor = mat[j][i] / mat[i][i]\n",
    "                for k in range(i, n):\n",
    "                    mat[j][k] -= factor * mat[i][k]\n",
    "\n",
    "        return det\n",
    "\n",
    "    def trace(self):\n",
    "        \"\"\"Возвращает след матрицы (сумму диагональных элементов).\"\"\"\n",
    "        if self.rows != self.cols:\n",
    "            raise ValueError(\"След определен только для квадратных матриц\")\n",
    "        return sum(self.data[i][i] for i in range(self.rows))\n",
    "\n",
    "    def __str__(self):\n",
    "        \"\"\"Строковое представление матрицы.\"\"\"\n",
    "        return \"\\n\".join([\"\\t\".join(map(str, row)) for row in self.data])\n",
    "\n",
    "    def __getitem__(self, indices):\n",
    "        \"\"\"Возвращает элемент по индексам [i][j].\"\"\"\n",
    "        i, j = indices\n",
    "        if i >= self.rows or j >= self.cols:\n",
    "            raise IndexError(\"Индекс выходит за границы матрицы\")\n",
    "        return self.data[i][j]\n",
    "\n",
    "    def row(self, i):\n",
    "        \"\"\"Возвращает i-ю строку матрицы.\"\"\"\n",
    "        if i >= self.rows:\n",
    "            raise IndexError(\"Индекс строки выходит за границы\")\n",
    "        return self.data[i]\n",
    "\n",
    "    def col(self, j):\n",
    "        \"\"\"Возвращает j-й столбец матрицы.\"\"\"\n",
    "        if j >= self.cols:\n",
    "            raise IndexError(\"Индекс столбца выходит за границы\")\n",
    "        return [row[j] for row in self.data]\n",
    "\n",
    "    def copy(self):\n",
    "        \"\"\"Возвращает  копию матрицы.\"\"\"\n",
    "        return Matrix([row.copy() for row in self.data])\n",
    "\n",
    "    def set(self, i, j, value):\n",
    "        \"\"\"Устанавливает значение элемента матрицы.\"\"\"\n",
    "        if i >= self.rows or j >= self.cols:\n",
    "            raise IndexError(\"Индекс выходит за границы\")\n",
    "        self.data[i][j] = value\n",
    "\n",
    "    def swap_rows(self, r1, r2):\n",
    "        \"\"\"Меняет местами две строки матрицы.\"\"\"\n",
    "        if r1 >= self.rows or r2 >= self.rows:\n",
    "            raise IndexError(\"Индекс строки выходит за границы\")\n",
    "        self.data[r1], self.data[r2] = self.data[r2], self.data[r1]\n"
   ],
   "id": "17f4c68a286a746a",
   "outputs": [],
   "execution_count": 3
  },
  {
   "metadata": {},
   "cell_type": "markdown",
   "source": "## 2.1.1. EASY LEVEL\n",
   "id": "60cdf2dc8b307830"
  },
  {
   "metadata": {},
   "cell_type": "markdown",
   "source": "### Реализовать метод Гаусса для решения СЛАУ:",
   "id": "179ce3185b7f10a6"
  },
  {
   "metadata": {},
   "cell_type": "markdown",
   "source": "Метод Гаусса — алгоритм решения систем линейных алгебраических уравнений (СЛАУ) путём преобразования матрицы системы к **треугольному виду** с помощью элементарных операций над строками.",
   "id": "32206c74e91cd5e6"
  },
  {
   "metadata": {},
   "cell_type": "markdown",
   "source": [
    "#### Основные этапы\n",
    "\n",
    "##### 1. Прямой ход\n",
    "Цель: Преобразование матрицы к верхнетреугольной форме.\n",
    "1. **Выбор ведущего элемента (пивота)**:\n",
    "   - На каждом шаге в текущем столбце ищется элемент с **максимальным абсолютным значением**.\n",
    "   - Если необходимо, строки переставляются, чтобы пивот оказался на диагонали.\n",
    "2. **Обнуление элементов под пивотом**:\n",
    "   - Для каждой строки ниже текущей:\n",
    "     - Вычисляется коэффициент:\n",
    "       \\\\[\n",
    "       \\text{factor} = \\frac{\\text{Элемент под пивотом}}{\\text{Пивот}}\n",
    "       \\\\]\n",
    "     - Из текущей строки вычитается строка с пивотом, умноженная на `factor`.\n",
    "\n",
    "\n",
    "\n",
    "##### 2. Проверка на несовместность\n",
    "После прямого хода анализируются строки матрицы:\n",
    "- Если встречается строка вида:\n",
    "  \\\\[\n",
    "  [0 \\quad 0 \\quad \\dots \\quad 0 \\,|\\, d], \\quad d \\neq 0,\n",
    "  \\\\]\n",
    "  система **не имеет решений** .\n",
    "\n",
    "\n",
    "##### 3. Обратный ход\n",
    "Цель: Нахождение значений переменных.\n",
    "1. Начинаем с последней строки верхнетреугольной матрицы.\n",
    "2. Последовательно выражаем переменные снизу вверх:\n",
    "   - Для каждой переменной \\\\( x_i \\\\):\n",
    "     \\\\[\n",
    "     x_i = \\frac{b_i - \\sum_{j=i+1}^n a_{ij}x_j}{a_{ii}}\n",
    "     \\\\]\n",
    "\n",
    "\n",
    "##### 4. Специфичные случаи\n",
    "- **Несовместная система**:\n",
    "  Наличие строки \\\\([0 \\dots 0 \\,|\\\\ d] \\\\, d \\neq 0\\\\) → решений нет.\n",
    "- **Бесконечно много решений**:\n",
    "  Наличие строки \\\\([0 \\dots 0 \\,|\\, 0]\\\\) → система имеет свободные переменные.\n",
    "\n",
    "\n",
    "##### 5. Асимптотическая сложность по времени\n",
    "Алгоритм имеет сложность \\\\( O(n^3) \\\\)"
   ],
   "id": "27099a0f27ecd283"
  },
  {
   "metadata": {
    "ExecuteTime": {
     "end_time": "2025-04-21T22:59:06.055955Z",
     "start_time": "2025-04-21T22:59:06.051379Z"
    }
   },
   "cell_type": "code",
   "source": [
    "def gauss_solver(A: 'Matrix', b: 'Matrix') -> List['Matrix']:\n",
    "    \"\"\"\n",
    "    Вход:\n",
    "      A: матрица коэффициентов (n×n)\n",
    "      b: вектор правых частей (n×1)\n",
    "\n",
    "    Выход:\n",
    "      list[Matrix]: список базисных векторов решения системы\n",
    "\n",
    "    Raises:\n",
    "     ValueError: если система несовместна\n",
    "    \"\"\"\n",
    "    n = A.rows\n",
    "\n",
    "    augmented = []\n",
    "    for i in range(n):\n",
    "        row_i = []\n",
    "        for j in range(n):\n",
    "            row_i.append(A[i, j])\n",
    "        row_i.append(b[i, 0])\n",
    "        augmented.append(row_i)\n",
    "\n",
    "    # Прямой ход Гаусса\n",
    "    for col in range(n):\n",
    "        pivot_row = max(range(col, n), key=lambda r: abs(augmented[r][col]))\n",
    "        pivot_val = augmented[pivot_row][col]\n",
    "\n",
    "        if abs(pivot_val) < 1e-10:\n",
    "            continue\n",
    "\n",
    "        if pivot_row != col:\n",
    "            augmented[col], augmented[pivot_row] = augmented[pivot_row], augmented[col]\n",
    "            pivot_val = augmented[col][col]\n",
    "\n",
    "        # Нормируем ведущую строку\n",
    "        for c in range(col, n + 1):\n",
    "            augmented[col][c] /= pivot_val\n",
    "\n",
    "        # Обнуляем столбец ниже pivot\n",
    "        for r in range(col + 1, n):\n",
    "            factor = augmented[r][col]\n",
    "            if abs(factor) > 1e-12:\n",
    "                for c in range(col, n + 1):\n",
    "                    augmented[r][c] -= factor * augmented[col][c]\n",
    "\n",
    "    # Проверка на несовместность\n",
    "    # Если строка вида (0,0,...,0 | d), d != 0 => нет решений\n",
    "    for row in augmented:\n",
    "        left_part = row[:-1]\n",
    "        right_part = row[-1]\n",
    "        if all(abs(x) < 1e-10 for x in left_part) and abs(right_part) > 1e-10:\n",
    "            raise ValueError(\"Система несовместна\")\n",
    "\n",
    "    # Обратный ход\n",
    "    solution = [0.0] * n\n",
    "    for i in range(n - 1, -1, -1):\n",
    "        pivot_coeff = augmented[i][i]\n",
    "        if abs(pivot_coeff) < 1e-10:\n",
    "            continue\n",
    "\n",
    "        val = augmented[i][-1]\n",
    "        for j in range(i + 1, n):\n",
    "            val -= augmented[i][j] * solution[j]\n",
    "        solution[i] = val / pivot_coeff\n",
    "\n",
    "    # Превращаем list solution -> Matrix (n×1)\n",
    "    sol_matrix = Matrix([[x] for x in solution])\n",
    "    return [sol_matrix]"
   ],
   "id": "523fd6be6dada027",
   "outputs": [],
   "execution_count": 4
  },
  {
   "metadata": {},
   "cell_type": "markdown",
   "source": [
    "### Реализовать функцию центрирования данных:\n",
    "Метод, при котором среднее значение независимых переменных вычитается из всех значений"
   ],
   "id": "972abeed8e7fb620"
  },
  {
   "metadata": {},
   "cell_type": "markdown",
   "source": [
    "$$\n",
    "X_{\\text{centered}} = X - \\text{mean}(X)\n",
    "$$"
   ],
   "id": "b52125f192554dfb"
  },
  {
   "metadata": {
    "ExecuteTime": {
     "end_time": "2025-04-21T22:59:06.062650Z",
     "start_time": "2025-04-21T22:59:06.060331Z"
    }
   },
   "cell_type": "code",
   "source": [
    "def center_data(X: 'Matrix') -> 'Matrix':\n",
    "    \"\"\"\n",
    "    Вход: матрица данных X (n×m)\n",
    "    Выход: центрированная матрица X_centered (n×m)\n",
    "    \"\"\"\n",
    "    n, m = X.rows, X.cols\n",
    "    means = [sum(X.col(j)) / n for j in range(m)]\n",
    "    mean_matrix = Matrix([[means[j] for _ in range(n)] for j in range(m)]).transpose()\n",
    "    return X - mean_matrix"
   ],
   "id": "74648977ff0d3c69",
   "outputs": [],
   "execution_count": 5
  },
  {
   "metadata": {},
   "cell_type": "markdown",
   "source": [
    "### Вычислить матрицу ковариаций:\n",
    "Это матрица, составленная из попарных ковариаций элементов двух случайных векторов."
   ],
   "id": "53707cc54cabf802"
  },
  {
   "metadata": {},
   "cell_type": "markdown",
   "source": [
    "$$\n",
    "C = \\frac{1}{n-1} X^\\top X\n",
    "$$"
   ],
   "id": "c837a99da06d9480"
  },
  {
   "metadata": {
    "ExecuteTime": {
     "end_time": "2025-04-21T22:59:06.070725Z",
     "start_time": "2025-04-21T22:59:06.068565Z"
    }
   },
   "cell_type": "code",
   "source": [
    "def covariance_matrix(X_centered: 'Matrix') -> 'Matrix':\n",
    "    \"\"\"\n",
    "    Вход: центрированная матрица X_centered (n×m)\n",
    "    Выход: матрица ковариаций C (m×m)\n",
    "    \"\"\"\n",
    "    n = X_centered.rows\n",
    "    XT = X_centered.transpose()\n",
    "    C = (XT @ X_centered) * (1 / (n - 1))\n",
    "    return C\n"
   ],
   "id": "91b433b4ce1b56c4",
   "outputs": [],
   "execution_count": 6
  },
  {
   "metadata": {},
   "cell_type": "markdown",
   "source": "## 2.2.1. NORMAL LEVEL\n",
   "id": "1c0710395ca66a2"
  },
  {
   "metadata": {},
   "cell_type": "markdown",
   "source": "### Найти собственные значения матрицы методом бисекции\n",
   "id": "4ac31ce3f3d5f16"
  },
  {
   "metadata": {},
   "cell_type": "markdown",
   "source": [
    "#### Метод бисекции для поиска собственных значений матрицы\n",
    "\n",
    "Метод бисекции применяется для нахождения корней характеристического уравнения матрицы \\\\( C \\\\):\n",
    "\\\\[\n",
    "\\det(C - \\lambda I) = 0,\n",
    "\\\\]\n",
    "где:\n",
    "- \\\\( C \\\\) — исходная матрица,\n",
    "- \\\\( \\lambda \\\\) — искомые собственные значения,\n",
    "- \\\\( I \\\\) — единичная матрица.\n",
    "\n",
    "---\n",
    "\n",
    "##### Алгоритм\n",
    "\n",
    "###### 1. Оценка интервала методом Гершгорина\n",
    "**Теорема Гершгорина** позволяет определить область локализации собственных значений:\n",
    "- Для каждой строки \\\\( i \\\\) матрицы \\\\( C \\\\) вычисляется **радиус Гершгорина**:\n",
    "  \\\\[\n",
    "  R_i = \\sum_{j \\neq i} |c_{ij}|.\n",
    "  \\\\]\n",
    "- Все собственные значения лежат в объединении кругов:\n",
    "  \\\\[\n",
    "  \\lambda \\in \\bigcup_{i=1}^n \\left[ c_{ii} - R_i, \\, c_{ii} + R_i \\right].\n",
    "  \\\\]\n",
    "- Общий интервал поиска:\n",
    "  \\\\[\n",
    "  [a, \\, b] = \\left[ \\min_i (c_{ii} - R_i), \\, \\max_i (c_{ii} + R_i) \\right].\n",
    "  \\\\]\n",
    "\n",
    "---\n",
    "\n",
    "###### 2. Поиск корней методом бисекции\n",
    "Для каждого подынтервала \\\\([a, b]\\\\):\n",
    "1. **Деление интервала**:\n",
    "   Вычисляется середина интервала:\n",
    "  \\ \\[\n",
    "   \\lambda_{\\text{mid}} = \\frac{a + b}{2}.\n",
    "   \\\\]\n",
    "2. **Анализ знака**:\n",
    "   Определяется знак \\\\(\\det(C - \\lambda_{\\text{mid}} I)\\\\).\n",
    "   - Если знак меняется на \\\\([a, \\lambda_{\\text{mid}}]\\\\), корень ищется в этом подынтервале.\n",
    "   - Иначе — в \\\\([\\lambda_{\\text{mid}}, b]\\\\).\n",
    "3. **Итерации**:\n",
    "   Процесс повторяется, пока не будет достигнута заданная точность \\\\( \\varepsilon \\\\):\n",
    "   \\\\[\n",
    "   |b - a| < \\varepsilon.\n",
    "  \\\\]\n",
    "\n",
    "---\n",
    "\n",
    "###### 3. Вычисление определителя\n",
    "Для матрицы \\\\( C - \\lambda I \\\\) на каждом шаге:\n",
    "- Используются **численные методы** (например, LU-разложение или метод Гаусса).\n",
    "- **Сложность вычисления**: \\\\( O(n^3) \\\\) для матрицы размера \\\\( n \\times n \\\\).\n",
    "\n",
    "---\n",
    "\n",
    "##### Особенности метода\n",
    "- **Гарантированная сходимость**: Работает для непрерывных функций, меняющих знак на интервале.\n",
    "- **Ограничения**:\n",
    "  - Высокая вычислительная стоимость для больших матриц из-за многократного расчёта определителя.\n",
    "  - Требует предварительной оценки интервала.\n",
    "- **Применение**: Эффективен для симметричных матриц и небольших размерностей.\n",
    "\n",
    "---\n"
   ],
   "id": "9a4d7c785a9664b8"
  },
  {
   "metadata": {
    "ExecuteTime": {
     "end_time": "2025-04-21T22:59:06.083309Z",
     "start_time": "2025-04-21T22:59:06.079432Z"
    }
   },
   "cell_type": "code",
   "source": [
    "def bisection_method(func, a, b, epsilon):\n",
    "    \"\"\"\n",
    "    Метод бисекции для поиска одного корня на отрезке [a, b]\n",
    "    Возвращает приближение корня или None, если func(a)*func(b) > 0\n",
    "    \"\"\"\n",
    "    fa = func(a)\n",
    "    fb = func(b)\n",
    "    if fa * fb > 0:\n",
    "        return None\n",
    "\n",
    "    while (b - a) / 2 > epsilon:\n",
    "        c = (a + b) / 2\n",
    "        fc = func(c)\n",
    "\n",
    "        if abs(fc) < 1e-14:\n",
    "            return c\n",
    "\n",
    "        if fa * fc < 0:\n",
    "            # корень лежит в [a, c]\n",
    "            b = c\n",
    "            fb = fc\n",
    "        else:\n",
    "            # корень лежит в (c, b]\n",
    "            a = c\n",
    "            fa = fc\n",
    "\n",
    "    return (a + b) / 2\n",
    "\n",
    "\n",
    "def find_all_roots(func, a, b, epsilon, tol=1e-5, step=0.1):\n",
    "    \"\"\"\n",
    "    Ищет все корни func(x)=0 на [a, b], разбивая интервал с шагом step\n",
    "    На каждом подотрезке, где есть смена знака, уточняет корень методом бисекции\n",
    "    Параметры:\n",
    "        func    - функция f(x)\n",
    "        a, b    - границы интервала\n",
    "        epsilon - точность для метода бисекции\n",
    "        tol     - допуск при сравнении найденных корней\n",
    "        step    - шаг разбиения\n",
    "    Возвращает список всех найденных корней по возрастанию\n",
    "    \"\"\"\n",
    "    roots = []\n",
    "\n",
    "    x_points = []\n",
    "    x_val = a\n",
    "    while x_val < b:\n",
    "        x_points.append(x_val)\n",
    "        x_val += step\n",
    "    if x_points[-1] < b:\n",
    "        x_points.append(b)\n",
    "\n",
    "    # Ищем смену знака на смежных подотрезках\n",
    "    for i in range(len(x_points) - 1):\n",
    "        x0, x1 = x_points[i], x_points[i + 1]\n",
    "        f0, f1 = func(x0), func(x1)\n",
    "        if f0 * f1 <= 0:\n",
    "            # Уточняем корень методом бисекции\n",
    "            root = bisection_method(func, x0, x1, epsilon)\n",
    "            if root is not None:\n",
    "                # Проверяем, нет ли уже близкого корня\n",
    "                if not any(abs(root - r) <= tol for r in roots):\n",
    "                    roots.append(root)\n",
    "\n",
    "    return sorted(roots)"
   ],
   "id": "a66f500246e58c59",
   "outputs": [],
   "execution_count": 7
  },
  {
   "metadata": {
    "ExecuteTime": {
     "end_time": "2025-04-21T22:59:06.088314Z",
     "start_time": "2025-04-21T22:59:06.086047Z"
    }
   },
   "cell_type": "code",
   "source": [
    "def direct_det_func(C, x):\n",
    "    \"\"\"\n",
    "    Вычисляет det(C - xI) для квадратной матрицы C размера n×n\n",
    "    Возвращает float.\n",
    "    \"\"\"\n",
    "    n = C.rows\n",
    "\n",
    "    new_data = []\n",
    "    for i in range(n):\n",
    "        row = []\n",
    "        for j in range(n):\n",
    "            val = C[i, j]\n",
    "            if i == j:\n",
    "                val -= x\n",
    "            row.append(val)\n",
    "        new_data.append(row)\n",
    "\n",
    "    M = Matrix(new_data)\n",
    "    return M.determinant()"
   ],
   "id": "cf75449334e913e7",
   "outputs": [],
   "execution_count": 8
  },
  {
   "metadata": {
    "ExecuteTime": {
     "end_time": "2025-04-21T22:59:06.095930Z",
     "start_time": "2025-04-21T22:59:06.093490Z"
    }
   },
   "cell_type": "code",
   "source": [
    "def gershgorin_interval(C, eps=1e-6):\n",
    "    \"\"\"\n",
    "    Возвращает (a, b), оценку интервала, где лежат все собственные значения C\n",
    "    \"\"\"\n",
    "    n = C.rows\n",
    "    left_candidates = []\n",
    "    right_candidates = []\n",
    "    for i in range(n):\n",
    "        diag_val = C[i, i]\n",
    "        row_sum = 0.0\n",
    "        for j in range(n):\n",
    "            if j != i:\n",
    "                row_sum += abs(C[i, j])\n",
    "        left_candidates.append(diag_val - row_sum)\n",
    "        right_candidates.append(diag_val + row_sum)\n",
    "    a = min(left_candidates) - eps\n",
    "    b = max(right_candidates) + eps\n",
    "    return a, b"
   ],
   "id": "999ecfd61ddf3f11",
   "outputs": [],
   "execution_count": 9
  },
  {
   "metadata": {
    "ExecuteTime": {
     "end_time": "2025-04-21T22:59:06.105297Z",
     "start_time": "2025-04-21T22:59:06.102485Z"
    }
   },
   "cell_type": "code",
   "source": [
    "def find_eigenvalues(C: 'Matrix', tol: float = 1e-6) -> List[float]:\n",
    "    \"\"\"\n",
    "    Вход:\n",
    "      C: матрица ковариаций (m×m)\n",
    "      tol: допустимая погрешность\n",
    "    Выход: список вещественных собственных значений\n",
    "    \"\"\"\n",
    "    a, b = gershgorin_interval(C, eps=1e-6)\n",
    "\n",
    "    def fdet(x):\n",
    "        return direct_det_func(C, x)\n",
    "\n",
    "    roots = find_all_roots(fdet, a, b, epsilon=1e-6, step=0.001, tol=tol)\n",
    "    return roots"
   ],
   "id": "53d58cbc9a90e46c",
   "outputs": [],
   "execution_count": 10
  },
  {
   "metadata": {},
   "cell_type": "markdown",
   "source": "### Найти собственные векторы матрицы\n",
   "id": "693490ebdc9265cc"
  },
  {
   "metadata": {},
   "cell_type": "markdown",
   "source": [
    " $$\n",
    "  (C - \\lambda I)v = 0\n",
    "  $$"
   ],
   "id": "e0f13d2a5ad30a57"
  },
  {
   "metadata": {
    "ExecuteTime": {
     "end_time": "2025-04-21T22:59:06.116243Z",
     "start_time": "2025-04-21T22:59:06.113481Z"
    }
   },
   "cell_type": "code",
   "source": [
    "def solve_system(A: Matrix, B: Matrix) -> List[float]:\n",
    "    sol = gauss_solver(A, B)\n",
    "    sol_vec = sol[0]\n",
    "    return [sol_vec[i, 0] for i in range(sol_vec.rows)]"
   ],
   "id": "dce3d45306ed5d2f",
   "outputs": [],
   "execution_count": 11
  },
  {
   "metadata": {
    "ExecuteTime": {
     "end_time": "2025-04-21T22:59:06.123531Z",
     "start_time": "2025-04-21T22:59:06.119388Z"
    }
   },
   "cell_type": "code",
   "source": [
    "def identity_matrix(n: int) -> Matrix:\n",
    "    \"\"\"Единичная матрица n×n\"\"\"\n",
    "    return Matrix([[1.0 if i == j else 0.0 for j in range(n)] for i in range(n)])\n",
    "\n",
    "\n",
    "def inverse_iteration(\n",
    "        C: Matrix,\n",
    "        lam: float,\n",
    "        max_iter: int = 100,\n",
    "        tol: float = 1e-8\n",
    ") -> Matrix:\n",
    "    \"\"\"\n",
    "    Находит собственный вектор, соответствующий λ, решая\n",
    "      (C - λI) y_{k+1} = x_k\n",
    "    и нормируя y, пока не сойдётся\n",
    "    \"\"\"\n",
    "    n = C.rows\n",
    "    I = identity_matrix(n)\n",
    "    A = C - (I * lam)\n",
    "\n",
    "    # стартовый случайный вектор x (n×1)\n",
    "    x = Matrix([[random.random()] for _ in range(n)])\n",
    "\n",
    "    for _ in range(max_iter):\n",
    "        # решаем A y = x через ваш solve_system (gauss_solver внутри)\n",
    "        y_list = solve_system(A, x)  # возвращает list[float] длины n\n",
    "        # превращаем в Matrix-столбец\n",
    "        y = Matrix([[v] for v in y_list])\n",
    "\n",
    "        # нормировка y\n",
    "        norm = math.sqrt(sum(y[i, 0] ** 2 for i in range(n)))\n",
    "        if norm < tol:\n",
    "            break\n",
    "        y = y * (1.0 / norm)\n",
    "\n",
    "        # проверяем изменение\n",
    "        delta = max(abs(y[i, 0] - x[i, 0]) for i in range(n))\n",
    "        x = y\n",
    "        if delta < tol:\n",
    "            break\n",
    "\n",
    "    return x  # это приближённый собственный вектор λ\n",
    "\n",
    "\n",
    "def find_eigenvectors(C: Matrix, eigenvalues: List[float]) -> List[Matrix]:\n",
    "    \"\"\"\n",
    "    Для каждого λ из eigenvalues запускаем inverse_iteration\n",
    "    и возвращаем список столбцовых Matrix-векторов\n",
    "    \"\"\"\n",
    "    return [inverse_iteration(C, lam) for lam in eigenvalues]"
   ],
   "id": "dba292fd6ba62ed6",
   "outputs": [],
   "execution_count": 12
  },
  {
   "metadata": {},
   "cell_type": "markdown",
   "source": "### Вычислить долю объясненной дисперсии:\n",
   "id": "fa648043484ea151"
  },
  {
   "metadata": {},
   "cell_type": "markdown",
   "source": [
    "$$\n",
    "        \\gamma = \\frac{\\sum_{i=1}^{k} \\lambda_i}{\\sum_{i=1}^{m} \\lambda_i},\n",
    "$$"
   ],
   "id": "d8ec3164b854c7f9"
  },
  {
   "metadata": {
    "ExecuteTime": {
     "end_time": "2025-04-21T22:59:06.131949Z",
     "start_time": "2025-04-21T22:59:06.129152Z"
    }
   },
   "cell_type": "code",
   "source": [
    "def explained_variance_ratio(eigenvalues: List[float], k: int) -> float:\n",
    "    \"\"\"\n",
    "    Вход:\n",
    "      eigenvalues: список собственных значений\n",
    "      k: число компонент\n",
    "    Выход: доля объясненной дисперсии\n",
    "    \"\"\"\n",
    "    m = len(eigenvalues)\n",
    "    if m == 0:\n",
    "        raise ValueError(\"Список собственных значений пуст\")\n",
    "    if k <= 0 or k > m:\n",
    "        raise ValueError(f\"Некорректное k={k} для списка из {m} собственных значений\")\n",
    "\n",
    "    total = sum(eigenvalues)\n",
    "    if abs(total) < 1e-15:\n",
    "        raise ValueError(\"Сумма собственных значений равна нулю (невозможно разделить)\")\n",
    "\n",
    "    sorted_eigs = sorted(eigenvalues, reverse=True)\n",
    "\n",
    "    explained = sum(sorted_eigs[:k])\n",
    "    return explained / total\n"
   ],
   "id": "bf3b7c42e9a7925a",
   "outputs": [],
   "execution_count": 13
  },
  {
   "metadata": {},
   "cell_type": "markdown",
   "source": [
    "## 2.3.1 HARD LEVEL и EXPERT LEVEL\n",
    "Так как хард и эксперт лвлы связаны друг с другом они будут вместе (честно мне просто проще сразу написать РСА с автовыбором главных компонент)"
   ],
   "id": "80de3acccf93257"
  },
  {
   "metadata": {},
   "cell_type": "markdown",
   "source": "### Реализовать полный алгоритм PCA",
   "id": "bbdf79aee2e13ea7"
  },
  {
   "metadata": {},
   "cell_type": "markdown",
   "source": [
    "#### Метод главных компонент (PCA)\n",
    "\n",
    "**Метод главных компонент (PCA)** — это техника снижения размерности данных, направленная на поиск ортогональных направлений (главных компонент), которые максимизируют дисперсию данных. Основные этапы алгоритма:\n",
    "\n",
    "---\n",
    "\n",
    "#### Алгоритм PCA\n",
    "\n",
    "##### 1. Центрирование данных\n",
    "- **Цель**: Устранить смещение данных относительно начала координат.\n",
    "- **Действие**: Для каждого признака вычисляется среднее значение, которое затем вычитается из исходных данных:\n",
    "  \\\\[\n",
    "  X_{\\text{centered}} = X - \\bar{X},\n",
    "  \\\\]\n",
    "  где \\\\( \\bar{X} \\\\) — вектор средних значений признаков.\n",
    "\n",
    "---\n",
    "\n",
    "##### 2. Вычисление ковариационной матрицы\n",
    "- **Цель**: Оценить взаимосвязь между признаками.\n",
    "- **Формула**:\n",
    "  \\\\[\n",
    "  \\Sigma = \\frac{1}{n-1} X_{\\text{centered}}^T X_{\\text{centered}},\n",
    "  \\\\]\n",
    "  где:\n",
    "  - \\\\( n \\\\) — количество объектов,\n",
    "  - \\\\( \\Sigma \\\\) — ковариационная матрица размерности \\\\( m \\times m \\\\) (для \\\\( m \\\\) признаков).\n",
    "\n",
    "---\n",
    "\n",
    "##### 3. Нахождение собственных значений и векторов\n",
    "- **Собственные векторы**: Определяют направления главных компонент. Каждый вектор соответствует оси, вдоль которой данные имеют максимальную дисперсию.\n",
    "- **Собственные значения**: Показывают важность компонент. Чем больше значение \\\\( \\lambda_i \\\\), тем больше дисперсии объясняет соответствующая компонента.\n",
    "\n",
    "**Уравнение**:\n",
    "\\\\[\n",
    "\\Sigma \\mathbf{v}_i = \\lambda_i \\mathbf{v}_i,\n",
    "\\\\]\n",
    "где \\\\( \\mathbf{v}_i \\\\) — собственный вектор, \\\\( \\lambda_i \\\\) — собственное значение.\n",
    "\n",
    "---\n",
    "\n",
    "##### 4. Выбор главных компонент\n",
    "- **Сортировка**: Собственные значения упорядочиваются по убыванию: \\\\( \\lambda_1 \\geq \\lambda_2 \\geq \\dots \\geq \\lambda_m \\\\).\n",
    "- **Выбор \\\\( k \\\\) компонент**: Количество \\\\( k \\\\) определяется на основе:\n",
    "  - Желаемой размерности данных,\n",
    "  - Доли объясненной дисперсии:\n",
    "    \\\\[\n",
    "    \\text{Доля} = \\frac{\\sum_{i=1}^k \\lambda_i}{\\sum_{i=1}^m \\lambda_i}.\n",
    "    \\\\]\n",
    "\n",
    "---\n",
    "\n",
    "##### 5. Проекция данных\n",
    "- **Преобразование**: Исходные данные проецируются на выбранные \\\\( k \\\\) главных компонент:\n",
    "  \\\\[\n",
    "  Z = X_{\\text{centered}} \\cdot V_k,\n",
    "  \\\\]\n",
    "  где \\\\( V_k \\\\) — матрица из \\\\( k \\\\) собственных векторов.\n",
    "\n",
    "\n"
   ],
   "id": "5de9572d45c0fa38"
  },
  {
   "metadata": {
    "ExecuteTime": {
     "end_time": "2025-04-21T22:59:06.142510Z",
     "start_time": "2025-04-21T22:59:06.137041Z"
    }
   },
   "cell_type": "code",
   "source": [
    "def pca(X: 'Matrix', k: int = None, threshold: float = 0.93) -> Tuple[Matrix, float, int, Matrix, List[float]]:\n",
    "    \"\"\"\n",
    "    Вход:\n",
    "      X: матрица данных (n×m)\n",
    "      k: число главных компонент\n",
    "    Выход:\n",
    "      X_proj: проекция данных (n×k)\n",
    "      : доля объяснённой дисперсии\n",
    "    \"\"\"\n",
    "    # 0) удаление Nan\n",
    "    X = handle_missing_values(X)\n",
    "    # 1) Центрируем\n",
    "    X_centered = center_data(X)\n",
    "    n, m = X_centered.rows, X_centered.cols\n",
    "\n",
    "    # 2) Ковариационная матрица (m×m)\n",
    "    C = covariance_matrix(X_centered)\n",
    "\n",
    "    # 3) Находим eigenvals, eigenvecs\n",
    "    eigenvals = find_eigenvalues(C, tol=1e-6)\n",
    "    eigenvecs = find_eigenvectors(C, eigenvals)\n",
    "\n",
    "    # 4) Сортируем по убыванию\n",
    "    combined = list(zip(eigenvals, eigenvecs))\n",
    "    combined.sort(key=lambda x: x[0], reverse=True)\n",
    "    sorted_evals = [pair[0] for pair in combined]\n",
    "    sorted_evecs = [pair[1] for pair in combined]\n",
    "\n",
    "    # 5) Если k не задан, выбираем auto_select_k\n",
    "    if k is None:\n",
    "        k = auto_select_k(sorted_evals, threshold)\n",
    "    if k <= 0 or k > m:\n",
    "        raise ValueError(f\"Некорректное k={k} (должно быть 1..{m}).\")\n",
    "\n",
    "    # 6) Формируем матрицу W (m×k), столбцы - первые k eigenvecs\n",
    "    W_data = []\n",
    "    for i in range(m):\n",
    "        row_i = []\n",
    "        for comp_idx in range(k):\n",
    "            row_i.append(sorted_evecs[comp_idx][i, 0])\n",
    "        W_data.append(row_i)\n",
    "    W = Matrix(W_data)  # (m×k)\n",
    "\n",
    "    X_proj = X_centered @ W\n",
    "\n",
    "    # 7) Доля объяснённой дисперсии\n",
    "    gamma = explained_variance_ratio(sorted_evals, k)\n",
    "\n",
    "    means = [sum(X.col(i)) / n for i in range(m)]\n",
    "\n",
    "    return X_proj, gamma, k, W, means"
   ],
   "id": "48f4455b1a823108",
   "outputs": [],
   "execution_count": 14
  },
  {
   "metadata": {},
   "cell_type": "markdown",
   "source": "### Добавить автоматический выбор числа главных компонент",
   "id": "1d12e0e4c3d70637"
  },
  {
   "metadata": {},
   "cell_type": "markdown",
   "source": [
    "$$\n",
    "k = \\min \\left\\{ k : \\frac{\\sum_{i=1}^{k} \\lambda_i}{\\sum_{i=1}^{m} \\lambda_i} \\ge \\text{threshold} \\right\\}\n",
    "$$"
   ],
   "id": "a0c663bbfb124ec1"
  },
  {
   "metadata": {
    "ExecuteTime": {
     "end_time": "2025-04-21T22:59:06.150400Z",
     "start_time": "2025-04-21T22:59:06.147316Z"
    }
   },
   "cell_type": "code",
   "source": [
    "def auto_select_k(eigenvalues: List[float], threshold: float = 0.95) -> int:\n",
    "    \"\"\"\n",
    "    Вход:\n",
    "      eigenvalues: список собственных значений\n",
    "      threshold: порог объяснённой дисперсии\n",
    "    Выход: оптимальное число главных компонент k\n",
    "    \"\"\"\n",
    "    m = len(eigenvalues)\n",
    "    if m == 0:\n",
    "        raise ValueError(\"Список eigenvalues пуст.\")\n",
    "\n",
    "    total = sum(eigenvalues)\n",
    "    if abs(total) < 1e-14:\n",
    "        raise ValueError(\"Сумма собственных значений близка к 0, нельзя разделить\")\n",
    "\n",
    "    cumulative = 0.0\n",
    "    for i, val in enumerate(eigenvalues, start=1):\n",
    "        cumulative += val\n",
    "        ratio = cumulative / total\n",
    "        if ratio >= threshold:\n",
    "            return i\n",
    "\n",
    "    # Если даже все компоненты не достигают порога, то берём k = m\n",
    "    return m"
   ],
   "id": "a80dfc95a5bb3fb9",
   "outputs": [],
   "execution_count": 15
  },
  {
   "metadata": {},
   "cell_type": "markdown",
   "source": "### Обработать пропущенные значения в данных",
   "id": "5c81fe357f135a"
  },
  {
   "metadata": {},
   "cell_type": "markdown",
   "source": [
    "$$\n",
    "X_{\\text{filled}} = \\begin{cases}\n",
    "X_{ij}, & \\text{если } X_{ij} \\neq \\text{NaN} \\\\\\\n",
    "\\text{mean}(X_j), & \\text{иначе}\n",
    "\\end{cases}\n",
    "$$"
   ],
   "id": "498f44296968679e"
  },
  {
   "metadata": {
    "ExecuteTime": {
     "end_time": "2025-04-21T22:59:06.162772Z",
     "start_time": "2025-04-21T22:59:06.159311Z"
    }
   },
   "cell_type": "code",
   "source": [
    "def handle_missing_values(X: 'Matrix') -> 'Matrix':\n",
    "    \"\"\"\n",
    "    Вход: матрица данных X (n×m) с возможными NaN\n",
    "    Выход: матрица данных X_filled (n×m) без NaN\n",
    "    \"\"\"\n",
    "\n",
    "    n, m = X.rows, X.cols\n",
    "\n",
    "    col_means = [0.0] * m\n",
    "    for j in range(m):\n",
    "        count = 0\n",
    "        summ = 0.0\n",
    "        for i in range(n):\n",
    "            val = X[i, j]\n",
    "            if not math.isnan(val):\n",
    "                summ += val\n",
    "                count += 1\n",
    "\n",
    "        if count == 0:\n",
    "            col_means[j] = 0.0\n",
    "        else:\n",
    "            col_means[j] = summ / count\n",
    "\n",
    "    X_filled = X.copy()\n",
    "    for i in range(n):\n",
    "        for j in range(m):\n",
    "            val = X_filled[i, j]\n",
    "            if math.isnan(val):\n",
    "                X_filled.set(i, j, col_means[j])\n",
    "\n",
    "    return X_filled"
   ],
   "id": "410723fb67294619",
   "outputs": [],
   "execution_count": 16
  },
  {
   "metadata": {},
   "cell_type": "markdown",
   "source": "### Визуализировать проекцию данных на первые две главные компоненты.",
   "id": "516127ce35461d0a"
  },
  {
   "metadata": {
    "ExecuteTime": {
     "end_time": "2025-04-21T22:59:06.169321Z",
     "start_time": "2025-04-21T22:59:06.165954Z"
    }
   },
   "cell_type": "code",
   "source": [
    "def plot_pca_projection(X_proj: 'Matrix') -> Figure:\n",
    "    \"\"\"\n",
    "    Вход: проекция данных X_proj (n×2)\n",
    "    Выход: объект Figure из Matplotlib\n",
    "    \"\"\"\n",
    "    if X_proj.cols != 2:\n",
    "        raise ValueError(f\"Матрица X_proj должна быть (n×2), а не (n×{X_proj.cols})\")\n",
    "\n",
    "    n = X_proj.rows\n",
    "\n",
    "    x_vals = [X_proj[i, 0] for i in range(n)]\n",
    "    y_vals = [X_proj[i, 1] for i in range(n)]\n",
    "\n",
    "    fig, ax = plt.subplots(figsize=(6, 6))\n",
    "    ax.scatter(x_vals, y_vals, c='blue', alpha=0.7, edgecolors='none')\n",
    "\n",
    "    ax.set_xlabel(\"PC1\")\n",
    "    ax.set_ylabel(\"PC2\")\n",
    "    ax.set_title(\"Проекция на первые два главных компонента\")\n",
    "\n",
    "    return fig"
   ],
   "id": "4a885740a7384dc0",
   "outputs": [],
   "execution_count": 17
  },
  {
   "metadata": {},
   "cell_type": "markdown",
   "source": "### Вычислить среднеквадратическую ошибку восстановления данных:",
   "id": "15e92f14d251a845"
  },
  {
   "metadata": {},
   "cell_type": "markdown",
   "source": [
    "$$\n",
    "\\text{MSE} = \\frac{1}{n \\cdot m} \\sum_{i,j} (X_{\\text{orig}} - X_{\\text{recon}})^2\n",
    "$$"
   ],
   "id": "3757dd253e6e6aa"
  },
  {
   "metadata": {
    "ExecuteTime": {
     "end_time": "2025-04-21T22:59:06.178637Z",
     "start_time": "2025-04-21T22:59:06.175195Z"
    }
   },
   "cell_type": "code",
   "source": [
    "def reconstruction_error(X_orig: 'Matrix', X_recon: 'Matrix') -> float:\n",
    "    \"\"\"\n",
    "    Вход:\n",
    "      X_orig: исходные данные (n×m)\n",
    "      X_recon: восстановленные данные (n×m)\n",
    "    Выход: среднеквадратическая ошибка MSE\n",
    "    \"\"\"\n",
    "    n, m = X_orig.rows, X_orig.cols\n",
    "\n",
    "    if X_recon.rows != n or X_recon.cols != m:\n",
    "        raise ValueError(f\"Размеры X_recon ({X_recon.rows}×{X_recon.cols}) \"\n",
    "                         f\"не совпадают с X_orig ({n}×{m}).\")\n",
    "\n",
    "    sse = 0.0\n",
    "    for i in range(n):\n",
    "        for j in range(m):\n",
    "            diff = X_orig[i, j] - X_recon[i, j]\n",
    "            sse += diff * diff\n",
    "\n",
    "    mse = sse / (n * m)\n",
    "    return mse"
   ],
   "id": "73b07fc5a32085a6",
   "outputs": [],
   "execution_count": 18
  },
  {
   "metadata": {},
   "cell_type": "markdown",
   "source": "## Тестики\n",
   "id": "87aabd1c1603fca"
  },
  {
   "metadata": {},
   "cell_type": "markdown",
   "source": "### 1. Тест метода Гаусса",
   "id": "27e840fa323f2e81"
  },
  {
   "metadata": {
    "ExecuteTime": {
     "end_time": "2025-04-21T22:59:06.194517Z",
     "start_time": "2025-04-21T22:59:06.189949Z"
    }
   },
   "cell_type": "code",
   "source": [
    "def test_gauss():\n",
    "    \"\"\"Тестирование метода Гаусса для решения СЛАУ \"\"\"\n",
    "\n",
    "    # Тест 1: Система с единственным решением\n",
    "    # 3x + 2y = 8\n",
    "    # x - y = 1\n",
    "    A1 = Matrix([[3, 2], [1, -1]])\n",
    "    b1 = Matrix([[8], [1]])\n",
    "    try:\n",
    "        result = gauss_solver(A1, b1)\n",
    "        x, y = result[0][0, 0], result[0][1, 0]\n",
    "\n",
    "        # Проверка точности решения\n",
    "        assert abs(x - 2.0) < 1e-6, f\"Ожидалось x=2.0, получено {x}\"\n",
    "        assert abs(y - 1.0) < 1e-6, f\"Ожидалось y=1.0, получено {y}\"\n",
    "        print(f\"Тест 1: Решение x={x:.2f}, y={y:.2f} (верно)\")\n",
    "\n",
    "    except Exception as e:\n",
    "        assert False, f\"Тест 1: Неожиданная ошибка — {e}\"\n",
    "\n",
    "    # Тест 2: Несовместная система\n",
    "    # x + y = 3\n",
    "    # 0x + 0y = 5\n",
    "    A2 = Matrix([[1, 1], [0, 0]])\n",
    "    b2 = Matrix([[3], [5]])\n",
    "    try:\n",
    "        gauss_solver(A2, b2)\n",
    "        assert False, \"Тест 2: Ожидалось исключение для несовместной системы\"\n",
    "    except ValueError:\n",
    "        print(\"Тест 2: Система несовместна (верно)\")\n",
    "    except Exception as e:\n",
    "        assert False, f\"Тест 2: Неправильный тип ошибки — {type(e).__name__}\"\n",
    "\n",
    "    # Тест 3: Система с бесконечным числом решений\n",
    "    # 2x + 4y = 6\n",
    "    # x + 2y = 3\n",
    "    A3 = Matrix([[2, 4], [1, 2]])\n",
    "    b3 = Matrix([[6], [3]])\n",
    "    try:\n",
    "        solutions = gauss_solver(A3, b3)\n",
    "        # Проверка базисного решения (например, x = 1, y = 1)\n",
    "        basis = solutions[0]\n",
    "        x, y = basis[0, 0], basis[1, 0]\n",
    "        residual = abs(2 * x + 4 * y - 6)\n",
    "\n",
    "        assert residual < 1e-6, f\"Уравнение не выполняется: 2*{x} + 4*{y} ≠ 6\"\n",
    "        print(f\"Тест 3: Решение удовлетворяет уравнению (x={x:.2f}, y={y:.2f})\")\n",
    "\n",
    "    except Exception as e:\n",
    "        assert False, f\"Тест 3: Ошибка — {e}\"\n",
    "\n",
    "    print(\"\\nВсе тесты пройдены!\")\n",
    "\n"
   ],
   "id": "1719cb2ded1ea116",
   "outputs": [],
   "execution_count": 19
  },
  {
   "metadata": {
    "ExecuteTime": {
     "end_time": "2025-04-21T22:59:06.200945Z",
     "start_time": "2025-04-21T22:59:06.198557Z"
    }
   },
   "cell_type": "code",
   "source": "test_gauss()",
   "id": "cfef606ce9375017",
   "outputs": [
    {
     "name": "stdout",
     "output_type": "stream",
     "text": [
      "Тест 1: Решение x=2.00, y=1.00 (верно)\n",
      "Тест 2: Система несовместна (верно)\n",
      "Тест 3: Решение удовлетворяет уравнению (x=3.00, y=0.00)\n",
      "\n",
      "Все тесты пройдены!\n"
     ]
    }
   ],
   "execution_count": 20
  },
  {
   "metadata": {},
   "cell_type": "markdown",
   "source": "### 2. Тест центрирования данных",
   "id": "f3849e999f6a8791"
  },
  {
   "metadata": {
    "ExecuteTime": {
     "end_time": "2025-04-21T22:59:06.236755Z",
     "start_time": "2025-04-21T22:59:06.233287Z"
    }
   },
   "cell_type": "code",
   "source": [
    "def test_center_data():\n",
    "    \"\"\"Тестирование функции центрирования данных\"\"\"\n",
    "\n",
    "    # Исходные данные (3 объекта, 3 признака)\n",
    "    X = Matrix([\n",
    "        [5.0, 10.0, 15.0],\n",
    "        [2.0, 8.0, 14.0],\n",
    "        [8.0, 12.0, 16.0]\n",
    "    ])\n",
    "\n",
    "    # Центрируем данные\n",
    "    X_centered = center_data(X)\n",
    "\n",
    "    # Проверка: средние столбцов должны быть близки к нулю\n",
    "    for j in range(X.cols):\n",
    "        col = X_centered.col(j)\n",
    "        col_mean = sum(col) / X.rows\n",
    "        print(f\"Столбец {j + 1}: среднее = {col_mean:.2e}\")\n",
    "\n",
    "        # Проверка с допуском 1e-12 для чисел с плавающей точкой\n",
    "        assert abs(col_mean) < 1e-12, (\n",
    "            f\"Столбец {j + 1} не центрирован. \"\n",
    "            f\"Среднее: {col_mean:.2e}\"\n",
    "        )\n",
    "\n",
    "    # Дополнительная проверка: исходные данные не изменены\n",
    "    original_col_means = [\n",
    "        sum(X.col(j)) / X.rows\n",
    "        for j in range(X.cols)\n",
    "    ]\n",
    "    print(\"\\nСреднее исходных данных:\", [f\"{m:.2f}\" for m in original_col_means])\n",
    "\n",
    "    print(\"\\nТест пройден успешно!\")\n",
    "\n"
   ],
   "id": "f22e7001117b34c6",
   "outputs": [],
   "execution_count": 21
  },
  {
   "metadata": {
    "ExecuteTime": {
     "end_time": "2025-04-21T22:59:06.266270Z",
     "start_time": "2025-04-21T22:59:06.263988Z"
    }
   },
   "cell_type": "code",
   "source": "test_center_data()",
   "id": "5e03fdf5b52243de",
   "outputs": [
    {
     "name": "stdout",
     "output_type": "stream",
     "text": [
      "Столбец 1: среднее = 0.00e+00\n",
      "Столбец 2: среднее = 0.00e+00\n",
      "Столбец 3: среднее = 0.00e+00\n",
      "\n",
      "Среднее исходных данных: ['5.00', '10.00', '15.00']\n",
      "\n",
      "Тест пройден успешно!\n"
     ]
    }
   ],
   "execution_count": 22
  },
  {
   "metadata": {},
   "cell_type": "markdown",
   "source": "### 3. Тест Матрицы Ковариаций",
   "id": "14889ad20ec990da"
  },
  {
   "metadata": {
    "ExecuteTime": {
     "end_time": "2025-04-21T22:59:06.294838Z",
     "start_time": "2025-04-21T22:59:06.290786Z"
    }
   },
   "cell_type": "code",
   "source": [
    "def test_covariance_matrix():\n",
    "    \"\"\"Тестирование вычисления ковариационной матрицы\"\"\"\n",
    "\n",
    "    # Исходные центрированные данные (3 объекта, 3 признака)\n",
    "    X_centered = Matrix([\n",
    "        [2.0, -2.0, 3.0],\n",
    "        [-1.0, 0.0, 1.0],\n",
    "        [0.0, 1.0, -2.0]\n",
    "    ])\n",
    "\n",
    "    # Сохраняем копию для проверки иммутабельности\n",
    "    X_original = X_centered.copy()\n",
    "\n",
    "    # Вычисляем ковариационную матрицу\n",
    "    C = covariance_matrix(X_centered)\n",
    "\n",
    "    # Ожидаемая ковариационная матрица\n",
    "    expected_data = [\n",
    "        [2.5, -2.0, 2.5],\n",
    "        [-2.0, 2.5, -4.0],\n",
    "        [2.5, -4.0, 7.0]\n",
    "    ]\n",
    "    expected = Matrix(expected_data)\n",
    "\n",
    "    # Проверка соответствия элементов\n",
    "    for i in range(C.rows):\n",
    "        for j in range(C.cols):\n",
    "            actual = C[i, j]\n",
    "            target = expected[i, j]\n",
    "            diff = abs(actual - target)\n",
    "\n",
    "            print(f\"C[{i},{j}]: получено {actual:.2f}, ожидалось {target:.2f}, разница {diff:.2e}\")\n",
    "\n",
    "            assert diff < 1e-6, (\n",
    "                f\"Несоответствие в элементе ({i},{j}). \"\n",
    "                f\"Ожидалось: {target:.4f}, Получено: {actual:.4f}\"\n",
    "            )\n",
    "\n",
    "    print(\"\\nТест пройден. Все элементы совпадают с ожидаемыми значениями.\")\n",
    "\n"
   ],
   "id": "2c435ca806efe740",
   "outputs": [],
   "execution_count": 23
  },
  {
   "metadata": {
    "ExecuteTime": {
     "end_time": "2025-04-21T22:59:06.319054Z",
     "start_time": "2025-04-21T22:59:06.316906Z"
    }
   },
   "cell_type": "code",
   "source": "test_covariance_matrix()",
   "id": "f17d8e3b96ca4a6",
   "outputs": [
    {
     "name": "stdout",
     "output_type": "stream",
     "text": [
      "C[0,0]: получено 2.50, ожидалось 2.50, разница 0.00e+00\n",
      "C[0,1]: получено -2.00, ожидалось -2.00, разница 0.00e+00\n",
      "C[0,2]: получено 2.50, ожидалось 2.50, разница 0.00e+00\n",
      "C[1,0]: получено -2.00, ожидалось -2.00, разница 0.00e+00\n",
      "C[1,1]: получено 2.50, ожидалось 2.50, разница 0.00e+00\n",
      "C[1,2]: получено -4.00, ожидалось -4.00, разница 0.00e+00\n",
      "C[2,0]: получено 2.50, ожидалось 2.50, разница 0.00e+00\n",
      "C[2,1]: получено -4.00, ожидалось -4.00, разница 0.00e+00\n",
      "C[2,2]: получено 7.00, ожидалось 7.00, разница 0.00e+00\n",
      "\n",
      "Тест пройден. Все элементы совпадают с ожидаемыми значениями.\n"
     ]
    }
   ],
   "execution_count": 24
  },
  {
   "metadata": {},
   "cell_type": "markdown",
   "source": "### 4. Тест поиска собственных значений и векторов",
   "id": "310b5da9663b6f53"
  },
  {
   "metadata": {
    "ExecuteTime": {
     "end_time": "2025-04-21T22:59:06.352898Z",
     "start_time": "2025-04-21T22:59:06.347842Z"
    }
   },
   "cell_type": "code",
   "source": [
    "def test_find():\n",
    "    \"\"\"Тестирование поиска собственных значений и векторов с новыми данными\"\"\"\n",
    "\n",
    "    # Тест 1: Симметричная матрица 2×2 с известными значениями\n",
    "    # Матрица: [[5, 2], [2, 5]]\n",
    "    # Собственные значения: 3 и 7\n",
    "    C1 = Matrix([[5.0, 2.0],\n",
    "                 [2.0, 5.0]])\n",
    "    expected1 = [3.0, 7.0]\n",
    "    result1 = find_eigenvalues(C1, tol=1e-6)\n",
    "    result1_sorted = sorted(result1)\n",
    "    print(f\"Тест 1: Найденные значения = {result1_sorted} | Ожидалось = {expected1}\")\n",
    "    assert len(result1_sorted) == 2, \"Ожидалось 2 собственных значения\"\n",
    "    for i in range(2):\n",
    "        assert abs(result1_sorted[i] - expected1[i]) < 1e-6, f\"Ошибка в λ_{i + 1}\"\n",
    "\n",
    "    # Тест 2: Диагональная матрица 2×2\n",
    "    # Матрица: [[4, 0], [0, 6]]\n",
    "    # Собственные значения: 4 и 6\n",
    "    C2 = Matrix([[4.0, 0.0],\n",
    "                 [0.0, 6.0]])\n",
    "    expected2 = [4.0, 6.0]\n",
    "    result2 = find_eigenvalues(C2, tol=1e-6)\n",
    "    result2_sorted = sorted(result2)\n",
    "    print(f\"Тест 2: Найденные значения = {result2_sorted} | Ожидалось = {expected2}\")\n",
    "    assert len(result2_sorted) == 2, \"Ожидалось 2 собственных значения\"\n",
    "    for i in range(2):\n",
    "        assert abs(result2_sorted[i] - expected2[i]) < 1e-6, f\"Ошибка в λ_{i + 1}\"\n",
    "\n",
    "    # Тест 4: Проверка собственных векторов\n",
    "    # Матрица: [[4, 1], [1, 3]]\n",
    "    # Собственные значения: 2.0 и 5.0\n",
    "    C4 = Matrix([[4.0, 1.0],\n",
    "                 [1.0, 3.0]])\n",
    "    eigenvals_4 = find_eigenvalues(C4, tol=1e-6)\n",
    "    eigenvecs_4 = find_eigenvectors(C4, eigenvals_4)\n",
    "    print(f\"Тест 3: Собственные значения = {sorted(eigenvals_4)}\")\n",
    "\n",
    "    # Проверка C * v ≈ λ * v\n",
    "    for i, (lam, vec) in enumerate(zip(eigenvals_4, eigenvecs_4)):\n",
    "        Cv = C4 @ vec\n",
    "        lam_v = vec * lam\n",
    "        for row in range(vec.rows):\n",
    "            diff = abs(Cv[row, 0] - lam_v[row, 0])\n",
    "            assert diff < 1e-4, f\"Тест 3: Ошибка в векторе {i + 1}, строка {row} (Δ={diff:.2e})\"\n",
    "\n",
    "    print(\"\\nВсе тесты пройдены!\")\n"
   ],
   "id": "cae8058960fd87cf",
   "outputs": [],
   "execution_count": 25
  },
  {
   "metadata": {
    "ExecuteTime": {
     "end_time": "2025-04-21T22:59:06.416043Z",
     "start_time": "2025-04-21T22:59:06.372211Z"
    }
   },
   "cell_type": "code",
   "source": "test_find()",
   "id": "1d1f13592ecc064d",
   "outputs": [
    {
     "name": "stdout",
     "output_type": "stream",
     "text": [
      "Тест 1: Найденные значения = [2.9999999765625, 7.000000000000446] | Ожидалось = [3.0, 7.0]\n",
      "Тест 2: Найденные значения = [3.9999999765624996, 6.000000000000334] | Ожидалось = [4.0, 6.0]\n",
      "Тест 3: Собственные значения = [2.3819667734374583, 4.618033179687487]\n",
      "\n",
      "Все тесты пройдены!\n"
     ]
    }
   ],
   "execution_count": 26
  },
  {
   "metadata": {},
   "cell_type": "markdown",
   "source": "### 5. Тестирование доли объяснённой дисперсии",
   "id": "dc1380ba4c7119ed"
  },
  {
   "metadata": {
    "ExecuteTime": {
     "end_time": "2025-04-21T22:59:06.439393Z",
     "start_time": "2025-04-21T22:59:06.433755Z"
    }
   },
   "cell_type": "code",
   "source": [
    "def test_explained_variance_ratio():\n",
    "    \"\"\"Тестирование вычисления доли объясненной дисперсии\"\"\"\n",
    "\n",
    "    # ----------------------------\n",
    "    # Тест 1: Базовый случай (k=1)\n",
    "    # Собственные значения: [2, 1]\n",
    "    # Общая сумма: 3. Доля для k=1: 2/3 ≈ 0.666666...\n",
    "    # ----------------------------\n",
    "    ev1 = [2.0, 1.0]\n",
    "    ratio1 = explained_variance_ratio(ev1, 1)\n",
    "    expected1 = 2.0 / 3.0\n",
    "    print(f\"Тест 1: ev={ev1}, k=1 | Получено: {ratio1:.4f}, Ожидалось: {expected1:.4f}\")\n",
    "    assert abs(ratio1 - expected1) < 1e-9, \"Ошибка в базовом расчете\"\n",
    "\n",
    "    # ----------------------------\n",
    "    # Тест 2: k равно количеству компонент\n",
    "    # Должно возвращать 1.0 (100%)\n",
    "    # ----------------------------\n",
    "    ratio2 = explained_variance_ratio(ev1, 2)\n",
    "    print(f\"Тест 2: ev={ev1}, k=2 | Получено: {ratio2:.4f}, Ожидалось: 1.0\")\n",
    "    assert abs(ratio2 - 1.0) < 1e-9, \"Неверная доля при k = m\"\n",
    "\n",
    "    # ----------------------------\n",
    "    # Тест 3: Неупорядоченные значения\n",
    "    # Собственные значения: [3, 5] → сумма 8\n",
    "    # Доля для k=1: 5/8 = 0.625\n",
    "    # ----------------------------\n",
    "    ev2 = [3.0, 5.0]\n",
    "    ratio3 = explained_variance_ratio(ev2, 1)\n",
    "    expected3 = 5.0 / 8.0\n",
    "    print(f\"Тест 3: ev={ev2}, k=1 | Получено: {ratio3:.4f}, Ожидалось: {expected3:.4f}\")\n",
    "    assert abs(ratio3 - expected3) < 1e-9, \"Ошибка при неупорядоченных значениях\"\n",
    "\n",
    "    # ----------------------------\n",
    "    # Тест 4: Дробные значения и k=2\n",
    "    # Собственные значения: [1, 4, 2] → сумма 7\n",
    "    # Доля для k=2: (4+2)/7 ≈ 0.857142...\n",
    "    # ----------------------------\n",
    "    ev3 = [1.0, 4.0, 2.0]\n",
    "    ratio4 = explained_variance_ratio(ev3, 2)\n",
    "    expected4 = (4.0 + 2.0) / 7.0\n",
    "    print(f\"Тест 4: ev={ev3}, k=2 | Получено: {ratio4:.4f}, Ожидалось: {expected4:.4f}\")\n",
    "    assert abs(ratio4 - expected4) < 1e-9, \"Ошибка с дробными значениями\"\n",
    "\n",
    "    # ----------------------------\n",
    "    # Тест 5: Нулевая сумма собственных значений\n",
    "    # Должно вызывать ValueError\n",
    "    # ----------------------------\n",
    "    ev_zero = [0.0, 0.0]\n",
    "    try:\n",
    "        explained_variance_ratio(ev_zero, 1)\n",
    "        assert False, \"Ожидалось исключение для нулевой суммы\"\n",
    "    except ValueError as e:\n",
    "        print(f\"Тест 5: Ошибка  — {str(e)}\")\n",
    "\n",
    "    # ----------------------------\n",
    "    # Тест 6: Некорректный k (k > m)\n",
    "    # ----------------------------\n",
    "    try:\n",
    "        explained_variance_ratio([1.0, 2.0, 3.0], 4)\n",
    "        assert False, \"Ожидалось исключение для k > m\"\n",
    "    except ValueError as e:\n",
    "        print(f\"Тест 6: Ошибка  — {str(e)}\")\n",
    "\n",
    "    # ----------------------------\n",
    "    # Тест 7: Некорректный k (k <= 0)\n",
    "    # ----------------------------\n",
    "    try:\n",
    "        explained_variance_ratio([1.0, 2.0, 3.0], 0)\n",
    "        assert False, \"Ожидалось исключение для k <= 0\"\n",
    "    except ValueError as e:\n",
    "        print(f\"Тест 7: Ошибка  — {str(e)}\")\n",
    "\n",
    "    print(\"\\nВсе тесты пройдены!\")\n",
    "\n"
   ],
   "id": "f88318062967d717",
   "outputs": [],
   "execution_count": 27
  },
  {
   "metadata": {
    "ExecuteTime": {
     "end_time": "2025-04-21T22:59:06.447114Z",
     "start_time": "2025-04-21T22:59:06.445159Z"
    }
   },
   "cell_type": "code",
   "source": "test_explained_variance_ratio()",
   "id": "3ed3da030fd36f67",
   "outputs": [
    {
     "name": "stdout",
     "output_type": "stream",
     "text": [
      "Тест 1: ev=[2.0, 1.0], k=1 | Получено: 0.6667, Ожидалось: 0.6667\n",
      "Тест 2: ev=[2.0, 1.0], k=2 | Получено: 1.0000, Ожидалось: 1.0\n",
      "Тест 3: ev=[3.0, 5.0], k=1 | Получено: 0.6250, Ожидалось: 0.6250\n",
      "Тест 4: ev=[1.0, 4.0, 2.0], k=2 | Получено: 0.8571, Ожидалось: 0.8571\n",
      "Тест 5: Ошибка  — Сумма собственных значений равна нулю (невозможно разделить)\n",
      "Тест 6: Ошибка  — Некорректное k=4 для списка из 3 собственных значений\n",
      "Тест 7: Ошибка  — Некорректное k=0 для списка из 3 собственных значений\n",
      "\n",
      "Все тесты пройдены!\n"
     ]
    }
   ],
   "execution_count": 28
  },
  {
   "metadata": {},
   "cell_type": "markdown",
   "source": "### 6.  Тестирование вычисления MSE",
   "id": "96c427dff649932e"
  },
  {
   "metadata": {
    "ExecuteTime": {
     "end_time": "2025-04-21T22:59:06.489692Z",
     "start_time": "2025-04-21T22:59:06.485834Z"
    }
   },
   "cell_type": "code",
   "source": [
    "def test_reconstruction_error():\n",
    "    \"\"\"Тестирование расчета ошибки восстановления (MSE) между матрицами\"\"\"\n",
    "\n",
    "    # ----------------------------\n",
    "    # Тест 1: Базовый расчет MSE\n",
    "    # Оригинальные данные  Восстановленные данные\n",
    "    # [2.0, 1.0]           [1.8, 0.9]\n",
    "    # [3.0, 1.5]           [2.5, 1.4]\n",
    "    # Ожидаемая MSE: 0.0775\n",
    "    # ----------------------------\n",
    "    X_orig = Matrix([[2.0, 1.0], [3.0, 1.5]])\n",
    "    X_recon = Matrix([[1.8, 0.9], [2.5, 1.4]])\n",
    "\n",
    "    expected_mse = 0.0775\n",
    "    mse = reconstruction_error(X_orig, X_recon)\n",
    "\n",
    "    print(f\"Тест 1: Рассчитанная MSE = {mse:.4f} | Ожидалось = {expected_mse:.4f}\")\n",
    "    assert abs(mse - expected_mse) < 1e-8, \"Ошибка в базовом расчете MSE\"\n",
    "\n",
    "    # ----------------------------\n",
    "    # Тест 2: Идеальное восстановление\n",
    "    # MSE должно быть равно 0\n",
    "    # ----------------------------\n",
    "    X_copy = X_orig.copy()\n",
    "    mse_zero = reconstruction_error(X_orig, X_copy)\n",
    "    print(f\"Тест 2: MSE при идентичных матрицах = {mse_zero:.2f}\")\n",
    "    assert mse_zero == 0.0, \"MSE не равно 0 для идентичных матриц\"\n",
    "\n",
    "    # ----------------------------\n",
    "    # Тест 3: Матрицы разного размера\n",
    "    # Должно вызывать ValueError\n",
    "    # ----------------------------\n",
    "    X_wrong_size = Matrix([[1.0, 2.0]])\n",
    "    try:\n",
    "        reconstruction_error(X_orig, X_wrong_size)\n",
    "        assert False, \"Ожидалось исключение для разных размеров матриц\"\n",
    "    except ValueError as e:\n",
    "        print(f\"Тест 3: Ошибка поймана — {str(e)}\")\n",
    "\n",
    "    # ----------------------------\n",
    "    # Тест 4: Отрицательные значения\n",
    "    # Проверка корректности расчета с отрицательными числами\n",
    "    # Оригинал: [-1.0, 2.0] -> Восстановлено: [-0.5, 1.5]\n",
    "    # MSE = ((-0.5)^2 + (0.5)^2)/2 = (0.25 + 0.25)/2 = 0.25\n",
    "    # ----------------------------\n",
    "    X_neg = Matrix([[-1.0, 2.0]])\n",
    "    X_neg_recon = Matrix([[-0.5, 1.5]])\n",
    "    mse_neg = reconstruction_error(X_neg, X_neg_recon)\n",
    "    expected_neg_mse = 0.25\n",
    "\n",
    "    print(f\"Тест 4: MSE с отрицательными значениями = {mse_neg:.2f} | Ожидалось = {expected_neg_mse:.2f}\")\n",
    "    assert abs(mse_neg - expected_neg_mse) < 1e-8, \"Ошибка при работе с отрицательными числами\"\n",
    "\n",
    "    print(\"\\nВсе тесты пройдены!\")\n",
    "\n"
   ],
   "id": "b6da8641ec0ed6d0",
   "outputs": [],
   "execution_count": 29
  },
  {
   "metadata": {
    "ExecuteTime": {
     "end_time": "2025-04-21T22:59:06.499494Z",
     "start_time": "2025-04-21T22:59:06.497088Z"
    }
   },
   "cell_type": "code",
   "source": "test_reconstruction_error()",
   "id": "20c0f55f175346b",
   "outputs": [
    {
     "name": "stdout",
     "output_type": "stream",
     "text": [
      "Тест 1: Рассчитанная MSE = 0.0775 | Ожидалось = 0.0775\n",
      "Тест 2: MSE при идентичных матрицах = 0.00\n",
      "Тест 3: Ошибка поймана — Размеры X_recon (1×2) не совпадают с X_orig (2×2).\n",
      "Тест 4: MSE с отрицательными значениями = 0.25 | Ожидалось = 0.25\n",
      "\n",
      "Все тесты пройдены!\n"
     ]
    }
   ],
   "execution_count": 30
  },
  {
   "metadata": {},
   "cell_type": "markdown",
   "source": "### 7.  Тестирование авто выбора главных компонент",
   "id": "27e5c588d84682df"
  },
  {
   "metadata": {
    "ExecuteTime": {
     "end_time": "2025-04-21T22:59:06.519051Z",
     "start_time": "2025-04-21T22:59:06.515133Z"
    }
   },
   "cell_type": "code",
   "source": [
    "def test_auto_select_k():\n",
    "    \"\"\"Тестирование автоматического выбора числа компонент k\"\"\"\n",
    "\n",
    "    # ----------------------------\n",
    "    # Тест 1: Базовый случай\n",
    "    # Собственные значения: [8.0, 4.0, 2.0, 1.0], сумма = 15\n",
    "    # Накопленная дисперсия: 8/15≈0.533, 12/15=0.8, 14/15≈0.933, 15/15=1.0\n",
    "    # ----------------------------\n",
    "    ev1 = [8.0, 4.0, 2.0, 1.0]\n",
    "    print(f\"Тест 1: eigenvalues = {ev1}\")\n",
    "\n",
    "    # Порог 0.85: первое k, где накопленная дисперсия >= 0.85 → k=3 (0.933)\n",
    "    k1 = auto_select_k(ev1, threshold=0.85)\n",
    "    print(f\"Тест 1: threshold=0.85 | Получено k={k1}, Ожидалось k=3\")\n",
    "    assert k1 == 3, f\"Ошибка: ожидалось k=3\"\n",
    "\n",
    "    # ----------------------------\n",
    "    # Тест 2: Порог ниже первой компоненты\n",
    "    # Порог 0.7 → k=2 (0.8 >= 0.7)\n",
    "    # ----------------------------\n",
    "    k2 = auto_select_k(ev1, threshold=0.7)\n",
    "    print(f\"Тест 2: threshold=0.7 | Получено k={k2}, Ожидалось k=2\")\n",
    "    assert k2 == 2, f\"Ошибка: ожидалось k=2\"\n",
    "\n",
    "    # ----------------------------\n",
    "    # Тест 3: Порог выше предпоследней компоненты\n",
    "    # Порог 0.95 → k=4 (0.933 < 0.95 → берем все)\n",
    "    # ----------------------------\n",
    "    k3 = auto_select_k(ev1, threshold=0.95)\n",
    "    print(f\"Тест 3: threshold=0.95 | Получено k={k3}, Ожидалось k=4\")\n",
    "    assert k3 == 4, f\"Ошибка: ожидалось k=4\"\n",
    "\n",
    "    # ----------------------------\n",
    "    # Тест 4: Пустой список\n",
    "    # Должен вызывать ValueError\n",
    "    # ----------------------------\n",
    "    try:\n",
    "        auto_select_k([], 0.9)\n",
    "        assert False, \"Ожидалось исключение для пустого списка\"\n",
    "    except ValueError as e:\n",
    "        print(f\"Тест 4: Ошибка поймана — {str(e)}\")\n",
    "\n",
    "    print(\"\\nВсе тесты пройдены!\")\n",
    "\n"
   ],
   "id": "40e4565e4eb2e4",
   "outputs": [],
   "execution_count": 31
  },
  {
   "metadata": {
    "ExecuteTime": {
     "end_time": "2025-04-21T22:59:06.538346Z",
     "start_time": "2025-04-21T22:59:06.536209Z"
    }
   },
   "cell_type": "code",
   "source": "test_auto_select_k()",
   "id": "f0a981b805056a37",
   "outputs": [
    {
     "name": "stdout",
     "output_type": "stream",
     "text": [
      "Тест 1: eigenvalues = [8.0, 4.0, 2.0, 1.0]\n",
      "Тест 1: threshold=0.85 | Получено k=3, Ожидалось k=3\n",
      "Тест 2: threshold=0.7 | Получено k=2, Ожидалось k=2\n",
      "Тест 3: threshold=0.95 | Получено k=4, Ожидалось k=4\n",
      "Тест 4: Ошибка поймана — Список eigenvalues пуст.\n",
      "\n",
      "Все тесты пройдены!\n"
     ]
    }
   ],
   "execution_count": 32
  },
  {
   "metadata": {},
   "cell_type": "markdown",
   "source": "### 8. Тестирование авто выбора k в PCA",
   "id": "3d99d744e84451ec"
  },
  {
   "metadata": {
    "ExecuteTime": {
     "end_time": "2025-04-21T22:59:06.563955Z",
     "start_time": "2025-04-21T22:59:06.559846Z"
    }
   },
   "cell_type": "code",
   "source": [
    "def test_pca_auto_k():\n",
    "    \"\"\"Тестирование PCA с автоматическим выбором числа компонент (k)\"\"\"\n",
    "\n",
    "    # Новые данные: 4 объекта × 3 признака (пример с более выраженной дисперсией)\n",
    "    X_data = [\n",
    "        [5.0, 2.0, 1.0],\n",
    "        [4.5, 3.2, 0.8],\n",
    "        [6.0, 5.0, 2.0],\n",
    "        [5.2, 4.5, 1.5]\n",
    "    ]\n",
    "    X_test = Matrix(X_data)\n",
    "\n",
    "    # Вызов PCA с автоматическим выбором k (порог = 0.9)\n",
    "    X_proj, gamma, k_used, W, means = pca(X_test, k=None, threshold=0.9)\n",
    "\n",
    "    print(f\"Автоматически выбрано k = {k_used}\")\n",
    "    print(f\"Объясненная дисперсия: {gamma:.4f}\")\n",
    "\n",
    "    # Проверки\n",
    "    # 1. k_used в допустимом диапазоне\n",
    "    assert 1 <= k_used <= 3, f\"Некорректное k: {k_used}\"\n",
    "\n",
    "    # 2. Размерность проекции\n",
    "    assert X_proj.rows == 4 and X_proj.cols == k_used, \\\n",
    "        f\"Ожидался размер (4×{k_used}), получено ({X_proj.rows}×{X_proj.cols})\"\n",
    "\n",
    "    # 3. Проверка матрицы весов\n",
    "    assert W.rows == 3 and W.cols == k_used, \\\n",
    "        f\"Ожидалась матрица весов (3×{k_used}), получено ({W.rows}×{W.cols})\"\n",
    "\n",
    "    # 4. Проверка центрирования (необязательно, если центрирование внутри PCA)\n",
    "    # Для примера: проверим, что means вычислены корректно\n",
    "    expected_means = [\n",
    "        sum(X_test.col(j)) / 4 for j in range(3)\n",
    "    ]\n",
    "    for j in range(3):\n",
    "        assert abs(means[j] - expected_means[j]) < 1e-6, \\\n",
    "            f\"Ошибка в средних значениях для признака {j}\"\n",
    "\n",
    "    print(\"\\nТест пройден!\")\n",
    "\n"
   ],
   "id": "b604503f7e34e300",
   "outputs": [],
   "execution_count": 33
  },
  {
   "metadata": {
    "ExecuteTime": {
     "end_time": "2025-04-21T22:59:06.612223Z",
     "start_time": "2025-04-21T22:59:06.579043Z"
    }
   },
   "cell_type": "code",
   "source": "test_pca_auto_k()",
   "id": "58518070ff9f00a6",
   "outputs": [
    {
     "name": "stdout",
     "output_type": "stream",
     "text": [
      "Автоматически выбрано k = 1\n",
      "Объясненная дисперсия: 0.9048\n",
      "\n",
      "Тест пройден!\n"
     ]
    }
   ],
   "execution_count": 34
  },
  {
   "metadata": {},
   "cell_type": "markdown",
   "source": "### 9. Тестирование обработки пропущенных значений",
   "id": "6ba1dc1651bfd32b"
  },
  {
   "metadata": {
    "ExecuteTime": {
     "end_time": "2025-04-21T22:59:06.632329Z",
     "start_time": "2025-04-21T22:59:06.628396Z"
    }
   },
   "cell_type": "code",
   "source": [
    "def test_handle_missing_values():\n",
    "    # Тест: 3×3 с несколькими NaN и новыми значениями\n",
    "    data = [\n",
    "        [4.0, float('nan'), 8.0],\n",
    "        [float('nan'), 5.0, 9.0],\n",
    "        [6.0, 7.0, float('nan')]\n",
    "    ]\n",
    "\n",
    "    # Ожидаемые средние по столбцам (игнорируя NaN):\n",
    "    # Столбец 0: (4.0 + 6.0)/2 = 5.0\n",
    "    # Столбец 1: (5.0 + 7.0)/2 = 6.0\n",
    "    # Столбец 2: (8.0 + 9.0)/2 = 8.5\n",
    "\n",
    "    # Ожидаемая матрица после замены NaN:\n",
    "    expected = [\n",
    "        [4.0, 6.0, 8.0],\n",
    "        [5.0, 5.0, 9.0],\n",
    "        [6.0, 7.0, 8.5]\n",
    "    ]\n",
    "\n",
    "    print(\"Исходные данные:\")\n",
    "    for row in data:\n",
    "        print([f\"{x:.1f}\" if not isinstance(x, str) else x for x in row])\n",
    "\n",
    "    X = Matrix(data)\n",
    "    X_filled = handle_missing_values(X)\n",
    "\n",
    "    print(\"\\n\" + \"-\" * 30)\n",
    "    print(\"Заполненные данные:\")\n",
    "    for i in range(X_filled.rows):\n",
    "        print([f\"{X_filled[i, j]:.1f}\" for j in range(X_filled.cols)])\n",
    "\n",
    "    # Проверка соответствия\n",
    "    for i in range(3):\n",
    "        for j in range(3):\n",
    "            assert abs(X_filled[i, j] - expected[i][j]) < 1e-12, (\n",
    "                f\"Ошибка в позиции ({i}, {j}): \"\n",
    "                f\"Получено {X_filled[i, j]:.2f}, Ожидалось {expected[i][j]:.2f}\"\n",
    "            )\n",
    "\n",
    "    print(\"\\nТест пройден успешно!\")\n"
   ],
   "id": "6344f59d26473ad6",
   "outputs": [],
   "execution_count": 35
  },
  {
   "metadata": {
    "ExecuteTime": {
     "end_time": "2025-04-21T22:59:06.642620Z",
     "start_time": "2025-04-21T22:59:06.640295Z"
    }
   },
   "cell_type": "code",
   "source": "test_handle_missing_values()",
   "id": "2bd54331c3963ea1",
   "outputs": [
    {
     "name": "stdout",
     "output_type": "stream",
     "text": [
      "Исходные данные:\n",
      "['4.0', 'nan', '8.0']\n",
      "['nan', '5.0', '9.0']\n",
      "['6.0', '7.0', 'nan']\n",
      "\n",
      "------------------------------\n",
      "Заполненные данные:\n",
      "['4.0', '6.0', '8.0']\n",
      "['5.0', '5.0', '9.0']\n",
      "['6.0', '7.0', '8.5']\n",
      "\n",
      "Тест пройден успешно!\n"
     ]
    }
   ],
   "execution_count": 36
  },
  {
   "metadata": {},
   "cell_type": "markdown",
   "source": "### 10. Тестирование визуализации",
   "id": "4923d70c550f1d9b"
  },
  {
   "metadata": {
    "ExecuteTime": {
     "end_time": "2025-04-21T22:59:06.657754Z",
     "start_time": "2025-04-21T22:59:06.655088Z"
    }
   },
   "cell_type": "code",
   "source": [
    "X_proj_data = [\n",
    "    [-1.2, 0.8],\n",
    "    [-0.8, 1.0],\n",
    "    [-1.5, 0.5],\n",
    "    [-0.5, 1.2],\n",
    "    [-1.0, 0.9]]\n",
    "\n",
    "X_proj = Matrix(X_proj_data)"
   ],
   "id": "e457eababe04826a",
   "outputs": [],
   "execution_count": 37
  },
  {
   "metadata": {
    "ExecuteTime": {
     "end_time": "2025-04-21T22:59:06.730971Z",
     "start_time": "2025-04-21T22:59:06.671285Z"
    }
   },
   "cell_type": "code",
   "source": [
    "fig = plot_pca_projection(X_proj)\n",
    "plt.show()"
   ],
   "id": "6367c28dd506b4a3",
   "outputs": [
    {
     "data": {
      "text/plain": [
       "<Figure size 600x600 with 1 Axes>"
      ],
      "image/png": "[encoded data removed]"
     },
     "metadata": {},
     "output_type": "display_data"
    }
   ],
   "execution_count": 38
  },
  {
   "metadata": {},
   "cell_type": "markdown",
   "source": "## 2.3.2 PCA",
   "id": "f4e5294c38c12e85"
  },
  {
   "metadata": {
    "ExecuteTime": {
     "end_time": "2025-04-21T22:59:06.753487Z",
     "start_time": "2025-04-21T22:59:06.749459Z"
    }
   },
   "cell_type": "code",
   "source": [
    "def add_noise_and_compare(X: 'Matrix', noise_level: float = 0.1) -> None:\n",
    "    \"\"\"\n",
    "    Вход:\n",
    "      X: матрица данных (n×m)\n",
    "      noise_level: уровень шума (доля от стандартного отклонения)\n",
    "    Выход: результаты PCA до и после добавления шума.\n",
    "    В этом задании можете проявить творческие способности, поэтому выходные данные не типизированы\n",
    "    \"\"\"\n",
    "    n, m = X.rows, X.cols\n",
    "\n",
    "    # 1) Считаем PCA на исходных данных\n",
    "    X_proj_original, gamma_original, k_used_original, W, means = pca(X)\n",
    "\n",
    "    print(f\"[До шума ] k={k_used_original}, Дисперсия={gamma_original:.4f}\")\n",
    "\n",
    "    #   2) Добавляем шум\n",
    "    #   Для каждого столбца j найдём std_j (ст. откл.),\n",
    "    #   шум ~ N(0, std_j * noise_level)\n",
    "    means = [0.0] * m\n",
    "    for j in range(m):\n",
    "        col_sum = 0.0\n",
    "        for i in range(n):\n",
    "            col_sum += X[i, j]\n",
    "        means[j] = col_sum / n\n",
    "\n",
    "    stdevs = [0.0] * m\n",
    "    for j in range(m):\n",
    "        var_sum = 0.0\n",
    "        for i in range(n):\n",
    "            diff = X[i, j] - means[j]\n",
    "            var_sum += diff * diff\n",
    "        stdev = math.sqrt(var_sum / (n - 1)) if n > 1 else 0.0\n",
    "        stdevs[j] = stdev\n",
    "\n",
    "    X_noisy = X.copy()\n",
    "    for i in range(n):\n",
    "        for j in range(m):\n",
    "            noise = random.gauss(0.0, stdevs[j] * noise_level)\n",
    "            old_val = X_noisy[i, j]\n",
    "            X_noisy.set(i, j, old_val + noise)\n",
    "\n",
    "    # 3) Считаем PCA на зашумлённых данных\n",
    "    X_proj_noisy, gamma_noisy, k_used_noisy, W, means = pca(X_noisy)\n",
    "\n",
    "    print(f\"[После добавки шума ] k={k_used_noisy}, Дисперсия={gamma_noisy:.4f}\")\n",
    "\n",
    "    diff_expl = gamma_noisy - gamma_original\n",
    "    print(f\"Разница в Дисперсиях: {diff_expl:.4f}\")\n"
   ],
   "id": "42eb2bd7d22a6576",
   "outputs": [],
   "execution_count": 39
  },
  {
   "metadata": {
    "ExecuteTime": {
     "end_time": "2025-04-21T22:59:06.761203Z",
     "start_time": "2025-04-21T22:59:06.758523Z"
    }
   },
   "cell_type": "code",
   "source": [
    "X_test = Matrix([\n",
    "    [1.0, 2.0, 3.0],\n",
    "    [1.5, 2.2, 2.9],\n",
    "    [2.0, 2.5, 3.2],\n",
    "    [0.9, 1.8, 2.8],\n",
    "    [1.2, 2.3, 3.1],\n",
    "    [1.8, 2.1, 3.0],\n",
    "    [4.0, 5.0, 6.0],\n",
    "    [4.1, 5.2, 5.8],\n",
    "    [4.2, 5.2, 5.9],\n",
    "    [3.9, 4.8, 5.7],\n",
    "    [4.3, 5.5, 6.1],\n",
    "    [3.8, 5.1, 6.0],\n",
    "    [7.2, 8.2, 8.9],\n",
    "    [7.5, 8.1, 8.7],\n",
    "    [7.8, 8.3, 8.8],\n",
    "    [7.9, 8.2, 8.5],\n",
    "    [7.4, 8.0, 8.6],\n",
    "    [7.6, 8.4, 8.9],\n",
    "    [10.1, 11.2, 12.3],\n",
    "    [10.5, 11.0, 12.1],\n",
    "    [9.9, 11.5, 12.4],\n",
    "    [10.2, 11.3, 12.0],\n",
    "    [10.0, 11.1, 12.2],\n",
    "    [2.5, 3.5, 4.5],\n",
    "    [2.6, 3.4, 4.6],\n",
    "    [2.7, 3.6, 4.4],\n",
    "    [2.4, 3.3, 4.7],\n",
    "    [5.0, 2.0, 15.0],\n",
    "    [0.5, 8.5, 4.0],\n",
    "    [6.6, 6.6, 6.6],\n",
    "    [9.0, 1.0, 7.0]\n",
    "])\n"
   ],
   "id": "a8e0389d87937a4",
   "outputs": [],
   "execution_count": 40
  },
  {
   "metadata": {
    "ExecuteTime": {
     "end_time": "2025-04-21T22:59:07.335950Z",
     "start_time": "2025-04-21T22:59:06.766079Z"
    }
   },
   "cell_type": "code",
   "source": "add_noise_and_compare(X_test, noise_level=0.2)",
   "id": "c501d1f49d80a815",
   "outputs": [
    {
     "name": "stdout",
     "output_type": "stream",
     "text": [
      "[До шума ] k=2, Дисперсия=0.9580\n",
      "[После добавки шума ] k=2, Дисперсия=0.9410\n",
      "Разница в Дисперсиях: -0.0170\n"
     ]
    }
   ],
   "execution_count": 41
  },
  {
   "metadata": {},
   "cell_type": "markdown",
   "source": "### Применение PCA на реальных данных",
   "id": "67ab9ccf7a1f14cc"
  },
  {
   "metadata": {},
   "cell_type": "markdown",
   "source": "Для начала скачаем датасетик с пивом)",
   "id": "1f94f488d01cd214"
  },
  {
   "metadata": {},
   "cell_type": "markdown",
   "source": "Напишем вспомогательные функции для машинки",
   "id": "fb8a674982f68930"
  },
  {
   "metadata": {
    "ExecuteTime": {
     "end_time": "2025-04-21T22:59:07.349839Z",
     "start_time": "2025-04-21T22:59:07.347497Z"
    }
   },
   "cell_type": "code",
   "source": [
    "def separate_features_target(data_matrix: Matrix) -> Tuple[Matrix, Matrix]:\n",
    "    \"\"\"\n",
    "    Выделяем целевую переменную (Efficiency)\n",
    "    X содержит: [calories, abv, IBU, SRM, Price, User Rating]\n",
    "    y: [Efficiency]\n",
    "    \"\"\"\n",
    "    X_data = []\n",
    "    y_data = []\n",
    "\n",
    "    for i in range(data_matrix.rows):\n",
    "        row = data_matrix.row(i)\n",
    "        X_data.append(row[:6])  # Первые 6 признаков\n",
    "        y_data.append([row[6]])  # Целевая переменная (Efficiency)\n",
    "\n",
    "    return Matrix(X_data), Matrix(y_data)"
   ],
   "id": "528c265ce9b2b007",
   "outputs": [],
   "execution_count": 42
  },
  {
   "metadata": {
    "ExecuteTime": {
     "end_time": "2025-04-21T22:59:07.361372Z",
     "start_time": "2025-04-21T22:59:07.358772Z"
    }
   },
   "cell_type": "code",
   "source": [
    "def transform_pca(X: Matrix, W: Matrix, means: List[float]) -> Matrix:\n",
    "    \"\"\"\n",
    "    Преобразует тестовые данные X по матрице W и средним значениям means,\n",
    "    используя ту же центрировку, что и обучающие данные\n",
    "    X_proj = (X - means) @ W\n",
    "    \"\"\"\n",
    "    n, m = X.rows, X.cols\n",
    "    # Центрируем X с использованием means из обучающей выборки\n",
    "    X_centered_data = []\n",
    "    for i in range(n):\n",
    "        row = []\n",
    "        for j in range(m):\n",
    "            row.append(X[i, j] - means[j])\n",
    "        X_centered_data.append(row)\n",
    "    X_centered = Matrix(X_centered_data)\n",
    "    return X_centered @ W"
   ],
   "id": "2a1a16b286a0d46e",
   "outputs": [],
   "execution_count": 43
  },
  {
   "metadata": {
    "ExecuteTime": {
     "end_time": "2025-04-21T22:59:07.382597Z",
     "start_time": "2025-04-21T22:59:07.379140Z"
    }
   },
   "cell_type": "code",
   "source": [
    "def add_intercept_column(X: Matrix) -> Matrix:\n",
    "    \"\"\"Добавляем столбец из 1 (интерсепт) слева: X' (n×(m+1))\"\"\"\n",
    "    n, m = X.rows, X.cols\n",
    "    new_data = []\n",
    "    for i in range(n):\n",
    "        row = [1.0]  # intercept\n",
    "        for j in range(m):\n",
    "            row.append(X[i, j])\n",
    "        new_data.append(row)\n",
    "    return Matrix(new_data)\n",
    "\n",
    "\n",
    "def train_linear_regression(X: Matrix, y: Matrix) -> Matrix:\n",
    "    \"\"\"\n",
    "    Решаем w = (X^T X)^(-1) X^T y  (Normal Equation)\n",
    "    X: (n×m), y: (n×1)\n",
    "    Возвращаем w: (m×1)\n",
    "    \"\"\"\n",
    "    X_aug = add_intercept_column(X)\n",
    "    XT = X_aug.transpose()\n",
    "\n",
    "    try:\n",
    "        A = XT @ X_aug\n",
    "        B = XT @ y\n",
    "        w_vec = solve_system(A, B)\n",
    "        return Matrix([[val] for val in w_vec])\n",
    "    except Exception as e:\n",
    "        raise ValueError(f\"Matrix inversion failed: {e}\")\n",
    "\n",
    "\n",
    "def predict_linear_regression(X: Matrix, w: Matrix) -> Matrix:\n",
    "    \"\"\"\n",
    "    Предсказывает y = X_aug @ w\n",
    "    X: (n×m), w: ((m+1)×1)\n",
    "    Возвращает y_pred: (n×1)\n",
    "    \"\"\"\n",
    "    X_aug = add_intercept_column(X)\n",
    "    return X_aug @ w\n",
    "\n",
    "\n",
    "def mse(y_true: Matrix, y_pred: Matrix) -> float:\n",
    "    \"\"\"\n",
    "    Среднеквадратичная ошибка\n",
    "    y_true, y_pred: (n×1)\n",
    "    \"\"\"\n",
    "    n = y_true.rows\n",
    "    sse = 0.0\n",
    "    for i in range(n):\n",
    "        diff = y_true[i, 0] - y_pred[i, 0]\n",
    "        sse += diff ** 2\n",
    "    return sse / n"
   ],
   "id": "9700134b9dc8aa88",
   "outputs": [],
   "execution_count": 44
  },
  {
   "metadata": {},
   "cell_type": "markdown",
   "source": "Напишем функцию считывание датасета",
   "id": "75eb17de4975a7a3"
  },
  {
   "metadata": {
    "ExecuteTime": {
     "end_time": "2025-04-21T22:59:07.394387Z",
     "start_time": "2025-04-21T22:59:07.391486Z"
    }
   },
   "cell_type": "code",
   "source": [
    "def load_csv(file_path: str) -> Matrix:\n",
    "    \"\"\"Считывает датасет Beers из CSV-файла\"\"\"\n",
    "    data = []\n",
    "    with open(file_path, \"r\", encoding=\"utf-8\") as csvfile:\n",
    "        reader = csv.reader(csvfile)\n",
    "        next(reader)  # Пропускаем заголовок\n",
    "\n",
    "        for row_idx, row in enumerate(reader):\n",
    "            if len(row) != 8:  # Проверяем 8 колонок\n",
    "                print(f\"Пропуск строки {row_idx}: неверное количество колонок\")\n",
    "                continue\n",
    "\n",
    "            try:\n",
    "                processed_row = [\n",
    "                    int(row[1]),  # calories\n",
    "                    float(row[2]),  # abv\n",
    "                    int(row[3]),  # IBU\n",
    "                    int(row[4]),  # SRM\n",
    "                    float(row[5]),  # Price\n",
    "                    float(row[6]),  # User Rating\n",
    "                    float(row[7])  # Efficiency (целевая переменная)\n",
    "                ]\n",
    "                data.append(processed_row)\n",
    "\n",
    "            except (ValueError, IndexError) as e:\n",
    "                print(f\"Пропуск строки {row_idx}: ошибка преобразования - {str(e)}\")\n",
    "                continue\n",
    "\n",
    "    return Matrix(data)\n"
   ],
   "id": "f4e88ff51bfaa2b3",
   "outputs": [],
   "execution_count": 45
  },
  {
   "metadata": {
    "ExecuteTime": {
     "end_time": "2025-04-21T22:59:07.412959Z",
     "start_time": "2025-04-21T22:59:07.408692Z"
    }
   },
   "cell_type": "code",
   "source": [
    "def apply_pca_to_dataset(dataset_name: str, k: int) -> Tuple['Matrix', float]:\n",
    "    \"\"\"\n",
    "    Вход:\n",
    "      dataset_name: название датасета\n",
    "      k: число главных компонент\n",
    "    Выход: кортеж (проекция данных, качество модели)\n",
    "    \"\"\"\n",
    "    # Загружаем датасет\n",
    "    X = load_csv(dataset_name)\n",
    "\n",
    "    # Разделяем данные на X и y\n",
    "    X_data, y_data = separate_features_target(X)\n",
    "\n",
    "    # Сохраняем исходные данные для сравнения\n",
    "    X_original = X_data.copy()\n",
    "\n",
    "    X_data_list = [X_original.row(i) for i in range(X_original.rows)]\n",
    "    y_data_list = [y_data.row(i) for i in range(y_data.rows)]\n",
    "\n",
    "    # Разделяем на обучающие и тестовые выборки\n",
    "    split_index = int(0.7 * len(X_data_list))\n",
    "    X_train = Matrix(X_data_list[:split_index])\n",
    "    X_test = Matrix(X_data_list[split_index:])\n",
    "    y_train = Matrix(y_data_list[:split_index])\n",
    "    y_test = Matrix(y_data_list[split_index:])\n",
    "\n",
    "    # Сравниваем метрики качества до и после PCA\n",
    "    # Без применения PCA\n",
    "    w_no_pca = train_linear_regression(X_train, y_train)\n",
    "    y_pred_test_no_pca = predict_linear_regression(X_test, w_no_pca)\n",
    "    no_pca_mse = mse(y_test, y_pred_test_no_pca)\n",
    "\n",
    "    # С применением PCA\n",
    "    X_train_pca, gamma, k_used, W, means_train = pca(X_train, k)\n",
    "    X_test_pca = transform_pca(X_test, W, means_train)\n",
    "\n",
    "    w_pca = train_linear_regression(X_train_pca, y_train)\n",
    "    y_pred_test_pca = predict_linear_regression(X_test_pca, w_pca)\n",
    "    pca_mse = mse(y_test, y_pred_test_pca)\n",
    "\n",
    "    X_proj = X_train_pca\n",
    "\n",
    "    # 7) Выводим результаты\n",
    "    print(f\"PCA на датасете '{dataset_name}':\")\n",
    "    print(f\"  Исходные размерности: {X.rows} объектов, {X.cols} признаков.\")\n",
    "    print(f\"  k_used={k_used}, доля объяснённой дисперсии={gamma:.4f}\")\n",
    "    print(f\"  Итоговая матрица X_proj: {X_proj.rows}х{X_proj.cols}.\")\n",
    "\n",
    "    print(\"Метрики качества:\")\n",
    "    print(f\"  MSE без PCA: {no_pca_mse:.4f}\")\n",
    "    print(f\"  MSE с PCA: {pca_mse:.4f}\")\n",
    "\n",
    "    return X_proj, gamma"
   ],
   "id": "2bc5c4d776ca2ee2",
   "outputs": [],
   "execution_count": 46
  },
  {
   "metadata": {
    "jupyter": {
     "is_executing": true
    },
    "ExecuteTime": {
     "start_time": "2025-04-21T22:59:07.423163Z"
    }
   },
   "cell_type": "code",
   "source": "apply_pca_to_dataset('D:/University_labs/linal/beers.csv', k=None)",
   "id": "c26a8e89d14bffb8",
   "outputs": [],
   "execution_count": null
  }
 ],
 "metadata": {
  "kernelspec": {
   "display_name": "Python 3",
   "language": "python",
   "name": "python3"
  },
  "language_info": {
   "codemirror_mode": {
    "name": "ipython",
    "version": 2
   },
   "file_extension": ".py",
   "mimetype": "text/x-python",
   "name": "python",
   "nbconvert_exporter": "python",
   "pygments_lexer": "ipython2",
   "version": "2.7.6"
  }
 },
 "nbformat": 4,
 "nbformat_minor": 5
}
